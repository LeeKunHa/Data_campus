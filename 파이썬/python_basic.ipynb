{
 "cells": [
  {
   "cell_type": "code",
   "execution_count": 5,
   "id": "795b3405",
   "metadata": {
    "scrolled": true
   },
   "outputs": [
    {
     "name": "stdout",
     "output_type": "stream",
     "text": [
      "peng-ha\n"
     ]
    }
   ],
   "source": [
    "print(\"peng-ha\")"
   ]
  },
  {
   "cell_type": "markdown",
   "id": "57a1e2dc",
   "metadata": {},
   "source": [
    "markdown\n",
    "# markdown\n",
    "## markdown"
   ]
  },
  {
   "cell_type": "markdown",
   "id": "fe39c3f3",
   "metadata": {},
   "source": [
    "markdown\n",
    "\n",
    "-markdown\n",
    "     -markdown\n",
    "        -markdown"
   ]
  },
  {
   "cell_type": "markdown",
   "id": "fd33c302",
   "metadata": {},
   "source": [
    "$y=$x"
   ]
  },
  {
   "cell_type": "markdown",
   "id": "ace4828a",
   "metadata": {},
   "source": [
    "[네이버](www.naver.com)"
   ]
  },
  {
   "cell_type": "code",
   "execution_count": null,
   "id": "f44a6585",
   "metadata": {},
   "outputs": [],
   "source": []
  }
 ],
 "metadata": {
  "kernelspec": {
   "display_name": "Python 3",
   "language": "python",
   "name": "python3"
  },
  "language_info": {
   "codemirror_mode": {
    "name": "ipython",
    "version": 3
   },
   "file_extension": ".py",
   "mimetype": "text/x-python",
   "name": "python",
   "nbconvert_exporter": "python",
   "pygments_lexer": "ipython3",
   "version": "3.8.8"
  }
 },
 "nbformat": 4,
 "nbformat_minor": 5
}
