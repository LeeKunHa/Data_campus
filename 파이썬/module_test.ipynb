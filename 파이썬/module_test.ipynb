{
 "cells": [
  {
   "cell_type": "code",
   "execution_count": 6,
   "id": "d2d1c10b",
   "metadata": {},
   "outputs": [],
   "source": [
    "'''\n",
    "    모듈명 : module_test\n",
    "    mean : 리스트 평균\n",
    "    calc : 두 수의 사칙연산 결과\n",
    "'''\n",
    "# 리스트 평균 구하는 함수\n",
    "def mean(nums):\n",
    "    return sum(nums) / len(nums)\n",
    "\n",
    "# 두 수의 사칙연산 결과를 구하는 함수\n",
    "def calc(x, y):\n",
    "    add = x + y\n",
    "    sub = x - y\n",
    "    mult = x * y\n",
    "    div = x/y\n",
    "    return add, sub, mult, div"
   ]
  }
 ],
 "metadata": {
  "kernelspec": {
   "display_name": "Python 3",
   "language": "python",
   "name": "python3"
  },
  "language_info": {
   "codemirror_mode": {
    "name": "ipython",
    "version": 3
   },
   "file_extension": ".py",
   "mimetype": "text/x-python",
   "name": "python",
   "nbconvert_exporter": "python",
   "pygments_lexer": "ipython3",
   "version": "3.8.8"
  }
 },
 "nbformat": 4,
 "nbformat_minor": 5
}
