{
 "cells": [
  {
   "cell_type": "markdown",
   "id": "b79a9bdc",
   "metadata": {},
   "source": [
    "- #### 구구단을 2 - 9단까지 출력하세요. "
   ]
  },
  {
   "cell_type": "code",
   "execution_count": 3,
   "id": "8ad72836",
   "metadata": {
    "collapsed": true
   },
   "outputs": [
    {
     "name": "stdout",
     "output_type": "stream",
     "text": [
      "2 * 1 = 2\n",
      "2 * 2 = 4\n",
      "2 * 3 = 6\n",
      "2 * 4 = 8\n",
      "2 * 5 = 10\n",
      "2 * 6 = 12\n",
      "2 * 7 = 14\n",
      "2 * 8 = 16\n",
      "2 * 9 = 18\n",
      "3 * 1 = 3\n",
      "3 * 2 = 6\n",
      "3 * 3 = 9\n",
      "3 * 4 = 12\n",
      "3 * 5 = 15\n",
      "3 * 6 = 18\n",
      "3 * 7 = 21\n",
      "3 * 8 = 24\n",
      "3 * 9 = 27\n",
      "4 * 1 = 4\n",
      "4 * 2 = 8\n",
      "4 * 3 = 12\n",
      "4 * 4 = 16\n",
      "4 * 5 = 20\n",
      "4 * 6 = 24\n",
      "4 * 7 = 28\n",
      "4 * 8 = 32\n",
      "4 * 9 = 36\n",
      "5 * 1 = 5\n",
      "5 * 2 = 10\n",
      "5 * 3 = 15\n",
      "5 * 4 = 20\n",
      "5 * 5 = 25\n",
      "5 * 6 = 30\n",
      "5 * 7 = 35\n",
      "5 * 8 = 40\n",
      "5 * 9 = 45\n",
      "6 * 1 = 6\n",
      "6 * 2 = 12\n",
      "6 * 3 = 18\n",
      "6 * 4 = 24\n",
      "6 * 5 = 30\n",
      "6 * 6 = 36\n",
      "6 * 7 = 42\n",
      "6 * 8 = 48\n",
      "6 * 9 = 54\n",
      "7 * 1 = 7\n",
      "7 * 2 = 14\n",
      "7 * 3 = 21\n",
      "7 * 4 = 28\n",
      "7 * 5 = 35\n",
      "7 * 6 = 42\n",
      "7 * 7 = 49\n",
      "7 * 8 = 56\n",
      "7 * 9 = 63\n",
      "8 * 1 = 8\n",
      "8 * 2 = 16\n",
      "8 * 3 = 24\n",
      "8 * 4 = 32\n",
      "8 * 5 = 40\n",
      "8 * 6 = 48\n",
      "8 * 7 = 56\n",
      "8 * 8 = 64\n",
      "8 * 9 = 72\n",
      "9 * 1 = 9\n",
      "9 * 2 = 18\n",
      "9 * 3 = 27\n",
      "9 * 4 = 36\n",
      "9 * 5 = 45\n",
      "9 * 6 = 54\n",
      "9 * 7 = 63\n",
      "9 * 8 = 72\n",
      "9 * 9 = 81\n",
      "end\n"
     ]
    }
   ],
   "source": [
    "a = [2, 3, 4, 5, 6, 7, 8, 9]\n",
    "b = list(range(1, 10))\n",
    "\n",
    "for i in a:\n",
    "    for j in b:\n",
    "        print(i, \"*\", j, \"=\", i*j)\n",
    "print(\"end\")"
   ]
  },
  {
   "cell_type": "code",
   "execution_count": 4,
   "id": "f985c2e0",
   "metadata": {
    "collapsed": true
   },
   "outputs": [
    {
     "name": "stdout",
     "output_type": "stream",
     "text": [
      "2 x 1 = 2\n",
      "2 x 2 = 4\n",
      "2 x 3 = 6\n",
      "2 x 4 = 8\n",
      "2 x 5 = 10\n",
      "2 x 6 = 12\n",
      "2 x 7 = 14\n",
      "2 x 8 = 16\n",
      "2 x 9 = 18\n",
      "3 x 1 = 3\n",
      "3 x 2 = 6\n",
      "3 x 3 = 9\n",
      "3 x 4 = 12\n",
      "3 x 5 = 15\n",
      "3 x 6 = 18\n",
      "3 x 7 = 21\n",
      "3 x 8 = 24\n",
      "3 x 9 = 27\n",
      "4 x 1 = 4\n",
      "4 x 2 = 8\n",
      "4 x 3 = 12\n",
      "4 x 4 = 16\n",
      "4 x 5 = 20\n",
      "4 x 6 = 24\n",
      "4 x 7 = 28\n",
      "4 x 8 = 32\n",
      "4 x 9 = 36\n",
      "5 x 1 = 5\n",
      "5 x 2 = 10\n",
      "5 x 3 = 15\n",
      "5 x 4 = 20\n",
      "5 x 5 = 25\n",
      "5 x 6 = 30\n",
      "5 x 7 = 35\n",
      "5 x 8 = 40\n",
      "5 x 9 = 45\n",
      "6 x 1 = 6\n",
      "6 x 2 = 12\n",
      "6 x 3 = 18\n",
      "6 x 4 = 24\n",
      "6 x 5 = 30\n",
      "6 x 6 = 36\n",
      "6 x 7 = 42\n",
      "6 x 8 = 48\n",
      "6 x 9 = 54\n",
      "7 x 1 = 7\n",
      "7 x 2 = 14\n",
      "7 x 3 = 21\n",
      "7 x 4 = 28\n",
      "7 x 5 = 35\n",
      "7 x 6 = 42\n",
      "7 x 7 = 49\n",
      "7 x 8 = 56\n",
      "7 x 9 = 63\n",
      "8 x 1 = 8\n",
      "8 x 2 = 16\n",
      "8 x 3 = 24\n",
      "8 x 4 = 32\n",
      "8 x 5 = 40\n",
      "8 x 6 = 48\n",
      "8 x 7 = 56\n",
      "8 x 8 = 64\n",
      "8 x 9 = 72\n",
      "9 x 1 = 9\n",
      "9 x 2 = 18\n",
      "9 x 3 = 27\n",
      "9 x 4 = 36\n",
      "9 x 5 = 45\n",
      "9 x 6 = 54\n",
      "9 x 7 = 63\n",
      "9 x 8 = 72\n",
      "9 x 9 = 81\n"
     ]
    }
   ],
   "source": [
    "x = 2\n",
    "while x <= 9:\n",
    "    y = 1\n",
    "    while y <= 9:\n",
    "        print(x, \"x\", y, \"=\", x*y)\n",
    "        y = y + 1\n",
    "    x = x + 1"
   ]
  },
  {
   "cell_type": "markdown",
   "id": "259d147d",
   "metadata": {},
   "source": [
    "- #### 1 - 100 까지 정수 중 3의 배수 또는 7의 배수를 모두 출력하세요."
   ]
  },
  {
   "cell_type": "code",
   "execution_count": 5,
   "id": "2ba7dad1",
   "metadata": {
    "collapsed": true
   },
   "outputs": [
    {
     "name": "stdout",
     "output_type": "stream",
     "text": [
      "3\n",
      "6\n",
      "7\n",
      "9\n",
      "12\n",
      "14\n",
      "15\n",
      "18\n",
      "21\n",
      "24\n",
      "27\n",
      "28\n",
      "30\n",
      "33\n",
      "35\n",
      "36\n",
      "39\n",
      "42\n",
      "45\n",
      "48\n",
      "49\n",
      "51\n",
      "54\n",
      "56\n",
      "57\n",
      "60\n",
      "63\n",
      "66\n",
      "69\n",
      "70\n",
      "72\n",
      "75\n",
      "77\n",
      "78\n",
      "81\n",
      "84\n",
      "87\n",
      "90\n",
      "91\n",
      "93\n",
      "96\n",
      "98\n",
      "99\n"
     ]
    }
   ],
   "source": [
    "a = list(range(1, 101))\n",
    "\n",
    "for i in a:\n",
    "    if i % 3 == 0 or i % 7 == 0:\n",
    "        print(i)"
   ]
  },
  {
   "cell_type": "markdown",
   "id": "e67da492",
   "metadata": {},
   "source": [
    "- #### a = [3, 25, 34, 87, 55, 49, 7, 97, 63, 28] 에서 최대값, 최소값, 평균을 구하세요."
   ]
  },
  {
   "cell_type": "code",
   "execution_count": 16,
   "id": "41e44b02",
   "metadata": {},
   "outputs": [
    {
     "name": "stdout",
     "output_type": "stream",
     "text": [
      "최소값: 3 최대값: 97\n"
     ]
    }
   ],
   "source": [
    "a = [3, 25, 34, 87, 55, 49, 7, 97, 63, 28]\n",
    "\n",
    "_min = a[0]\n",
    "_max = a[0]\n",
    "for x in a:\n",
    "    if x < _min:\n",
    "        _min = x\n",
    "    if x > _max:\n",
    "        _max = x\n",
    "print(\"최소값:\", _min,\"최대값:\", _max)"
   ]
  },
  {
   "cell_type": "code",
   "execution_count": 17,
   "id": "73842ba1",
   "metadata": {},
   "outputs": [
    {
     "name": "stdout",
     "output_type": "stream",
     "text": [
      "평균: 44.8\n"
     ]
    }
   ],
   "source": [
    "a = [3, 25, 34, 87, 55, 49, 7, 97, 63, 28]\n",
    "\n",
    "_sum = 0\n",
    "for i in a:\n",
    "    _sum= _sum + i\n",
    "    \n",
    "print(\"평균:\", _sum/len(a))"
   ]
  },
  {
   "cell_type": "markdown",
   "id": "2419832f",
   "metadata": {},
   "source": [
    "- #### 주어진 숫자 리스트의 평균을 구하는 함수를 정의하시오."
   ]
  },
  {
   "cell_type": "code",
   "execution_count": 18,
   "id": "6ed3420b",
   "metadata": {},
   "outputs": [],
   "source": [
    "def mean(lists):\n",
    "    return sum(lists) / len(lists)"
   ]
  },
  {
   "cell_type": "code",
   "execution_count": 20,
   "id": "3c45539f",
   "metadata": {},
   "outputs": [
    {
     "name": "stdout",
     "output_type": "stream",
     "text": [
      "3.0\n"
     ]
    }
   ],
   "source": [
    "a = [1, 2, 3, 4, 5]\n",
    "print(mean(a))"
   ]
  },
  {
   "cell_type": "markdown",
   "id": "58ee2ae3",
   "metadata": {},
   "source": [
    "- #### 이름과 나이를 입력받아 자기소개하는 함수를 정의하시오."
   ]
  },
  {
   "cell_type": "code",
   "execution_count": 31,
   "id": "d441bc66",
   "metadata": {},
   "outputs": [
    {
     "name": "stdout",
     "output_type": "stream",
     "text": [
      "내 이름은 이건하입니다.\n",
      "나이는 24세 입니다.\n",
      "None\n"
     ]
    }
   ],
   "source": [
    "def say_myself(name, old):\n",
    "    print(\"내 이름은 {}입니다.\".format(name))\n",
    "    print(\"나이는 {}세 입니다.\".format(old))\n",
    "print(say_myself('이건하', 24))"
   ]
  },
  {
   "cell_type": "markdown",
   "id": "38e27a01",
   "metadata": {},
   "source": [
    "- #### 두개의 숫자를 입력받아 사칙연산 결과를 출력하는 함수를 정의하시오."
   ]
  },
  {
   "cell_type": "code",
   "execution_count": 33,
   "id": "f5534dcc",
   "metadata": {},
   "outputs": [],
   "source": [
    "def calc(x, y):\n",
    "    add = x + y\n",
    "    sub = x - y\n",
    "    mult = x * y\n",
    "    div = x / y\n",
    "    return add, sub, mult, div"
   ]
  },
  {
   "cell_type": "code",
   "execution_count": 34,
   "id": "ba51393e",
   "metadata": {},
   "outputs": [
    {
     "data": {
      "text/plain": [
       "(110, -90, 1000, 0.1)"
      ]
     },
     "execution_count": 34,
     "metadata": {},
     "output_type": "execute_result"
    }
   ],
   "source": [
    "calc(10, 100)"
   ]
  }
 ],
 "metadata": {
  "kernelspec": {
   "display_name": "Python 3",
   "language": "python",
   "name": "python3"
  },
  "language_info": {
   "codemirror_mode": {
    "name": "ipython",
    "version": 3
   },
   "file_extension": ".py",
   "mimetype": "text/x-python",
   "name": "python",
   "nbconvert_exporter": "python",
   "pygments_lexer": "ipython3",
   "version": "3.8.8"
  }
 },
 "nbformat": 4,
 "nbformat_minor": 5
}
