{
 "cells": [
  {
   "cell_type": "markdown",
   "id": "3c138516",
   "metadata": {},
   "source": [
    "- #### 로또 번호 자동 생성기를 함수를 이용해 만드시오."
   ]
  },
  {
   "cell_type": "code",
   "execution_count": 8,
   "id": "076cf56f",
   "metadata": {},
   "outputs": [],
   "source": [
    "import numpy as np"
   ]
  },
  {
   "cell_type": "code",
   "execution_count": 9,
   "id": "4e1296b5",
   "metadata": {},
   "outputs": [],
   "source": [
    "def lotto():\n",
    "    return np.random.choice(np.arange(1, 46), size = 6, replace = False)"
   ]
  },
  {
   "cell_type": "code",
   "execution_count": 11,
   "id": "53367a78",
   "metadata": {},
   "outputs": [
    {
     "data": {
      "text/plain": [
       "array([34,  4,  8, 41, 38, 33])"
      ]
     },
     "execution_count": 11,
     "metadata": {},
     "output_type": "execute_result"
    }
   ],
   "source": [
    "lotto()"
   ]
  },
  {
   "cell_type": "markdown",
   "id": "497aff3b",
   "metadata": {},
   "source": [
    "- #### $x > 30$ 인 원소 필터링"
   ]
  },
  {
   "cell_type": "code",
   "execution_count": 13,
   "id": "2fd9caa4",
   "metadata": {},
   "outputs": [
    {
     "name": "stdout",
     "output_type": "stream",
     "text": [
      "[80 44 88 92 36 97  4 36 50 75]\n"
     ]
    }
   ],
   "source": [
    "x = np.random.randint(1, 100, size=10)\n",
    "print(x)"
   ]
  },
  {
   "cell_type": "code",
   "execution_count": 14,
   "id": "24807403",
   "metadata": {},
   "outputs": [
    {
     "name": "stdout",
     "output_type": "stream",
     "text": [
      "[80 44 88 92 36 97  4 36 50 75]\n"
     ]
    }
   ],
   "source": [
    "print(x)"
   ]
  },
  {
   "cell_type": "code",
   "execution_count": 16,
   "id": "1efe24eb",
   "metadata": {},
   "outputs": [
    {
     "data": {
      "text/plain": [
       "array([ True,  True,  True,  True,  True,  True, False,  True,  True,\n",
       "        True])"
      ]
     },
     "execution_count": 16,
     "metadata": {},
     "output_type": "execute_result"
    }
   ],
   "source": [
    "x > 30"
   ]
  },
  {
   "cell_type": "code",
   "execution_count": 15,
   "id": "f3dbfb99",
   "metadata": {},
   "outputs": [
    {
     "data": {
      "text/plain": [
       "array([80, 44, 88, 92, 36, 97, 36, 50, 75])"
      ]
     },
     "execution_count": 15,
     "metadata": {},
     "output_type": "execute_result"
    }
   ],
   "source": [
    "x[x > 30]"
   ]
  },
  {
   "cell_type": "markdown",
   "id": "e5d7496c",
   "metadata": {},
   "source": [
    "- #### 짝수이고, $x < 50$ 인 원소 필터링"
   ]
  },
  {
   "cell_type": "code",
   "execution_count": 17,
   "id": "09b213fc",
   "metadata": {},
   "outputs": [
    {
     "data": {
      "text/plain": [
       "array([ True,  True,  True,  True,  True, False,  True,  True,  True,\n",
       "       False])"
      ]
     },
     "execution_count": 17,
     "metadata": {},
     "output_type": "execute_result"
    }
   ],
   "source": [
    "x % 2 == 0"
   ]
  },
  {
   "cell_type": "code",
   "execution_count": 18,
   "id": "4740bd1b",
   "metadata": {},
   "outputs": [
    {
     "data": {
      "text/plain": [
       "array([False,  True, False, False,  True, False,  True,  True, False,\n",
       "       False])"
      ]
     },
     "execution_count": 18,
     "metadata": {},
     "output_type": "execute_result"
    }
   ],
   "source": [
    "x < 50"
   ]
  },
  {
   "cell_type": "code",
   "execution_count": 21,
   "id": "b0f4e0f5",
   "metadata": {},
   "outputs": [
    {
     "data": {
      "text/plain": [
       "array([44, 36,  4, 36])"
      ]
     },
     "execution_count": 21,
     "metadata": {},
     "output_type": "execute_result"
    }
   ],
   "source": [
    "x[(x % 2 == 0) & (x < 50)]"
   ]
  },
  {
   "cell_type": "markdown",
   "id": "22debca9",
   "metadata": {},
   "source": [
    "- #### $x < 50$ 이거나 $x > 80$인 원소 필터링"
   ]
  },
  {
   "cell_type": "code",
   "execution_count": 22,
   "id": "6dc1cdb7",
   "metadata": {},
   "outputs": [
    {
     "data": {
      "text/plain": [
       "array([False,  True, False, False,  True, False,  True,  True, False,\n",
       "       False])"
      ]
     },
     "execution_count": 22,
     "metadata": {},
     "output_type": "execute_result"
    }
   ],
   "source": [
    "x < 50"
   ]
  },
  {
   "cell_type": "code",
   "execution_count": 23,
   "id": "83de5e93",
   "metadata": {},
   "outputs": [
    {
     "data": {
      "text/plain": [
       "array([False, False,  True,  True, False,  True, False, False, False,\n",
       "       False])"
      ]
     },
     "execution_count": 23,
     "metadata": {},
     "output_type": "execute_result"
    }
   ],
   "source": [
    "x > 80"
   ]
  },
  {
   "cell_type": "code",
   "execution_count": 24,
   "id": "39ef00ca",
   "metadata": {},
   "outputs": [
    {
     "data": {
      "text/plain": [
       "array([44, 88, 92, 36, 97,  4, 36])"
      ]
     },
     "execution_count": 24,
     "metadata": {},
     "output_type": "execute_result"
    }
   ],
   "source": [
    "x[(x < 50) | (x > 80)]"
   ]
  },
  {
   "cell_type": "markdown",
   "id": "bcceafb5",
   "metadata": {},
   "source": [
    "- #### redwine 의 변수(열, column)별 평균값을 구하시오."
   ]
  },
  {
   "cell_type": "code",
   "execution_count": 25,
   "id": "9c662d4d",
   "metadata": {
    "collapsed": true
   },
   "outputs": [
    {
     "name": "stdout",
     "output_type": "stream",
     "text": [
      "[[ 3.51  9.4   5.  ]\n",
      " [ 3.2   9.8   5.  ]\n",
      " [ 3.26  9.8   5.  ]\n",
      " [ 3.16  9.8   6.  ]\n",
      " [ 3.51  9.4   5.  ]\n",
      " [ 3.51  9.4   5.  ]\n",
      " [ 3.3   9.4   5.  ]\n",
      " [ 3.39 10.    7.  ]\n",
      " [ 3.36  9.5   7.  ]\n",
      " [ 3.35 10.5   5.  ]\n",
      " [ 3.28  9.2   5.  ]\n",
      " [ 3.35 10.5   5.  ]\n",
      " [ 3.58  9.9   5.  ]\n",
      " [ 3.26  9.1   5.  ]\n",
      " [ 3.16  9.2   5.  ]\n",
      " [ 3.17  9.2   5.  ]\n",
      " [ 3.3  10.5   7.  ]\n",
      " [ 3.11  9.3   5.  ]\n",
      " [ 3.38  9.    4.  ]\n",
      " [ 3.04  9.2   6.  ]\n",
      " [ 3.39  9.4   6.  ]\n",
      " [ 3.52  9.7   5.  ]\n",
      " [ 3.17  9.5   5.  ]\n",
      " [ 3.17  9.4   5.  ]\n",
      " [ 3.43  9.7   6.  ]\n",
      " [ 3.34  9.3   5.  ]\n",
      " [ 3.28  9.5   5.  ]\n",
      " [ 3.17  9.5   5.  ]\n",
      " [ 3.47  9.4   5.  ]\n",
      " [ 3.38  9.8   6.  ]\n",
      " [ 3.35 10.1   5.  ]\n",
      " [ 3.46 10.6   6.  ]\n",
      " [ 3.17  9.8   5.  ]\n",
      " [ 3.45  9.4   6.  ]\n",
      " [ 3.38  9.2   5.  ]\n",
      " [ 3.4   9.6   6.  ]\n",
      " [ 3.42 10.8   6.  ]\n",
      " [ 3.23  9.7   7.  ]\n",
      " [ 3.5   9.8   4.  ]\n",
      " [ 3.33 10.5   5.  ]\n",
      " [ 3.33 10.5   5.  ]\n",
      " [ 3.26  9.3   4.  ]\n",
      " [ 3.21 10.5   6.  ]\n",
      " [ 3.3  10.3   5.  ]\n",
      " [ 3.48  9.5   5.  ]\n",
      " [ 3.9  13.1   4.  ]\n",
      " [ 3.25  9.2   5.  ]\n",
      " [ 3.25  9.5   5.  ]\n",
      " [ 3.34  9.2   5.  ]\n",
      " [ 3.32  9.2   5.  ]\n",
      " [ 3.15  9.2   5.  ]\n",
      " [ 3.4   9.4   6.  ]\n",
      " [ 3.39  9.4   6.  ]\n",
      " [ 3.2   9.4   5.  ]\n",
      " [ 3.17 10.2   6.  ]\n",
      " [ 3.34  9.5   5.  ]\n",
      " [ 3.04  9.6   5.  ]\n",
      " [ 3.26  9.4   5.  ]\n",
      " [ 3.43 10.    5.  ]\n",
      " [ 3.41  9.4   6.  ]\n",
      " [ 3.44  9.2   5.  ]\n",
      " [ 3.21  9.3   5.  ]\n",
      " [ 3.38  9.5   7.  ]\n",
      " [ 3.39  9.8   5.  ]\n",
      " [ 3.41 10.9   5.  ]\n",
      " [ 3.41 10.9   5.  ]\n",
      " [ 3.42  9.6   5.  ]\n",
      " [ 3.44 10.7   5.  ]\n",
      " [ 3.28 10.7   5.  ]\n",
      " [ 3.34 10.5   6.  ]\n",
      " [ 3.32  9.5   6.  ]\n",
      " [ 3.32  9.5   5.  ]\n",
      " [ 3.31  9.5   5.  ]\n",
      " [ 3.31  9.2   4.  ]\n",
      " [ 3.28  9.6   5.  ]\n",
      " [ 3.54 10.5   5.  ]\n",
      " [ 3.54 10.5   5.  ]\n",
      " [ 3.52 10.7   6.  ]\n",
      " [ 3.38 10.1   5.  ]\n",
      " [ 3.16  9.1   4.  ]\n",
      " [ 3.41  9.2   5.  ]\n",
      " [ 3.13  9.4   5.  ]\n",
      " [ 3.36  9.1   5.  ]\n",
      " [ 3.16  9.4   5.  ]\n",
      " [ 3.44 10.3   6.  ]\n",
      " [ 3.41 10.1   5.  ]\n",
      " [ 2.93  9.9   6.  ]\n",
      " [ 3.39  9.6   5.  ]\n",
      " [ 3.14  9.5   5.  ]\n",
      " [ 3.48  9.    5.  ]\n",
      " [ 3.23  9.5   5.  ]\n",
      " [ 2.93  9.9   6.  ]\n",
      " [ 2.93  9.8   5.  ]\n",
      " [ 3.39  9.6   5.  ]\n",
      " [ 3.75 10.5   4.  ]\n",
      " [ 3.85 12.9   6.  ]\n",
      " [ 3.45 10.7   5.  ]\n",
      " [ 3.25  9.2   5.  ]\n",
      " [ 3.39  9.8   5.  ]\n",
      " [ 3.3   9.    6.  ]]\n"
     ]
    }
   ],
   "source": [
    "redwine = np.loadtxt(fname=\"wine_red.csv\", delimiter=\";\", skiprows=1)\n",
    "print(redwine)"
   ]
  },
  {
   "cell_type": "code",
   "execution_count": 26,
   "id": "396158f5",
   "metadata": {},
   "outputs": [
    {
     "data": {
      "text/plain": [
       "array([333.34, 978.3 , 525.  ])"
      ]
     },
     "execution_count": 26,
     "metadata": {},
     "output_type": "execute_result"
    }
   ],
   "source": [
    "redwine.sum(axis=0)"
   ]
  },
  {
   "cell_type": "code",
   "execution_count": 29,
   "id": "b2787efa",
   "metadata": {},
   "outputs": [
    {
     "data": {
      "text/plain": [
       "100"
      ]
     },
     "execution_count": 29,
     "metadata": {},
     "output_type": "execute_result"
    }
   ],
   "source": [
    "len(redwine)"
   ]
  },
  {
   "cell_type": "code",
   "execution_count": 30,
   "id": "68f7bc2c",
   "metadata": {},
   "outputs": [
    {
     "name": "stdout",
     "output_type": "stream",
     "text": [
      "[3.3334 9.783  5.25  ]\n"
     ]
    }
   ],
   "source": [
    "print(redwine.mean(axis=0))"
   ]
  },
  {
   "cell_type": "markdown",
   "id": "709d8129",
   "metadata": {},
   "source": [
    "- #### redwine 의 alcohol 평균값만 구하시오."
   ]
  },
  {
   "cell_type": "code",
   "execution_count": 31,
   "id": "ef5de5f7",
   "metadata": {},
   "outputs": [
    {
     "name": "stdout",
     "output_type": "stream",
     "text": [
      "9.783000000000001\n"
     ]
    }
   ],
   "source": [
    "print(redwine[:,1].mean())"
   ]
  },
  {
   "cell_type": "code",
   "execution_count": 32,
   "id": "1a012ef1",
   "metadata": {},
   "outputs": [
    {
     "data": {
      "text/plain": [
       "100"
      ]
     },
     "execution_count": 32,
     "metadata": {},
     "output_type": "execute_result"
    }
   ],
   "source": [
    "len(redwine)"
   ]
  },
  {
   "cell_type": "markdown",
   "id": "094dd713",
   "metadata": {},
   "source": [
    "- #### alcohol이 9.5 이상인 와인은 몇 개인지 구하시오."
   ]
  },
  {
   "cell_type": "code",
   "execution_count": 34,
   "id": "eff790c8",
   "metadata": {},
   "outputs": [
    {
     "data": {
      "text/plain": [
       "62"
      ]
     },
     "execution_count": 34,
     "metadata": {},
     "output_type": "execute_result"
    }
   ],
   "source": [
    "len(redwine[redwine[:, 1] >= 9.5])"
   ]
  },
  {
   "cell_type": "markdown",
   "id": "7a447d86",
   "metadata": {},
   "source": [
    "- #### alcohol이 9.5 이상인 와인의 평균 alchol 값은 얼마인지 구하시오."
   ]
  },
  {
   "cell_type": "code",
   "execution_count": 43,
   "id": "a85fa29a",
   "metadata": {},
   "outputs": [
    {
     "data": {
      "text/plain": [
       "10.1"
      ]
     },
     "execution_count": 43,
     "metadata": {},
     "output_type": "execute_result"
    }
   ],
   "source": [
    "redwine[redwine[:,1] >=9.5][:, 1].mean()"
   ]
  }
 ],
 "metadata": {
  "kernelspec": {
   "display_name": "Python 3",
   "language": "python",
   "name": "python3"
  },
  "language_info": {
   "codemirror_mode": {
    "name": "ipython",
    "version": 3
   },
   "file_extension": ".py",
   "mimetype": "text/x-python",
   "name": "python",
   "nbconvert_exporter": "python",
   "pygments_lexer": "ipython3",
   "version": "3.8.8"
  }
 },
 "nbformat": 4,
 "nbformat_minor": 5
}
