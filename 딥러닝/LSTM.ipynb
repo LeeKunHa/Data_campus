{
 "cells": [
  {
   "attachments": {},
   "cell_type": "markdown",
   "metadata": {},
   "source": [
    "### LSTM 문장생성하기\n",
    "- https://www.kaggle.com/aashita/nyt-comments\n",
    "- ArticlesApril2018.csv"
   ]
  },
  {
   "cell_type": "code",
   "execution_count": 3,
   "metadata": {},
   "outputs": [
    {
     "data": {
      "text/html": [
       "<div>\n",
       "<style scoped>\n",
       "    .dataframe tbody tr th:only-of-type {\n",
       "        vertical-align: middle;\n",
       "    }\n",
       "\n",
       "    .dataframe tbody tr th {\n",
       "        vertical-align: top;\n",
       "    }\n",
       "\n",
       "    .dataframe thead th {\n",
       "        text-align: right;\n",
       "    }\n",
       "</style>\n",
       "<table border=\"1\" class=\"dataframe\">\n",
       "  <thead>\n",
       "    <tr style=\"text-align: right;\">\n",
       "      <th></th>\n",
       "      <th>articleID</th>\n",
       "      <th>articleWordCount</th>\n",
       "      <th>byline</th>\n",
       "      <th>documentType</th>\n",
       "      <th>headline</th>\n",
       "      <th>keywords</th>\n",
       "      <th>multimedia</th>\n",
       "      <th>newDesk</th>\n",
       "      <th>printPage</th>\n",
       "      <th>pubDate</th>\n",
       "      <th>sectionName</th>\n",
       "      <th>snippet</th>\n",
       "      <th>source</th>\n",
       "      <th>typeOfMaterial</th>\n",
       "      <th>webURL</th>\n",
       "    </tr>\n",
       "  </thead>\n",
       "  <tbody>\n",
       "    <tr>\n",
       "      <th>0</th>\n",
       "      <td>5adf6684068401528a2aa69b</td>\n",
       "      <td>781</td>\n",
       "      <td>By JOHN BRANCH</td>\n",
       "      <td>article</td>\n",
       "      <td>Former N.F.L. Cheerleaders’ Settlement Offer: ...</td>\n",
       "      <td>['Workplace Hazards and Violations', 'Football...</td>\n",
       "      <td>68</td>\n",
       "      <td>Sports</td>\n",
       "      <td>0</td>\n",
       "      <td>2018-04-24 17:16:49</td>\n",
       "      <td>Pro Football</td>\n",
       "      <td>“I understand that they could meet with us, pa...</td>\n",
       "      <td>The New York Times</td>\n",
       "      <td>News</td>\n",
       "      <td>https://www.nytimes.com/2018/04/24/sports/foot...</td>\n",
       "    </tr>\n",
       "    <tr>\n",
       "      <th>1</th>\n",
       "      <td>5adf653f068401528a2aa697</td>\n",
       "      <td>656</td>\n",
       "      <td>By LISA FRIEDMAN</td>\n",
       "      <td>article</td>\n",
       "      <td>E.P.A. to Unveil a New Rule. Its Effect: Less ...</td>\n",
       "      <td>['Environmental Protection Agency', 'Pruitt, S...</td>\n",
       "      <td>68</td>\n",
       "      <td>Climate</td>\n",
       "      <td>0</td>\n",
       "      <td>2018-04-24 17:11:21</td>\n",
       "      <td>Unknown</td>\n",
       "      <td>The agency plans to publish a new regulation T...</td>\n",
       "      <td>The New York Times</td>\n",
       "      <td>News</td>\n",
       "      <td>https://www.nytimes.com/2018/04/24/climate/epa...</td>\n",
       "    </tr>\n",
       "    <tr>\n",
       "      <th>2</th>\n",
       "      <td>5adf4626068401528a2aa628</td>\n",
       "      <td>2427</td>\n",
       "      <td>By PETE WELLS</td>\n",
       "      <td>article</td>\n",
       "      <td>The New Noma, Explained</td>\n",
       "      <td>['Restaurants', 'Noma (Copenhagen, Restaurant)...</td>\n",
       "      <td>66</td>\n",
       "      <td>Dining</td>\n",
       "      <td>0</td>\n",
       "      <td>2018-04-24 14:58:44</td>\n",
       "      <td>Unknown</td>\n",
       "      <td>What’s it like to eat at the second incarnatio...</td>\n",
       "      <td>The New York Times</td>\n",
       "      <td>News</td>\n",
       "      <td>https://www.nytimes.com/2018/04/24/dining/noma...</td>\n",
       "    </tr>\n",
       "    <tr>\n",
       "      <th>3</th>\n",
       "      <td>5adf40d2068401528a2aa619</td>\n",
       "      <td>626</td>\n",
       "      <td>By JULIE HIRSCHFELD DAVIS and PETER BAKER</td>\n",
       "      <td>article</td>\n",
       "      <td>Unknown</td>\n",
       "      <td>['Macron, Emmanuel (1977- )', 'Trump, Donald J...</td>\n",
       "      <td>68</td>\n",
       "      <td>Washington</td>\n",
       "      <td>0</td>\n",
       "      <td>2018-04-24 14:35:57</td>\n",
       "      <td>Europe</td>\n",
       "      <td>President Trump welcomed President Emmanuel Ma...</td>\n",
       "      <td>The New York Times</td>\n",
       "      <td>News</td>\n",
       "      <td>https://www.nytimes.com/2018/04/24/world/europ...</td>\n",
       "    </tr>\n",
       "    <tr>\n",
       "      <th>4</th>\n",
       "      <td>5adf3d64068401528a2aa60f</td>\n",
       "      <td>815</td>\n",
       "      <td>By IAN AUSTEN and DAN BILEFSKY</td>\n",
       "      <td>article</td>\n",
       "      <td>Unknown</td>\n",
       "      <td>['Toronto, Ontario, Attack (April, 2018)', 'Mu...</td>\n",
       "      <td>68</td>\n",
       "      <td>Foreign</td>\n",
       "      <td>0</td>\n",
       "      <td>2018-04-24 14:21:21</td>\n",
       "      <td>Canada</td>\n",
       "      <td>Alek Minassian, 25, a resident of Toronto’s Ri...</td>\n",
       "      <td>The New York Times</td>\n",
       "      <td>News</td>\n",
       "      <td>https://www.nytimes.com/2018/04/24/world/canad...</td>\n",
       "    </tr>\n",
       "  </tbody>\n",
       "</table>\n",
       "</div>"
      ],
      "text/plain": [
       "                  articleID  articleWordCount  \\\n",
       "0  5adf6684068401528a2aa69b               781   \n",
       "1  5adf653f068401528a2aa697               656   \n",
       "2  5adf4626068401528a2aa628              2427   \n",
       "3  5adf40d2068401528a2aa619               626   \n",
       "4  5adf3d64068401528a2aa60f               815   \n",
       "\n",
       "                                      byline documentType  \\\n",
       "0                             By JOHN BRANCH      article   \n",
       "1                           By LISA FRIEDMAN      article   \n",
       "2                              By PETE WELLS      article   \n",
       "3  By JULIE HIRSCHFELD DAVIS and PETER BAKER      article   \n",
       "4             By IAN AUSTEN and DAN BILEFSKY      article   \n",
       "\n",
       "                                            headline  \\\n",
       "0  Former N.F.L. Cheerleaders’ Settlement Offer: ...   \n",
       "1  E.P.A. to Unveil a New Rule. Its Effect: Less ...   \n",
       "2                            The New Noma, Explained   \n",
       "3                                            Unknown   \n",
       "4                                            Unknown   \n",
       "\n",
       "                                            keywords  multimedia     newDesk  \\\n",
       "0  ['Workplace Hazards and Violations', 'Football...          68      Sports   \n",
       "1  ['Environmental Protection Agency', 'Pruitt, S...          68     Climate   \n",
       "2  ['Restaurants', 'Noma (Copenhagen, Restaurant)...          66      Dining   \n",
       "3  ['Macron, Emmanuel (1977- )', 'Trump, Donald J...          68  Washington   \n",
       "4  ['Toronto, Ontario, Attack (April, 2018)', 'Mu...          68     Foreign   \n",
       "\n",
       "   printPage              pubDate   sectionName  \\\n",
       "0          0  2018-04-24 17:16:49  Pro Football   \n",
       "1          0  2018-04-24 17:11:21       Unknown   \n",
       "2          0  2018-04-24 14:58:44       Unknown   \n",
       "3          0  2018-04-24 14:35:57        Europe   \n",
       "4          0  2018-04-24 14:21:21        Canada   \n",
       "\n",
       "                                             snippet              source  \\\n",
       "0  “I understand that they could meet with us, pa...  The New York Times   \n",
       "1  The agency plans to publish a new regulation T...  The New York Times   \n",
       "2  What’s it like to eat at the second incarnatio...  The New York Times   \n",
       "3  President Trump welcomed President Emmanuel Ma...  The New York Times   \n",
       "4  Alek Minassian, 25, a resident of Toronto’s Ri...  The New York Times   \n",
       "\n",
       "  typeOfMaterial                                             webURL  \n",
       "0           News  https://www.nytimes.com/2018/04/24/sports/foot...  \n",
       "1           News  https://www.nytimes.com/2018/04/24/climate/epa...  \n",
       "2           News  https://www.nytimes.com/2018/04/24/dining/noma...  \n",
       "3           News  https://www.nytimes.com/2018/04/24/world/europ...  \n",
       "4           News  https://www.nytimes.com/2018/04/24/world/canad...  "
      ]
     },
     "execution_count": 3,
     "metadata": {},
     "output_type": "execute_result"
    }
   ],
   "source": [
    "import pandas as pd\n",
    "df=pd.read_csv('ArticlesApril2018.csv')\n",
    "df.head()"
   ]
  },
  {
   "cell_type": "code",
   "execution_count": 6,
   "metadata": {},
   "outputs": [
    {
     "name": "stdout",
     "output_type": "stream",
     "text": [
      "Index(['articleID', 'articleWordCount', 'byline', 'documentType', 'headline',\n",
      "       'keywords', 'multimedia', 'newDesk', 'printPage', 'pubDate',\n",
      "       'sectionName', 'snippet', 'source', 'typeOfMaterial', 'webURL'],\n",
      "      dtype='object')\n",
      "15\n"
     ]
    }
   ],
   "source": [
    "print(df.columns)\n",
    "print(len(df.columns))"
   ]
  },
  {
   "cell_type": "code",
   "execution_count": 7,
   "metadata": {},
   "outputs": [
    {
     "name": "stdout",
     "output_type": "stream",
     "text": [
      "<class 'pandas.core.frame.DataFrame'>\n",
      "RangeIndex: 1324 entries, 0 to 1323\n",
      "Data columns (total 15 columns):\n",
      " #   Column            Non-Null Count  Dtype \n",
      "---  ------            --------------  ----- \n",
      " 0   articleID         1324 non-null   object\n",
      " 1   articleWordCount  1324 non-null   int64 \n",
      " 2   byline            1324 non-null   object\n",
      " 3   documentType      1324 non-null   object\n",
      " 4   headline          1324 non-null   object\n",
      " 5   keywords          1324 non-null   object\n",
      " 6   multimedia        1324 non-null   int64 \n",
      " 7   newDesk           1324 non-null   object\n",
      " 8   printPage         1324 non-null   int64 \n",
      " 9   pubDate           1324 non-null   object\n",
      " 10  sectionName       1324 non-null   object\n",
      " 11  snippet           1324 non-null   object\n",
      " 12  source            1324 non-null   object\n",
      " 13  typeOfMaterial    1324 non-null   object\n",
      " 14  webURL            1324 non-null   object\n",
      "dtypes: int64(3), object(12)\n",
      "memory usage: 155.3+ KB\n"
     ]
    }
   ],
   "source": [
    "df.info()"
   ]
  },
  {
   "cell_type": "code",
   "execution_count": 8,
   "metadata": {},
   "outputs": [
    {
     "data": {
      "text/plain": [
       "False"
      ]
     },
     "execution_count": 8,
     "metadata": {},
     "output_type": "execute_result"
    }
   ],
   "source": [
    "df['headline'].isnull().values.any()"
   ]
  },
  {
   "cell_type": "code",
   "execution_count": 10,
   "metadata": {},
   "outputs": [
    {
     "data": {
      "text/plain": [
       "['Former N.F.L. Cheerleaders’ Settlement Offer: $1 and a Meeting With Goodell',\n",
       " 'E.P.A. to Unveil a New Rule. Its Effect: Less Science in Policymaking.',\n",
       " 'The New Noma, Explained',\n",
       " 'Unknown',\n",
       " 'Unknown']"
      ]
     },
     "execution_count": 10,
     "metadata": {},
     "output_type": "execute_result"
    }
   ],
   "source": [
    "headline=[]\n",
    "headline.extend(list(df.headline.values))\n",
    "headline[:5]"
   ]
  },
  {
   "cell_type": "code",
   "execution_count": 11,
   "metadata": {},
   "outputs": [
    {
     "data": {
      "text/plain": [
       "1324"
      ]
     },
     "execution_count": 11,
     "metadata": {},
     "output_type": "execute_result"
    }
   ],
   "source": [
    "len(headline)"
   ]
  },
  {
   "cell_type": "code",
   "execution_count": 12,
   "metadata": {},
   "outputs": [
    {
     "data": {
      "text/plain": [
       "1214"
      ]
     },
     "execution_count": 12,
     "metadata": {},
     "output_type": "execute_result"
    }
   ],
   "source": [
    "headline=[n for n in headline if n!='Unknown']\n",
    "len(headline)"
   ]
  },
  {
   "cell_type": "code",
   "execution_count": 13,
   "metadata": {},
   "outputs": [
    {
     "data": {
      "text/plain": [
       "['Former N.F.L. Cheerleaders’ Settlement Offer: $1 and a Meeting With Goodell',\n",
       " 'E.P.A. to Unveil a New Rule. Its Effect: Less Science in Policymaking.',\n",
       " 'The New Noma, Explained',\n",
       " 'How a Bag of Texas Dirt  Became a Times Tradition',\n",
       " 'Is School a Place for Self-Expression?']"
      ]
     },
     "execution_count": 13,
     "metadata": {},
     "output_type": "execute_result"
    }
   ],
   "source": [
    "headline[:5]"
   ]
  },
  {
   "cell_type": "code",
   "execution_count": 16,
   "metadata": {},
   "outputs": [
    {
     "data": {
      "text/plain": [
       "['former nfl cheerleaders settlement offer 1 and a meeting with goodell',\n",
       " 'epa to unveil a new rule its effect less science in policymaking',\n",
       " 'the new noma explained',\n",
       " 'how a bag of texas dirt  became a times tradition',\n",
       " 'is school a place for selfexpression']"
      ]
     },
     "execution_count": 16,
     "metadata": {},
     "output_type": "execute_result"
    }
   ],
   "source": [
    "from string import punctuation\n",
    "def reprocessing(s):\n",
    "    s=s.encode('utf8').decode('ascii','ignore')\n",
    "    return \"\".join(c for c in s if c not in punctuation).lower()\n",
    "\n",
    "text=[reprocessing(x) for x in headline]\n",
    "text[:5]"
   ]
  },
  {
   "cell_type": "code",
   "execution_count": 17,
   "metadata": {},
   "outputs": [
    {
     "name": "stdout",
     "output_type": "stream",
     "text": [
      "3494\n"
     ]
    }
   ],
   "source": [
    "from keras_preprocessing.text import Tokenizer\n",
    "\n",
    "t=Tokenizer()\n",
    "t.fit_on_texts(text)\n",
    "\n",
    "vocab_size=len(t.word_index)+1\n",
    "print(vocab_size)"
   ]
  },
  {
   "cell_type": "code",
   "execution_count": 19,
   "metadata": {},
   "outputs": [
    {
     "name": "stdout",
     "output_type": "stream",
     "text": [
      "7803\n",
      "[[99, 269], [99, 269, 371], [99, 269, 371, 1115], [99, 269, 371, 1115, 582], [99, 269, 371, 1115, 582, 52], [99, 269, 371, 1115, 582, 52, 7], [99, 269, 371, 1115, 582, 52, 7, 2], [99, 269, 371, 1115, 582, 52, 7, 2, 372], [99, 269, 371, 1115, 582, 52, 7, 2, 372, 10], [99, 269, 371, 1115, 582, 52, 7, 2, 372, 10, 1116], [100, 3]]\n"
     ]
    }
   ],
   "source": [
    "sequences=list()\n",
    "\n",
    "for line in text:\n",
    "    encoded=t.texts_to_sequences([line])[0]\n",
    "    for i in range(1,len(encoded)):\n",
    "        sequence=encoded[:i+1]\n",
    "        sequences.append(sequence)\n",
    "    \n",
    "print(len(sequences))\n",
    "print(sequences[:11])"
   ]
  },
  {
   "cell_type": "code",
   "execution_count": 24,
   "metadata": {},
   "outputs": [
    {
     "data": {
      "text/plain": [
       "'nfl'"
      ]
     },
     "execution_count": 24,
     "metadata": {},
     "output_type": "execute_result"
    }
   ],
   "source": [
    "index_to_word={}\n",
    "for key,value in t.word_index.items():\n",
    "    index_to_word[value]=key\n",
    "    \n",
    "index_to_word[269]"
   ]
  },
  {
   "cell_type": "code",
   "execution_count": 25,
   "metadata": {},
   "outputs": [
    {
     "name": "stdout",
     "output_type": "stream",
     "text": [
      "24\n"
     ]
    }
   ],
   "source": [
    "max_len=max(len(i) for i in sequences)\n",
    "print(max_len)"
   ]
  },
  {
   "cell_type": "code",
   "execution_count": 26,
   "metadata": {},
   "outputs": [
    {
     "name": "stdout",
     "output_type": "stream",
     "text": [
      "[[   0    0    0    0    0    0    0    0    0    0    0    0    0    0\n",
      "     0    0    0    0    0    0    0    0   99  269]\n",
      " [   0    0    0    0    0    0    0    0    0    0    0    0    0    0\n",
      "     0    0    0    0    0    0    0   99  269  371]\n",
      " [   0    0    0    0    0    0    0    0    0    0    0    0    0    0\n",
      "     0    0    0    0    0    0   99  269  371 1115]]\n"
     ]
    }
   ],
   "source": [
    "from tensorflow.keras.preprocessing.sequence import pad_sequences\n",
    "\n",
    "sequences=pad_sequences(sequences,maxlen=max_len,padding='pre')\n",
    "print(sequences[:3])"
   ]
  },
  {
   "cell_type": "code",
   "execution_count": 27,
   "metadata": {},
   "outputs": [],
   "source": [
    "import numpy as np\n",
    "sequences=np.array(sequences)\n",
    "\n",
    "X=sequences[:,:-1]\n",
    "y=sequences[:,-1]"
   ]
  },
  {
   "cell_type": "code",
   "execution_count": 28,
   "metadata": {},
   "outputs": [
    {
     "name": "stdout",
     "output_type": "stream",
     "text": [
      "[[  0   0   0   0   0   0   0   0   0   0   0   0   0   0   0   0   0   0\n",
      "    0   0   0   0  99]\n",
      " [  0   0   0   0   0   0   0   0   0   0   0   0   0   0   0   0   0   0\n",
      "    0   0   0  99 269]\n",
      " [  0   0   0   0   0   0   0   0   0   0   0   0   0   0   0   0   0   0\n",
      "    0   0  99 269 371]]\n"
     ]
    }
   ],
   "source": [
    "print(X[:3])"
   ]
  },
  {
   "cell_type": "code",
   "execution_count": 29,
   "metadata": {},
   "outputs": [],
   "source": [
    "from tensorflow.keras.utils import to_categorical\n",
    "\n",
    "y=to_categorical(y,num_classes=vocab_size)"
   ]
  },
  {
   "cell_type": "code",
   "execution_count": 30,
   "metadata": {},
   "outputs": [
    {
     "name": "stdout",
     "output_type": "stream",
     "text": [
      "[[0. 0. 0. ... 0. 0. 0.]\n",
      " [0. 0. 0. ... 0. 0. 0.]\n",
      " [0. 0. 0. ... 0. 0. 0.]]\n"
     ]
    }
   ],
   "source": [
    "print(y[:3])"
   ]
  },
  {
   "cell_type": "code",
   "execution_count": 31,
   "metadata": {},
   "outputs": [
    {
     "name": "stdout",
     "output_type": "stream",
     "text": [
      "Epoch 1/200\n",
      "244/244 [==============================] - 9s 25ms/step - loss: 7.7483 - accuracy: 0.0259\n",
      "Epoch 2/200\n",
      "244/244 [==============================] - 6s 23ms/step - loss: 7.0773 - accuracy: 0.0328\n",
      "Epoch 3/200\n",
      "244/244 [==============================] - 6s 25ms/step - loss: 6.9709 - accuracy: 0.0316 0s - loss: 6.971\n",
      "Epoch 4/200\n",
      "244/244 [==============================] - 6s 23ms/step - loss: 6.8607 - accuracy: 0.0415\n",
      "Epoch 5/200\n",
      "244/244 [==============================] - 5s 22ms/step - loss: 6.6881 - accuracy: 0.0433\n",
      "Epoch 6/200\n",
      "244/244 [==============================] - 5s 22ms/step - loss: 6.4905 - accuracy: 0.0414\n",
      "Epoch 7/200\n",
      "244/244 [==============================] - 5s 22ms/step - loss: 6.3168 - accuracy: 0.0507\n",
      "Epoch 8/200\n",
      "244/244 [==============================] - 5s 22ms/step - loss: 6.1279 - accuracy: 0.0576\n",
      "Epoch 9/200\n",
      "244/244 [==============================] - 5s 22ms/step - loss: 5.8977 - accuracy: 0.0627\n",
      "Epoch 10/200\n",
      "244/244 [==============================] - 6s 23ms/step - loss: 5.7177 - accuracy: 0.0596\n",
      "Epoch 11/200\n",
      "244/244 [==============================] - 6s 23ms/step - loss: 5.5148 - accuracy: 0.0770\n",
      "Epoch 12/200\n",
      "244/244 [==============================] - 6s 24ms/step - loss: 5.3838 - accuracy: 0.0791 0s - loss: 5.375\n",
      "Epoch 13/200\n",
      "244/244 [==============================] - 6s 23ms/step - loss: 5.2388 - accuracy: 0.0914 0s - loss: 5.2365 - accuracy\n",
      "Epoch 14/200\n",
      "244/244 [==============================] - 6s 23ms/step - loss: 5.1014 - accuracy: 0.0868\n",
      "Epoch 15/200\n",
      "244/244 [==============================] - 6s 23ms/step - loss: 4.9234 - accuracy: 0.1043\n",
      "Epoch 16/200\n",
      "244/244 [==============================] - 6s 23ms/step - loss: 4.8153 - accuracy: 0.1176\n",
      "Epoch 17/200\n",
      "244/244 [==============================] - 6s 23ms/step - loss: 4.6736 - accuracy: 0.1299\n",
      "Epoch 18/200\n",
      "244/244 [==============================] - 6s 23ms/step - loss: 4.5593 - accuracy: 0.1441\n",
      "Epoch 19/200\n",
      "244/244 [==============================] - 6s 23ms/step - loss: 4.4378 - accuracy: 0.1534\n",
      "Epoch 20/200\n",
      "244/244 [==============================] - 6s 23ms/step - loss: 4.2917 - accuracy: 0.1825\n",
      "Epoch 21/200\n",
      "244/244 [==============================] - 6s 23ms/step - loss: 4.1937 - accuracy: 0.1931\n",
      "Epoch 22/200\n",
      "244/244 [==============================] - 6s 23ms/step - loss: 4.0697 - accuracy: 0.2105\n",
      "Epoch 23/200\n",
      "244/244 [==============================] - 6s 23ms/step - loss: 3.9604 - accuracy: 0.2242\n",
      "Epoch 24/200\n",
      "244/244 [==============================] - 6s 23ms/step - loss: 3.7994 - accuracy: 0.2599\n",
      "Epoch 25/200\n",
      "244/244 [==============================] - 5s 22ms/step - loss: 3.7355 - accuracy: 0.2604\n",
      "Epoch 26/200\n",
      "244/244 [==============================] - 5s 22ms/step - loss: 3.6482 - accuracy: 0.2846\n",
      "Epoch 27/200\n",
      "244/244 [==============================] - 5s 22ms/step - loss: 3.5604 - accuracy: 0.2883\n",
      "Epoch 28/200\n",
      "244/244 [==============================] - 5s 22ms/step - loss: 3.4810 - accuracy: 0.3111\n",
      "Epoch 29/200\n",
      "244/244 [==============================] - 5s 22ms/step - loss: 3.3636 - accuracy: 0.3293\n",
      "Epoch 30/200\n",
      "244/244 [==============================] - 5s 22ms/step - loss: 3.3233 - accuracy: 0.3389\n",
      "Epoch 31/200\n",
      "244/244 [==============================] - 5s 22ms/step - loss: 3.2263 - accuracy: 0.3558\n",
      "Epoch 32/200\n",
      "244/244 [==============================] - 5s 21ms/step - loss: 3.1000 - accuracy: 0.3735\n",
      "Epoch 33/200\n",
      "244/244 [==============================] - 5s 22ms/step - loss: 3.0377 - accuracy: 0.3871\n",
      "Epoch 34/200\n",
      "244/244 [==============================] - 5s 22ms/step - loss: 2.9602 - accuracy: 0.4064\n",
      "Epoch 35/200\n",
      "244/244 [==============================] - 5s 22ms/step - loss: 2.8940 - accuracy: 0.4174\n",
      "Epoch 36/200\n",
      "244/244 [==============================] - 6s 23ms/step - loss: 2.8237 - accuracy: 0.4314\n",
      "Epoch 37/200\n",
      "244/244 [==============================] - 5s 21ms/step - loss: 2.7387 - accuracy: 0.4436\n",
      "Epoch 38/200\n",
      "244/244 [==============================] - 5s 21ms/step - loss: 2.7013 - accuracy: 0.4535\n",
      "Epoch 39/200\n",
      "244/244 [==============================] - 5s 22ms/step - loss: 2.6556 - accuracy: 0.4700\n",
      "Epoch 40/200\n",
      "244/244 [==============================] - 5s 22ms/step - loss: 2.5939 - accuracy: 0.4701\n",
      "Epoch 41/200\n",
      "244/244 [==============================] - 5s 22ms/step - loss: 2.5235 - accuracy: 0.4840\n",
      "Epoch 42/200\n",
      "244/244 [==============================] - 5s 22ms/step - loss: 2.4537 - accuracy: 0.4949\n",
      "Epoch 43/200\n",
      "244/244 [==============================] - 5s 22ms/step - loss: 2.4023 - accuracy: 0.5032\n",
      "Epoch 44/200\n",
      "244/244 [==============================] - 6s 26ms/step - loss: 2.3523 - accuracy: 0.5185\n",
      "Epoch 45/200\n",
      "244/244 [==============================] - 6s 26ms/step - loss: 2.2989 - accuracy: 0.5275\n",
      "Epoch 46/200\n",
      "244/244 [==============================] - 6s 24ms/step - loss: 2.2397 - accuracy: 0.5463\n",
      "Epoch 47/200\n",
      "244/244 [==============================] - 6s 24ms/step - loss: 2.2355 - accuracy: 0.5446\n",
      "Epoch 48/200\n",
      "244/244 [==============================] - 6s 24ms/step - loss: 2.1711 - accuracy: 0.5553\n",
      "Epoch 49/200\n",
      "244/244 [==============================] - 6s 23ms/step - loss: 2.0872 - accuracy: 0.5744\n",
      "Epoch 50/200\n",
      "244/244 [==============================] - 6s 23ms/step - loss: 2.0435 - accuracy: 0.5869\n",
      "Epoch 51/200\n",
      "244/244 [==============================] - 6s 24ms/step - loss: 1.9908 - accuracy: 0.5969\n",
      "Epoch 52/200\n",
      "244/244 [==============================] - 6s 24ms/step - loss: 1.9807 - accuracy: 0.5968\n",
      "Epoch 53/200\n",
      "244/244 [==============================] - 7s 28ms/step - loss: 1.9147 - accuracy: 0.6059\n",
      "Epoch 54/200\n",
      "244/244 [==============================] - 7s 27ms/step - loss: 1.9135 - accuracy: 0.6129\n",
      "Epoch 55/200\n",
      "244/244 [==============================] - 8s 31ms/step - loss: 1.8448 - accuracy: 0.6256\n",
      "Epoch 56/200\n",
      "244/244 [==============================] - 7s 29ms/step - loss: 1.7913 - accuracy: 0.6405\n",
      "Epoch 57/200\n",
      "244/244 [==============================] - 6s 25ms/step - loss: 1.7753 - accuracy: 0.6437\n",
      "Epoch 58/200\n",
      "244/244 [==============================] - 7s 27ms/step - loss: 1.6843 - accuracy: 0.6633\n",
      "Epoch 59/200\n",
      "244/244 [==============================] - 11s 44ms/step - loss: 1.6595 - accuracy: 0.6734\n",
      "Epoch 60/200\n",
      "244/244 [==============================] - 9s 37ms/step - loss: 1.6320 - accuracy: 0.6770\n",
      "Epoch 61/200\n",
      "244/244 [==============================] - 8s 33ms/step - loss: 1.6034 - accuracy: 0.6795\n",
      "Epoch 62/200\n",
      "244/244 [==============================] - 8s 33ms/step - loss: 1.5874 - accuracy: 0.6823\n",
      "Epoch 63/200\n",
      "244/244 [==============================] - 5s 21ms/step - loss: 1.5512 - accuracy: 0.6967 0s - loss: 1.5502 - accuracy: 0.\n",
      "Epoch 64/200\n",
      "244/244 [==============================] - 5s 21ms/step - loss: 1.5406 - accuracy: 0.6905\n",
      "Epoch 65/200\n",
      "244/244 [==============================] - 5s 21ms/step - loss: 1.4947 - accuracy: 0.6991\n",
      "Epoch 66/200\n",
      "244/244 [==============================] - 5s 21ms/step - loss: 1.4541 - accuracy: 0.7114 0s - loss: 1.447\n",
      "Epoch 67/200\n",
      "244/244 [==============================] - 5s 20ms/step - loss: 1.3864 - accuracy: 0.7290\n",
      "Epoch 68/200\n",
      "244/244 [==============================] - 5s 22ms/step - loss: 1.3957 - accuracy: 0.7240\n",
      "Epoch 69/200\n",
      "244/244 [==============================] - 5s 21ms/step - loss: 1.3734 - accuracy: 0.7312\n",
      "Epoch 70/200\n",
      "244/244 [==============================] - 5s 21ms/step - loss: 1.3227 - accuracy: 0.7405 2s - los\n",
      "Epoch 71/200\n",
      "244/244 [==============================] - 5s 21ms/step - loss: 1.2948 - accuracy: 0.7470 \n",
      "Epoch 72/200\n",
      "244/244 [==============================] - 5s 21ms/step - loss: 1.2779 - accuracy: 0.7479\n",
      "Epoch 73/200\n",
      "244/244 [==============================] - 5s 21ms/step - loss: 1.2697 - accuracy: 0.7512\n",
      "Epoch 74/200\n",
      "244/244 [==============================] - 5s 21ms/step - loss: 1.2288 - accuracy: 0.7612\n",
      "Epoch 75/200\n",
      "244/244 [==============================] - 5s 21ms/step - loss: 1.1920 - accuracy: 0.7670\n",
      "Epoch 76/200\n",
      "244/244 [==============================] - 5s 21ms/step - loss: 1.1478 - accuracy: 0.7707\n",
      "Epoch 77/200\n",
      "244/244 [==============================] - 5s 22ms/step - loss: 1.1026 - accuracy: 0.7846\n",
      "Epoch 78/200\n",
      "244/244 [==============================] - 5s 21ms/step - loss: 1.1078 - accuracy: 0.7849\n",
      "Epoch 79/200\n"
     ]
    },
    {
     "name": "stdout",
     "output_type": "stream",
     "text": [
      "244/244 [==============================] - 5s 21ms/step - loss: 1.0823 - accuracy: 0.7924\n",
      "Epoch 80/200\n",
      "244/244 [==============================] - 5s 21ms/step - loss: 1.0477 - accuracy: 0.7956\n",
      "Epoch 81/200\n",
      "244/244 [==============================] - 5s 21ms/step - loss: 1.0184 - accuracy: 0.8009\n",
      "Epoch 82/200\n",
      "244/244 [==============================] - 5s 21ms/step - loss: 1.0233 - accuracy: 0.8019\n",
      "Epoch 83/200\n",
      "244/244 [==============================] - 5s 21ms/step - loss: 0.9923 - accuracy: 0.8064\n",
      "Epoch 84/200\n",
      "244/244 [==============================] - 5s 21ms/step - loss: 0.9647 - accuracy: 0.8122\n",
      "Epoch 85/200\n",
      "244/244 [==============================] - 5s 21ms/step - loss: 0.9461 - accuracy: 0.8159\n",
      "Epoch 86/200\n",
      "244/244 [==============================] - 5s 21ms/step - loss: 0.9342 - accuracy: 0.8160\n",
      "Epoch 87/200\n",
      "244/244 [==============================] - 5s 21ms/step - loss: 0.8872 - accuracy: 0.8286\n",
      "Epoch 88/200\n",
      "244/244 [==============================] - 5s 21ms/step - loss: 0.8839 - accuracy: 0.8312 0s - loss: 0.8816 - accura\n",
      "Epoch 89/200\n",
      "244/244 [==============================] - 5s 21ms/step - loss: 0.8731 - accuracy: 0.8289\n",
      "Epoch 90/200\n",
      "244/244 [==============================] - 5s 21ms/step - loss: 0.8575 - accuracy: 0.8345\n",
      "Epoch 91/200\n",
      "244/244 [==============================] - 5s 21ms/step - loss: 0.8421 - accuracy: 0.8369\n",
      "Epoch 92/200\n",
      "244/244 [==============================] - 7s 27ms/step - loss: 0.8161 - accuracy: 0.8432 0s - loss: 0.8155 - accuracy: \n",
      "Epoch 93/200\n",
      "244/244 [==============================] - 7s 27ms/step - loss: 0.8153 - accuracy: 0.8427\n",
      "Epoch 94/200\n",
      "244/244 [==============================] - 7s 27ms/step - loss: 0.7762 - accuracy: 0.8556\n",
      "Epoch 95/200\n",
      "244/244 [==============================] - 6s 24ms/step - loss: 0.7436 - accuracy: 0.8558\n",
      "Epoch 96/200\n",
      "244/244 [==============================] - 6s 24ms/step - loss: 0.7521 - accuracy: 0.8545\n",
      "Epoch 97/200\n",
      "244/244 [==============================] - 6s 25ms/step - loss: 0.7304 - accuracy: 0.8592\n",
      "Epoch 98/200\n",
      "244/244 [==============================] - 5s 22ms/step - loss: 0.6944 - accuracy: 0.8615 1s - loss: 0.6849 - accura - ETA: 0s - l\n",
      "Epoch 99/200\n",
      "244/244 [==============================] - 5s 21ms/step - loss: 0.7045 - accuracy: 0.8614\n",
      "Epoch 100/200\n",
      "244/244 [==============================] - 5s 21ms/step - loss: 0.6799 - accuracy: 0.8671\n",
      "Epoch 101/200\n",
      "244/244 [==============================] - 5s 22ms/step - loss: 0.6711 - accuracy: 0.8697\n",
      "Epoch 102/200\n",
      "244/244 [==============================] - 6s 23ms/step - loss: 0.6552 - accuracy: 0.8715\n",
      "Epoch 103/200\n",
      "244/244 [==============================] - 7s 28ms/step - loss: 0.6323 - accuracy: 0.8770\n",
      "Epoch 104/200\n",
      "244/244 [==============================] - 6s 23ms/step - loss: 0.6370 - accuracy: 0.8780\n",
      "Epoch 105/200\n",
      "244/244 [==============================] - 6s 25ms/step - loss: 0.6182 - accuracy: 0.8834\n",
      "Epoch 106/200\n",
      "244/244 [==============================] - 5s 22ms/step - loss: 0.6120 - accuracy: 0.8832\n",
      "Epoch 107/200\n",
      "244/244 [==============================] - 5s 21ms/step - loss: 0.5940 - accuracy: 0.8846\n",
      "Epoch 108/200\n",
      "244/244 [==============================] - 5s 20ms/step - loss: 0.5907 - accuracy: 0.8845\n",
      "Epoch 109/200\n",
      "244/244 [==============================] - 5s 20ms/step - loss: 0.5747 - accuracy: 0.8879 0s - loss: 0.5734 - ac\n",
      "Epoch 110/200\n",
      "244/244 [==============================] - 5s 21ms/step - loss: 0.5489 - accuracy: 0.8944\n",
      "Epoch 111/200\n",
      "244/244 [==============================] - 5s 21ms/step - loss: 0.5684 - accuracy: 0.8933 0s - loss: 0.568\n",
      "Epoch 112/200\n",
      "244/244 [==============================] - 5s 20ms/step - loss: 0.5500 - accuracy: 0.8911\n",
      "Epoch 113/200\n",
      "244/244 [==============================] - 5s 20ms/step - loss: 0.5358 - accuracy: 0.8905\n",
      "Epoch 114/200\n",
      "244/244 [==============================] - 5s 20ms/step - loss: 0.5180 - accuracy: 0.8948\n",
      "Epoch 115/200\n",
      "244/244 [==============================] - 5s 20ms/step - loss: 0.5040 - accuracy: 0.8977\n",
      "Epoch 116/200\n",
      "244/244 [==============================] - 5s 21ms/step - loss: 0.4820 - accuracy: 0.9072\n",
      "Epoch 117/200\n",
      "244/244 [==============================] - 5s 20ms/step - loss: 0.4878 - accuracy: 0.8995\n",
      "Epoch 118/200\n",
      "244/244 [==============================] - 5s 20ms/step - loss: 0.4713 - accuracy: 0.9037\n",
      "Epoch 119/200\n",
      "244/244 [==============================] - 5s 21ms/step - loss: 0.4704 - accuracy: 0.9021 0s - loss: 0.4694 - accu\n",
      "Epoch 120/200\n",
      "244/244 [==============================] - 5s 20ms/step - loss: 0.4999 - accuracy: 0.8922\n",
      "Epoch 121/200\n",
      "244/244 [==============================] - 5s 20ms/step - loss: 0.4527 - accuracy: 0.9043\n",
      "Epoch 122/200\n",
      "244/244 [==============================] - 5s 20ms/step - loss: 0.4289 - accuracy: 0.9154\n",
      "Epoch 123/200\n",
      "244/244 [==============================] - 5s 20ms/step - loss: 0.4403 - accuracy: 0.9119\n",
      "Epoch 124/200\n",
      "244/244 [==============================] - 5s 20ms/step - loss: 0.4319 - accuracy: 0.9094\n",
      "Epoch 125/200\n",
      "244/244 [==============================] - 5s 20ms/step - loss: 0.4305 - accuracy: 0.9100\n",
      "Epoch 126/200\n",
      "244/244 [==============================] - 5s 20ms/step - loss: 0.4264 - accuracy: 0.9104\n",
      "Epoch 127/200\n",
      "244/244 [==============================] - 5s 20ms/step - loss: 0.3946 - accuracy: 0.9152\n",
      "Epoch 128/200\n",
      "244/244 [==============================] - 5s 20ms/step - loss: 0.3937 - accuracy: 0.9111 0s - loss: 0.3925 - accura\n",
      "Epoch 129/200\n",
      "244/244 [==============================] - ETA: 0s - loss: 0.3717 - accuracy: 0.92 - 5s 20ms/step - loss: 0.3719 - accuracy: 0.9206\n",
      "Epoch 130/200\n",
      "244/244 [==============================] - 5s 20ms/step - loss: 0.3881 - accuracy: 0.9180\n",
      "Epoch 131/200\n",
      "244/244 [==============================] - 5s 20ms/step - loss: 0.3751 - accuracy: 0.9157\n",
      "Epoch 132/200\n",
      "244/244 [==============================] - 5s 20ms/step - loss: 0.3815 - accuracy: 0.9144\n",
      "Epoch 133/200\n",
      "244/244 [==============================] - 5s 20ms/step - loss: 0.3722 - accuracy: 0.9128\n",
      "Epoch 134/200\n",
      "244/244 [==============================] - 5s 20ms/step - loss: 0.3651 - accuracy: 0.9185\n",
      "Epoch 135/200\n",
      "244/244 [==============================] - 5s 21ms/step - loss: 0.3621 - accuracy: 0.9188\n",
      "Epoch 136/200\n",
      "244/244 [==============================] - 5s 20ms/step - loss: 0.3675 - accuracy: 0.9125\n",
      "Epoch 137/200\n",
      "244/244 [==============================] - 5s 20ms/step - loss: 0.3507 - accuracy: 0.9196\n",
      "Epoch 138/200\n",
      "244/244 [==============================] - 5s 20ms/step - loss: 0.3400 - accuracy: 0.9181\n",
      "Epoch 139/200\n",
      "244/244 [==============================] - 5s 20ms/step - loss: 0.3410 - accuracy: 0.9192\n",
      "Epoch 140/200\n",
      "244/244 [==============================] - 5s 20ms/step - loss: 0.3587 - accuracy: 0.9123\n",
      "Epoch 141/200\n",
      "244/244 [==============================] - 5s 20ms/step - loss: 0.3709 - accuracy: 0.9123\n",
      "Epoch 142/200\n",
      "244/244 [==============================] - 5s 20ms/step - loss: 0.3284 - accuracy: 0.9195\n",
      "Epoch 143/200\n",
      "244/244 [==============================] - 5s 20ms/step - loss: 0.3280 - accuracy: 0.9200\n",
      "Epoch 144/200\n",
      "244/244 [==============================] - 5s 20ms/step - loss: 0.3135 - accuracy: 0.9191\n",
      "Epoch 145/200\n",
      "244/244 [==============================] - 5s 20ms/step - loss: 0.3006 - accuracy: 0.9251\n",
      "Epoch 146/200\n",
      "244/244 [==============================] - 5s 20ms/step - loss: 0.3225 - accuracy: 0.9166\n",
      "Epoch 147/200\n",
      "244/244 [==============================] - 5s 20ms/step - loss: 0.3234 - accuracy: 0.9182\n",
      "Epoch 148/200\n",
      "244/244 [==============================] - 5s 20ms/step - loss: 0.2987 - accuracy: 0.9225\n",
      "Epoch 149/200\n",
      "244/244 [==============================] - 5s 20ms/step - loss: 0.3154 - accuracy: 0.9149\n",
      "Epoch 150/200\n",
      "244/244 [==============================] - 5s 20ms/step - loss: 0.3116 - accuracy: 0.9212\n",
      "Epoch 151/200\n",
      "244/244 [==============================] - 5s 21ms/step - loss: 0.2934 - accuracy: 0.9259\n",
      "Epoch 152/200\n",
      "244/244 [==============================] - 5s 21ms/step - loss: 0.3189 - accuracy: 0.9155\n",
      "Epoch 153/200\n",
      "244/244 [==============================] - 5s 21ms/step - loss: 0.3108 - accuracy: 0.9173\n",
      "Epoch 154/200\n",
      "244/244 [==============================] - 5s 22ms/step - loss: 0.3023 - accuracy: 0.9190\n",
      "Epoch 155/200\n"
     ]
    },
    {
     "name": "stdout",
     "output_type": "stream",
     "text": [
      "244/244 [==============================] - 8s 33ms/step - loss: 0.2846 - accuracy: 0.9192\n",
      "Epoch 156/200\n",
      "244/244 [==============================] - 7s 27ms/step - loss: 0.2979 - accuracy: 0.9174\n",
      "Epoch 157/200\n",
      "244/244 [==============================] - 7s 27ms/step - loss: 0.2845 - accuracy: 0.9224\n",
      "Epoch 158/200\n",
      "244/244 [==============================] - 7s 27ms/step - loss: 0.2811 - accuracy: 0.9233\n",
      "Epoch 159/200\n",
      "244/244 [==============================] - 5s 21ms/step - loss: 0.2751 - accuracy: 0.9217\n",
      "Epoch 160/200\n",
      "244/244 [==============================] - 5s 21ms/step - loss: 0.2849 - accuracy: 0.9211 0s - loss: 0.2841 - accu\n",
      "Epoch 161/200\n",
      "244/244 [==============================] - 5s 21ms/step - loss: 0.2452 - accuracy: 0.9293\n",
      "Epoch 162/200\n",
      "244/244 [==============================] - 5s 21ms/step - loss: 0.2920 - accuracy: 0.9183\n",
      "Epoch 163/200\n",
      "244/244 [==============================] - 5s 21ms/step - loss: 0.2828 - accuracy: 0.9178\n",
      "Epoch 164/200\n",
      "244/244 [==============================] - 5s 21ms/step - loss: 0.2716 - accuracy: 0.9204\n",
      "Epoch 165/200\n",
      "244/244 [==============================] - 5s 21ms/step - loss: 0.2854 - accuracy: 0.9174\n",
      "Epoch 166/200\n",
      "244/244 [==============================] - 5s 21ms/step - loss: 0.2700 - accuracy: 0.9201\n",
      "Epoch 167/200\n",
      "244/244 [==============================] - 5s 21ms/step - loss: 0.2726 - accuracy: 0.9207 0s - loss: 0.2\n",
      "Epoch 168/200\n",
      "244/244 [==============================] - 5s 21ms/step - loss: 0.2815 - accuracy: 0.9175\n",
      "Epoch 169/200\n",
      "244/244 [==============================] - 5s 21ms/step - loss: 0.2707 - accuracy: 0.9216\n",
      "Epoch 170/200\n",
      "244/244 [==============================] - 5s 21ms/step - loss: 0.2840 - accuracy: 0.9190\n",
      "Epoch 171/200\n",
      "244/244 [==============================] - 5s 21ms/step - loss: 0.2790 - accuracy: 0.9185\n",
      "Epoch 172/200\n",
      "244/244 [==============================] - 5s 21ms/step - loss: 0.2811 - accuracy: 0.9210\n",
      "Epoch 173/200\n",
      "244/244 [==============================] - 5s 21ms/step - loss: 0.2853 - accuracy: 0.9185\n",
      "Epoch 174/200\n",
      "244/244 [==============================] - 6s 24ms/step - loss: 0.2794 - accuracy: 0.9177\n",
      "Epoch 175/200\n",
      "244/244 [==============================] - 6s 25ms/step - loss: 0.2682 - accuracy: 0.9185\n",
      "Epoch 176/200\n",
      "244/244 [==============================] - 6s 25ms/step - loss: 0.2733 - accuracy: 0.9183\n",
      "Epoch 177/200\n",
      "244/244 [==============================] - 6s 24ms/step - loss: 0.2571 - accuracy: 0.9229\n",
      "Epoch 178/200\n",
      "244/244 [==============================] - 5s 22ms/step - loss: 0.2593 - accuracy: 0.9219\n",
      "Epoch 179/200\n",
      "244/244 [==============================] - 5s 21ms/step - loss: 0.2674 - accuracy: 0.9198\n",
      "Epoch 180/200\n",
      "244/244 [==============================] - 5s 21ms/step - loss: 0.2555 - accuracy: 0.9247\n",
      "Epoch 181/200\n",
      "244/244 [==============================] - 5s 21ms/step - loss: 0.2584 - accuracy: 0.9204\n",
      "Epoch 182/200\n",
      "244/244 [==============================] - 5s 21ms/step - loss: 0.2643 - accuracy: 0.9202\n",
      "Epoch 183/200\n",
      "244/244 [==============================] - 5s 21ms/step - loss: 0.2625 - accuracy: 0.9170\n",
      "Epoch 184/200\n",
      "244/244 [==============================] - 5s 21ms/step - loss: 0.2497 - accuracy: 0.9235 0s - los - ETA: 0s - loss: 0.2497 - accuracy: 0.92\n",
      "Epoch 185/200\n",
      "244/244 [==============================] - 5s 21ms/step - loss: 0.2794 - accuracy: 0.9130 0s - loss: 0.2\n",
      "Epoch 186/200\n",
      "244/244 [==============================] - 5s 21ms/step - loss: 0.2647 - accuracy: 0.9181\n",
      "Epoch 187/200\n",
      "244/244 [==============================] - 5s 21ms/step - loss: 0.2730 - accuracy: 0.9150\n",
      "Epoch 188/200\n",
      "244/244 [==============================] - 5s 21ms/step - loss: 0.2585 - accuracy: 0.9173 0s - loss: 0.2581 - accuracy\n",
      "Epoch 189/200\n",
      "244/244 [==============================] - 5s 21ms/step - loss: 0.2411 - accuracy: 0.9259\n",
      "Epoch 190/200\n",
      "244/244 [==============================] - 5s 21ms/step - loss: 0.2622 - accuracy: 0.9184\n",
      "Epoch 191/200\n",
      "244/244 [==============================] - 6s 25ms/step - loss: 0.2903 - accuracy: 0.9121\n",
      "Epoch 192/200\n",
      "244/244 [==============================] - 6s 24ms/step - loss: 0.2712 - accuracy: 0.9132\n",
      "Epoch 193/200\n",
      "244/244 [==============================] - 6s 24ms/step - loss: 0.2778 - accuracy: 0.9153\n",
      "Epoch 194/200\n",
      "244/244 [==============================] - 5s 22ms/step - loss: 0.2594 - accuracy: 0.9198\n",
      "Epoch 195/200\n",
      "244/244 [==============================] - 5s 21ms/step - loss: 0.2367 - accuracy: 0.9254\n",
      "Epoch 196/200\n",
      "244/244 [==============================] - 5s 21ms/step - loss: 0.2436 - accuracy: 0.9260\n",
      "Epoch 197/200\n",
      "244/244 [==============================] - 5s 21ms/step - loss: 0.2452 - accuracy: 0.9209\n",
      "Epoch 198/200\n",
      "244/244 [==============================] - 5s 20ms/step - loss: 0.2546 - accuracy: 0.9167 0s - loss: 0.2\n",
      "Epoch 199/200\n",
      "244/244 [==============================] - 5s 21ms/step - loss: 0.2799 - accuracy: 0.9183\n",
      "Epoch 200/200\n",
      "244/244 [==============================] - 5s 21ms/step - loss: 0.3446 - accuracy: 0.9024\n"
     ]
    },
    {
     "data": {
      "text/plain": [
       "<tensorflow.python.keras.callbacks.History at 0x1ea40ec2d08>"
      ]
     },
     "execution_count": 31,
     "metadata": {},
     "output_type": "execute_result"
    }
   ],
   "source": [
    "from tensorflow.keras.layers import Embedding,Dense,LSTM\n",
    "from tensorflow.keras.models import Sequential\n",
    "model=Sequential()\n",
    "model.add(Embedding(vocab_size,10,input_length=max_len-1))\n",
    "\n",
    "model.add(LSTM(128))\n",
    "\n",
    "model.add(Dense(vocab_size,activation='softmax'))\n",
    "model.compile(loss='categorical_crossentropy',optimizer='adam',metrics=['accuracy'])\n",
    "model.fit(X,y,epochs=200)"
   ]
  },
  {
   "cell_type": "code",
   "execution_count": 32,
   "metadata": {},
   "outputs": [],
   "source": [
    "def sentence_generation(model,t,current_word,n):\n",
    "    init_word=current_word\n",
    "    sentence=''\n",
    "    \n",
    "    for _ in range(n):\n",
    "        encoded=t.texts_to_sequences([current_word])[0]\n",
    "        encoded=pad_sequences([encoded],maxlen=23,padding='pre')\n",
    "        result=model.predict_classes(encoded,verbose=0)\n",
    "        \n",
    "        for word,index in t.word_index.items():\n",
    "            if index==result:\n",
    "                break\n",
    "        current_word=current_word+' '+word\n",
    "        sentence=sentence+' '+word\n",
    "    sentence=init_word+sentence\n",
    "    return sentence"
   ]
  },
  {
   "cell_type": "code",
   "execution_count": null,
   "metadata": {},
   "outputs": [],
   "source": [
    "print(sentence_generation(model,t,'i',10))"
   ]
  },
  {
   "cell_type": "code",
   "execution_count": 36,
   "metadata": {},
   "outputs": [
    {
     "name": "stdout",
     "output_type": "stream",
     "text": [
      "how to make facebook more accountable as jacket people may we\n"
     ]
    }
   ],
   "source": [
    "print(sentence_generation(model,t,'how',10))"
   ]
  }
 ],
 "metadata": {
  "kernelspec": {
   "display_name": "Python 3",
   "language": "python",
   "name": "python3"
  },
  "language_info": {
   "codemirror_mode": {
    "name": "ipython",
    "version": 3
   },
   "file_extension": ".py",
   "mimetype": "text/x-python",
   "name": "python",
   "nbconvert_exporter": "python",
   "pygments_lexer": "ipython3",
   "version": "3.7.9"
  }
 },
 "nbformat": 4,
 "nbformat_minor": 2
}
