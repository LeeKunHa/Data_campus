{
 "cells": [
  {
   "cell_type": "markdown",
   "metadata": {},
   "source": [
    "## 호흡기질환 사망자수 모델링"
   ]
  },
  {
   "cell_type": "markdown",
   "metadata": {},
   "source": [
    "- 데이터 : datasets.get_rdataset(\"deaths\", package=\"MASS\")"
   ]
  },
  {
   "cell_type": "code",
   "execution_count": 126,
   "metadata": {},
   "outputs": [],
   "source": [
    "import pandas as pd\n",
    "from statsmodels import datasets\n",
    "import matplotlib.pyplot as plt\n",
    "import statsmodels.api as sm\n",
    "import statsmodels"
   ]
  },
  {
   "cell_type": "code",
   "execution_count": 127,
   "metadata": {},
   "outputs": [
    {
     "data": {
      "text/html": [
       "<div>\n",
       "<style scoped>\n",
       "    .dataframe tbody tr th:only-of-type {\n",
       "        vertical-align: middle;\n",
       "    }\n",
       "\n",
       "    .dataframe tbody tr th {\n",
       "        vertical-align: top;\n",
       "    }\n",
       "\n",
       "    .dataframe thead th {\n",
       "        text-align: right;\n",
       "    }\n",
       "</style>\n",
       "<table border=\"1\" class=\"dataframe\">\n",
       "  <thead>\n",
       "    <tr style=\"text-align: right;\">\n",
       "      <th></th>\n",
       "      <th>time</th>\n",
       "      <th>value</th>\n",
       "    </tr>\n",
       "  </thead>\n",
       "  <tbody>\n",
       "    <tr>\n",
       "      <th>0</th>\n",
       "      <td>1974.000000</td>\n",
       "      <td>3035</td>\n",
       "    </tr>\n",
       "    <tr>\n",
       "      <th>1</th>\n",
       "      <td>1974.083333</td>\n",
       "      <td>2552</td>\n",
       "    </tr>\n",
       "    <tr>\n",
       "      <th>2</th>\n",
       "      <td>1974.166667</td>\n",
       "      <td>2704</td>\n",
       "    </tr>\n",
       "    <tr>\n",
       "      <th>3</th>\n",
       "      <td>1974.250000</td>\n",
       "      <td>2554</td>\n",
       "    </tr>\n",
       "    <tr>\n",
       "      <th>4</th>\n",
       "      <td>1974.333333</td>\n",
       "      <td>2014</td>\n",
       "    </tr>\n",
       "    <tr>\n",
       "      <th>...</th>\n",
       "      <td>...</td>\n",
       "      <td>...</td>\n",
       "    </tr>\n",
       "    <tr>\n",
       "      <th>67</th>\n",
       "      <td>1979.583333</td>\n",
       "      <td>1354</td>\n",
       "    </tr>\n",
       "    <tr>\n",
       "      <th>68</th>\n",
       "      <td>1979.666667</td>\n",
       "      <td>1333</td>\n",
       "    </tr>\n",
       "    <tr>\n",
       "      <th>69</th>\n",
       "      <td>1979.750000</td>\n",
       "      <td>1492</td>\n",
       "    </tr>\n",
       "    <tr>\n",
       "      <th>70</th>\n",
       "      <td>1979.833333</td>\n",
       "      <td>1781</td>\n",
       "    </tr>\n",
       "    <tr>\n",
       "      <th>71</th>\n",
       "      <td>1979.916667</td>\n",
       "      <td>1915</td>\n",
       "    </tr>\n",
       "  </tbody>\n",
       "</table>\n",
       "<p>72 rows × 2 columns</p>\n",
       "</div>"
      ],
      "text/plain": [
       "           time  value\n",
       "0   1974.000000   3035\n",
       "1   1974.083333   2552\n",
       "2   1974.166667   2704\n",
       "3   1974.250000   2554\n",
       "4   1974.333333   2014\n",
       "..          ...    ...\n",
       "67  1979.583333   1354\n",
       "68  1979.666667   1333\n",
       "69  1979.750000   1492\n",
       "70  1979.833333   1781\n",
       "71  1979.916667   1915\n",
       "\n",
       "[72 rows x 2 columns]"
      ]
     },
     "execution_count": 127,
     "metadata": {},
     "output_type": "execute_result"
    }
   ],
   "source": [
    "raw_set=datasets.get_rdataset(\"deaths\",package=\"MASS\")\n",
    "raw_set.data"
   ]
  },
  {
   "cell_type": "code",
   "execution_count": 128,
   "metadata": {},
   "outputs": [],
   "source": [
    "raw=raw_set.data"
   ]
  },
  {
   "cell_type": "code",
   "execution_count": 129,
   "metadata": {},
   "outputs": [
    {
     "data": {
      "text/html": [
       "<div>\n",
       "<style scoped>\n",
       "    .dataframe tbody tr th:only-of-type {\n",
       "        vertical-align: middle;\n",
       "    }\n",
       "\n",
       "    .dataframe tbody tr th {\n",
       "        vertical-align: top;\n",
       "    }\n",
       "\n",
       "    .dataframe thead th {\n",
       "        text-align: right;\n",
       "    }\n",
       "</style>\n",
       "<table border=\"1\" class=\"dataframe\">\n",
       "  <thead>\n",
       "    <tr style=\"text-align: right;\">\n",
       "      <th></th>\n",
       "      <th>time</th>\n",
       "      <th>value</th>\n",
       "    </tr>\n",
       "  </thead>\n",
       "  <tbody>\n",
       "    <tr>\n",
       "      <th>0</th>\n",
       "      <td>1974-01-31</td>\n",
       "      <td>3035</td>\n",
       "    </tr>\n",
       "    <tr>\n",
       "      <th>1</th>\n",
       "      <td>1974-02-28</td>\n",
       "      <td>2552</td>\n",
       "    </tr>\n",
       "    <tr>\n",
       "      <th>2</th>\n",
       "      <td>1974-03-31</td>\n",
       "      <td>2704</td>\n",
       "    </tr>\n",
       "    <tr>\n",
       "      <th>3</th>\n",
       "      <td>1974-04-30</td>\n",
       "      <td>2554</td>\n",
       "    </tr>\n",
       "    <tr>\n",
       "      <th>4</th>\n",
       "      <td>1974-05-31</td>\n",
       "      <td>2014</td>\n",
       "    </tr>\n",
       "    <tr>\n",
       "      <th>...</th>\n",
       "      <td>...</td>\n",
       "      <td>...</td>\n",
       "    </tr>\n",
       "    <tr>\n",
       "      <th>67</th>\n",
       "      <td>1979-08-31</td>\n",
       "      <td>1354</td>\n",
       "    </tr>\n",
       "    <tr>\n",
       "      <th>68</th>\n",
       "      <td>1979-09-30</td>\n",
       "      <td>1333</td>\n",
       "    </tr>\n",
       "    <tr>\n",
       "      <th>69</th>\n",
       "      <td>1979-10-31</td>\n",
       "      <td>1492</td>\n",
       "    </tr>\n",
       "    <tr>\n",
       "      <th>70</th>\n",
       "      <td>1979-11-30</td>\n",
       "      <td>1781</td>\n",
       "    </tr>\n",
       "    <tr>\n",
       "      <th>71</th>\n",
       "      <td>1979-12-31</td>\n",
       "      <td>1915</td>\n",
       "    </tr>\n",
       "  </tbody>\n",
       "</table>\n",
       "<p>72 rows × 2 columns</p>\n",
       "</div>"
      ],
      "text/plain": [
       "         time  value\n",
       "0  1974-01-31   3035\n",
       "1  1974-02-28   2552\n",
       "2  1974-03-31   2704\n",
       "3  1974-04-30   2554\n",
       "4  1974-05-31   2014\n",
       "..        ...    ...\n",
       "67 1979-08-31   1354\n",
       "68 1979-09-30   1333\n",
       "69 1979-10-31   1492\n",
       "70 1979-11-30   1781\n",
       "71 1979-12-31   1915\n",
       "\n",
       "[72 rows x 2 columns]"
      ]
     },
     "execution_count": 129,
     "metadata": {},
     "output_type": "execute_result"
    }
   ],
   "source": [
    "raw.time=pd.date_range('1974-01-01',periods=len(raw),freq='M')\n",
    "raw"
   ]
  },
  {
   "cell_type": "code",
   "execution_count": 130,
   "metadata": {},
   "outputs": [
    {
     "data": {
      "text/html": [
       "<div>\n",
       "<style scoped>\n",
       "    .dataframe tbody tr th:only-of-type {\n",
       "        vertical-align: middle;\n",
       "    }\n",
       "\n",
       "    .dataframe tbody tr th {\n",
       "        vertical-align: top;\n",
       "    }\n",
       "\n",
       "    .dataframe thead th {\n",
       "        text-align: right;\n",
       "    }\n",
       "</style>\n",
       "<table border=\"1\" class=\"dataframe\">\n",
       "  <thead>\n",
       "    <tr style=\"text-align: right;\">\n",
       "      <th></th>\n",
       "      <th>time</th>\n",
       "      <th>value</th>\n",
       "      <th>month</th>\n",
       "    </tr>\n",
       "  </thead>\n",
       "  <tbody>\n",
       "    <tr>\n",
       "      <th>0</th>\n",
       "      <td>1974-01-31</td>\n",
       "      <td>3035</td>\n",
       "      <td>1</td>\n",
       "    </tr>\n",
       "    <tr>\n",
       "      <th>1</th>\n",
       "      <td>1974-02-28</td>\n",
       "      <td>2552</td>\n",
       "      <td>2</td>\n",
       "    </tr>\n",
       "    <tr>\n",
       "      <th>2</th>\n",
       "      <td>1974-03-31</td>\n",
       "      <td>2704</td>\n",
       "      <td>3</td>\n",
       "    </tr>\n",
       "    <tr>\n",
       "      <th>3</th>\n",
       "      <td>1974-04-30</td>\n",
       "      <td>2554</td>\n",
       "      <td>4</td>\n",
       "    </tr>\n",
       "    <tr>\n",
       "      <th>4</th>\n",
       "      <td>1974-05-31</td>\n",
       "      <td>2014</td>\n",
       "      <td>5</td>\n",
       "    </tr>\n",
       "    <tr>\n",
       "      <th>...</th>\n",
       "      <td>...</td>\n",
       "      <td>...</td>\n",
       "      <td>...</td>\n",
       "    </tr>\n",
       "    <tr>\n",
       "      <th>67</th>\n",
       "      <td>1979-08-31</td>\n",
       "      <td>1354</td>\n",
       "      <td>8</td>\n",
       "    </tr>\n",
       "    <tr>\n",
       "      <th>68</th>\n",
       "      <td>1979-09-30</td>\n",
       "      <td>1333</td>\n",
       "      <td>9</td>\n",
       "    </tr>\n",
       "    <tr>\n",
       "      <th>69</th>\n",
       "      <td>1979-10-31</td>\n",
       "      <td>1492</td>\n",
       "      <td>10</td>\n",
       "    </tr>\n",
       "    <tr>\n",
       "      <th>70</th>\n",
       "      <td>1979-11-30</td>\n",
       "      <td>1781</td>\n",
       "      <td>11</td>\n",
       "    </tr>\n",
       "    <tr>\n",
       "      <th>71</th>\n",
       "      <td>1979-12-31</td>\n",
       "      <td>1915</td>\n",
       "      <td>12</td>\n",
       "    </tr>\n",
       "  </tbody>\n",
       "</table>\n",
       "<p>72 rows × 3 columns</p>\n",
       "</div>"
      ],
      "text/plain": [
       "         time  value  month\n",
       "0  1974-01-31   3035      1\n",
       "1  1974-02-28   2552      2\n",
       "2  1974-03-31   2704      3\n",
       "3  1974-04-30   2554      4\n",
       "4  1974-05-31   2014      5\n",
       "..        ...    ...    ...\n",
       "67 1979-08-31   1354      8\n",
       "68 1979-09-30   1333      9\n",
       "69 1979-10-31   1492     10\n",
       "70 1979-11-30   1781     11\n",
       "71 1979-12-31   1915     12\n",
       "\n",
       "[72 rows x 3 columns]"
      ]
     },
     "execution_count": 130,
     "metadata": {},
     "output_type": "execute_result"
    }
   ],
   "source": [
    "raw['month']=raw.time.dt.month\n",
    "raw"
   ]
  },
  {
   "cell_type": "code",
   "execution_count": 131,
   "metadata": {},
   "outputs": [
    {
     "data": {
      "image/png": "[encoded data removed]",
      "text/plain": [
       "<Figure size 432x288 with 1 Axes>"
      ]
     },
     "metadata": {
      "needs_background": "light"
     },
     "output_type": "display_data"
    }
   ],
   "source": [
    "plt.plot(raw.time,raw.value)\n",
    "plt.show()"
   ]
  },
  {
   "cell_type": "code",
   "execution_count": 132,
   "metadata": {},
   "outputs": [
    {
     "data": {
      "image/png": "[encoded data removed]",
      "text/plain": [
       "<Figure size 432x288 with 1 Axes>"
      ]
     },
     "metadata": {
      "needs_background": "light"
     },
     "output_type": "display_data"
    }
   ],
   "source": [
    "sm.graphics.tsa.plot_acf(raw.value,lags=50,use_vlines=True,title='ACF')\n",
    "plt.show()"
   ]
  },
  {
   "cell_type": "code",
   "execution_count": 133,
   "metadata": {},
   "outputs": [
    {
     "data": {
      "text/html": [
       "<table class=\"simpletable\">\n",
       "<tr>\n",
       "        <td>Model:</td>               <td>OLS</td>         <td>Adj. R-squared:</td>     <td>0.826</td>  \n",
       "</tr>\n",
       "<tr>\n",
       "  <td>Dependent Variable:</td>       <td>value</td>             <td>AIC:</td>         <td>1012.7642</td>\n",
       "</tr>\n",
       "<tr>\n",
       "         <td>Date:</td>        <td>2021-07-24 17:47</td>        <td>BIC:</td>         <td>1040.0842</td>\n",
       "</tr>\n",
       "<tr>\n",
       "   <td>No. Observations:</td>         <td>72</td>          <td>Log-Likelihood:</td>    <td>-494.38</td> \n",
       "</tr>\n",
       "<tr>\n",
       "       <td>Df Model:</td>             <td>11</td>           <td>F-statistic:</td>       <td>31.66</td>  \n",
       "</tr>\n",
       "<tr>\n",
       "     <td>Df Residuals:</td>           <td>60</td>        <td>Prob (F-statistic):</td> <td>6.55e-21</td> \n",
       "</tr>\n",
       "<tr>\n",
       "      <td>R-squared:</td>            <td>0.853</td>            <td>Scale:</td>         <td>64685.</td>  \n",
       "</tr>\n",
       "</table>\n",
       "<table class=\"simpletable\">\n",
       "<tr>\n",
       "        <td></td>         <th>Coef.</th>   <th>Std.Err.</th>    <th>t</th>     <th>P>|t|</th>  <th>[0.025</th>    <th>0.975]</th>  \n",
       "</tr>\n",
       "<tr>\n",
       "  <th>C(month)[1]</th>  <td>2959.3333</td> <td>103.8306</td> <td>28.5016</td> <td>0.0000</td> <td>2751.6413</td> <td>3167.0254</td>\n",
       "</tr>\n",
       "<tr>\n",
       "  <th>C(month)[2]</th>  <td>2894.6667</td> <td>103.8306</td> <td>27.8788</td> <td>0.0000</td> <td>2686.9746</td> <td>3102.3587</td>\n",
       "</tr>\n",
       "<tr>\n",
       "  <th>C(month)[3]</th>  <td>2743.0000</td> <td>103.8306</td> <td>26.4180</td> <td>0.0000</td> <td>2535.3079</td> <td>2950.6921</td>\n",
       "</tr>\n",
       "<tr>\n",
       "  <th>C(month)[4]</th>  <td>2269.6667</td> <td>103.8306</td> <td>21.8593</td> <td>0.0000</td> <td>2061.9746</td> <td>2477.3587</td>\n",
       "</tr>\n",
       "<tr>\n",
       "  <th>C(month)[5]</th>  <td>1805.1667</td> <td>103.8306</td> <td>17.3857</td> <td>0.0000</td> <td>1597.4746</td> <td>2012.8587</td>\n",
       "</tr>\n",
       "<tr>\n",
       "  <th>C(month)[6]</th>  <td>1608.6667</td> <td>103.8306</td> <td>15.4932</td> <td>0.0000</td> <td>1400.9746</td> <td>1816.3587</td>\n",
       "</tr>\n",
       "<tr>\n",
       "  <th>C(month)[7]</th>  <td>1550.8333</td> <td>103.8306</td> <td>14.9362</td> <td>0.0000</td> <td>1343.1413</td> <td>1758.5254</td>\n",
       "</tr>\n",
       "<tr>\n",
       "  <th>C(month)[8]</th>  <td>1408.3333</td> <td>103.8306</td> <td>13.5638</td> <td>0.0000</td> <td>1200.6413</td> <td>1616.0254</td>\n",
       "</tr>\n",
       "<tr>\n",
       "  <th>C(month)[9]</th>  <td>1397.3333</td> <td>103.8306</td> <td>13.4578</td> <td>0.0000</td> <td>1189.6413</td> <td>1605.0254</td>\n",
       "</tr>\n",
       "<tr>\n",
       "  <th>C(month)[10]</th> <td>1690.0000</td> <td>103.8306</td> <td>16.2765</td> <td>0.0000</td> <td>1482.3079</td> <td>1897.6921</td>\n",
       "</tr>\n",
       "<tr>\n",
       "  <th>C(month)[11]</th> <td>1874.0000</td> <td>103.8306</td> <td>18.0486</td> <td>0.0000</td> <td>1666.3079</td> <td>2081.6921</td>\n",
       "</tr>\n",
       "<tr>\n",
       "  <th>C(month)[12]</th> <td>2478.5000</td> <td>103.8306</td> <td>23.8706</td> <td>0.0000</td> <td>2270.8079</td> <td>2686.1921</td>\n",
       "</tr>\n",
       "</table>\n",
       "<table class=\"simpletable\">\n",
       "<tr>\n",
       "     <td>Omnibus:</td>    <td>19.630</td>  <td>Durbin-Watson:</td>    <td>1.374</td>\n",
       "</tr>\n",
       "<tr>\n",
       "  <td>Prob(Omnibus):</td>  <td>0.000</td> <td>Jarque-Bera (JB):</td> <td>49.630</td>\n",
       "</tr>\n",
       "<tr>\n",
       "       <td>Skew:</td>      <td>0.787</td>     <td>Prob(JB):</td>      <td>0.000</td>\n",
       "</tr>\n",
       "<tr>\n",
       "     <td>Kurtosis:</td>    <td>6.750</td>  <td>Condition No.:</td>      <td>1</td>  \n",
       "</tr>\n",
       "</table>"
      ],
      "text/plain": [
       "<class 'statsmodels.iolib.summary2.Summary'>\n",
       "\"\"\"\n",
       "                 Results: Ordinary least squares\n",
       "==================================================================\n",
       "Model:              OLS              Adj. R-squared:     0.826    \n",
       "Dependent Variable: value            AIC:                1012.7642\n",
       "Date:               2021-07-24 17:47 BIC:                1040.0842\n",
       "No. Observations:   72               Log-Likelihood:     -494.38  \n",
       "Df Model:           11               F-statistic:        31.66    \n",
       "Df Residuals:       60               Prob (F-statistic): 6.55e-21 \n",
       "R-squared:          0.853            Scale:              64685.   \n",
       "------------------------------------------------------------------\n",
       "               Coef.   Std.Err.    t    P>|t|    [0.025    0.975] \n",
       "------------------------------------------------------------------\n",
       "C(month)[1]  2959.3333 103.8306 28.5016 0.0000 2751.6413 3167.0254\n",
       "C(month)[2]  2894.6667 103.8306 27.8788 0.0000 2686.9746 3102.3587\n",
       "C(month)[3]  2743.0000 103.8306 26.4180 0.0000 2535.3079 2950.6921\n",
       "C(month)[4]  2269.6667 103.8306 21.8593 0.0000 2061.9746 2477.3587\n",
       "C(month)[5]  1805.1667 103.8306 17.3857 0.0000 1597.4746 2012.8587\n",
       "C(month)[6]  1608.6667 103.8306 15.4932 0.0000 1400.9746 1816.3587\n",
       "C(month)[7]  1550.8333 103.8306 14.9362 0.0000 1343.1413 1758.5254\n",
       "C(month)[8]  1408.3333 103.8306 13.5638 0.0000 1200.6413 1616.0254\n",
       "C(month)[9]  1397.3333 103.8306 13.4578 0.0000 1189.6413 1605.0254\n",
       "C(month)[10] 1690.0000 103.8306 16.2765 0.0000 1482.3079 1897.6921\n",
       "C(month)[11] 1874.0000 103.8306 18.0486 0.0000 1666.3079 2081.6921\n",
       "C(month)[12] 2478.5000 103.8306 23.8706 0.0000 2270.8079 2686.1921\n",
       "------------------------------------------------------------------\n",
       "Omnibus:               19.630       Durbin-Watson:          1.374 \n",
       "Prob(Omnibus):         0.000        Jarque-Bera (JB):       49.630\n",
       "Skew:                  0.787        Prob(JB):               0.000 \n",
       "Kurtosis:              6.750        Condition No.:          1     \n",
       "==================================================================\n",
       "\n",
       "\"\"\""
      ]
     },
     "execution_count": 133,
     "metadata": {},
     "output_type": "execute_result"
    }
   ],
   "source": [
    "result=sm.OLS.from_formula(formula='value ~ C(month) - 1',data=raw).fit()\n",
    "result.summary2()"
   ]
  },
  {
   "cell_type": "code",
   "execution_count": 134,
   "metadata": {},
   "outputs": [
    {
     "data": {
      "image/png": "[encoded data removed]",
      "text/plain": [
       "<Figure size 432x288 with 1 Axes>"
      ]
     },
     "metadata": {
      "needs_background": "light"
     },
     "output_type": "display_data"
    }
   ],
   "source": [
    "plt.plot(raw.time, raw.value, raw.time, result.fittedvalues)\n",
    "plt.show()"
   ]
  },
  {
   "cell_type": "code",
   "execution_count": 135,
   "metadata": {},
   "outputs": [
    {
     "data": {
      "image/png": "[encoded data removed]",
      "text/plain": [
       "<Figure size 432x288 with 1 Axes>"
      ]
     },
     "metadata": {
      "needs_background": "light"
     },
     "output_type": "display_data"
    }
   ],
   "source": [
    "plt.plot(raw.time,result.resid)\n",
    "plt.show()"
   ]
  },
  {
   "cell_type": "code",
   "execution_count": 136,
   "metadata": {},
   "outputs": [
    {
     "data": {
      "image/png": "[encoded data removed]",
      "text/plain": [
       "<Figure size 432x288 with 1 Axes>"
      ]
     },
     "metadata": {
      "needs_background": "light"
     },
     "output_type": "display_data"
    }
   ],
   "source": [
    "sm.graphics.tsa.plot_acf(result.resid,lags=50,use_vlines=True)\n",
    "plt.show()"
   ]
  },
  {
   "cell_type": "code",
   "execution_count": 137,
   "metadata": {},
   "outputs": [
    {
     "data": {
      "image/png": "[encoded data removed]",
      "text/plain": [
       "<Figure size 432x288 with 1 Axes>"
      ]
     },
     "metadata": {
      "needs_background": "light"
     },
     "output_type": "display_data"
    }
   ],
   "source": [
    "plt.plot(raw.time[12:],raw.value.diff(12).dropna())\n",
    "plt.show()"
   ]
  },
  {
   "cell_type": "code",
   "execution_count": 138,
   "metadata": {},
   "outputs": [
    {
     "data": {
      "image/png": "[encoded data removed]",
      "text/plain": [
       "<Figure size 432x288 with 1 Axes>"
      ]
     },
     "metadata": {
      "needs_background": "light"
     },
     "output_type": "display_data"
    }
   ],
   "source": [
    "sm.graphics.tsa.plot_acf(raw.value.diff(12).dropna(),lags=50,use_vlines=True)\n",
    "plt.show()"
   ]
  },
  {
   "cell_type": "markdown",
   "metadata": {},
   "source": [
    "### ARMA 모델링"
   ]
  },
  {
   "cell_type": "code",
   "execution_count": 139,
   "metadata": {},
   "outputs": [],
   "source": [
    "import warnings\n",
    "warnings.filterwarnings('always')\n",
    "warnings.filterwarnings('ignore')"
   ]
  },
  {
   "cell_type": "code",
   "execution_count": 140,
   "metadata": {},
   "outputs": [],
   "source": [
    "import numpy as np"
   ]
  },
  {
   "cell_type": "code",
   "execution_count": 141,
   "metadata": {},
   "outputs": [
    {
     "data": {
      "text/html": [
       "<div>\n",
       "<style scoped>\n",
       "    .dataframe tbody tr th:only-of-type {\n",
       "        vertical-align: middle;\n",
       "    }\n",
       "\n",
       "    .dataframe tbody tr th {\n",
       "        vertical-align: top;\n",
       "    }\n",
       "\n",
       "    .dataframe thead th {\n",
       "        text-align: right;\n",
       "    }\n",
       "</style>\n",
       "<table border=\"1\" class=\"dataframe\">\n",
       "  <thead>\n",
       "    <tr style=\"text-align: right;\">\n",
       "      <th></th>\n",
       "      <th>time</th>\n",
       "      <th>value</th>\n",
       "      <th>month</th>\n",
       "    </tr>\n",
       "  </thead>\n",
       "  <tbody>\n",
       "    <tr>\n",
       "      <th>0</th>\n",
       "      <td>1974-01-31</td>\n",
       "      <td>3035</td>\n",
       "      <td>1</td>\n",
       "    </tr>\n",
       "    <tr>\n",
       "      <th>1</th>\n",
       "      <td>1974-02-28</td>\n",
       "      <td>2552</td>\n",
       "      <td>2</td>\n",
       "    </tr>\n",
       "    <tr>\n",
       "      <th>2</th>\n",
       "      <td>1974-03-31</td>\n",
       "      <td>2704</td>\n",
       "      <td>3</td>\n",
       "    </tr>\n",
       "    <tr>\n",
       "      <th>3</th>\n",
       "      <td>1974-04-30</td>\n",
       "      <td>2554</td>\n",
       "      <td>4</td>\n",
       "    </tr>\n",
       "    <tr>\n",
       "      <th>4</th>\n",
       "      <td>1974-05-31</td>\n",
       "      <td>2014</td>\n",
       "      <td>5</td>\n",
       "    </tr>\n",
       "  </tbody>\n",
       "</table>\n",
       "</div>"
      ],
      "text/plain": [
       "        time  value  month\n",
       "0 1974-01-31   3035      1\n",
       "1 1974-02-28   2552      2\n",
       "2 1974-03-31   2704      3\n",
       "3 1974-04-30   2554      4\n",
       "4 1974-05-31   2014      5"
      ]
     },
     "execution_count": 141,
     "metadata": {},
     "output_type": "execute_result"
    }
   ],
   "source": [
    "raw.head()"
   ]
  },
  {
   "cell_type": "code",
   "execution_count": 142,
   "metadata": {},
   "outputs": [
    {
     "data": {
      "image/png": "[encoded data removed]",
      "text/plain": [
       "<Figure size 720x576 with 2 Axes>"
      ]
     },
     "metadata": {
      "needs_background": "light"
     },
     "output_type": "display_data"
    }
   ],
   "source": [
    "plt.figure(figsize=(10,8))\n",
    "sm.graphics.tsa.plot_acf(raw.value,lags=30,ax=plt.subplot(211),title='ACF')\n",
    "sm.graphics.tsa.plot_pacf(raw.value,lags=30,ax=plt.subplot(212),title='PACF')\n",
    "plt.show()"
   ]
  },
  {
   "cell_type": "code",
   "execution_count": 143,
   "metadata": {},
   "outputs": [
    {
     "data": {
      "image/png": "[encoded data removed]",
      "text/plain": [
       "<Figure size 432x288 with 1 Axes>"
      ]
     },
     "metadata": {
      "needs_background": "light"
     },
     "output_type": "display_data"
    }
   ],
   "source": [
    "raw['logvalue']=np.log(raw.value)\n",
    "raw.plot(x='time',y='logvalue')\n",
    "plt.show()"
   ]
  },
  {
   "cell_type": "code",
   "execution_count": 144,
   "metadata": {},
   "outputs": [
    {
     "data": {
      "image/png": "[encoded data removed]",
      "text/plain": [
       "<Figure size 720x576 with 2 Axes>"
      ]
     },
     "metadata": {
      "needs_background": "light"
     },
     "output_type": "display_data"
    }
   ],
   "source": [
    "plt.figure(figsize=(10,8))\n",
    "sm.graphics.tsa.plot_acf(raw.logvalue,lags=30,ax=plt.subplot(211),title='ACF')\n",
    "sm.graphics.tsa.plot_pacf(raw.logvalue,lags=30,ax=plt.subplot(212),title='PACF')\n",
    "plt.show()"
   ]
  },
  {
   "cell_type": "code",
   "execution_count": 145,
   "metadata": {},
   "outputs": [
    {
     "data": {
      "text/html": [
       "<table class=\"simpletable\">\n",
       "<caption>ARMA Model Results</caption>\n",
       "<tr>\n",
       "  <th>Dep. Variable:</th>       <td>value</td>      <th>  No. Observations:  </th>    <td>72</td>   \n",
       "</tr>\n",
       "<tr>\n",
       "  <th>Model:</th>            <td>ARMA(1, 1)</td>    <th>  Log Likelihood     </th> <td>-526.068</td>\n",
       "</tr>\n",
       "<tr>\n",
       "  <th>Method:</th>             <td>css-mle</td>     <th>  S.D. of innovations</th>  <td>357.484</td>\n",
       "</tr>\n",
       "<tr>\n",
       "  <th>Date:</th>          <td>Sat, 24 Jul 2021</td> <th>  AIC                </th> <td>1060.137</td>\n",
       "</tr>\n",
       "<tr>\n",
       "  <th>Time:</th>              <td>17:47:54</td>     <th>  BIC                </th> <td>1069.244</td>\n",
       "</tr>\n",
       "<tr>\n",
       "  <th>Sample:</th>                <td>0</td>        <th>  HQIC               </th> <td>1063.762</td>\n",
       "</tr>\n",
       "<tr>\n",
       "  <th></th>                       <td> </td>        <th>                     </th>     <td> </td>   \n",
       "</tr>\n",
       "</table>\n",
       "<table class=\"simpletable\">\n",
       "<tr>\n",
       "       <td></td>          <th>coef</th>     <th>std err</th>      <th>z</th>      <th>P>|z|</th>  <th>[0.025</th>    <th>0.975]</th>  \n",
       "</tr>\n",
       "<tr>\n",
       "  <th>const</th>       <td> 2086.0404</td> <td>  161.986</td> <td>   12.878</td> <td> 0.000</td> <td> 1768.554</td> <td> 2403.527</td>\n",
       "</tr>\n",
       "<tr>\n",
       "  <th>ar.L1.value</th> <td>    0.6356</td> <td>    0.107</td> <td>    5.931</td> <td> 0.000</td> <td>    0.426</td> <td>    0.846</td>\n",
       "</tr>\n",
       "<tr>\n",
       "  <th>ma.L1.value</th> <td>    0.4376</td> <td>    0.120</td> <td>    3.655</td> <td> 0.000</td> <td>    0.203</td> <td>    0.672</td>\n",
       "</tr>\n",
       "</table>\n",
       "<table class=\"simpletable\">\n",
       "<caption>Roots</caption>\n",
       "<tr>\n",
       "    <td></td>   <th>            Real</th>  <th>         Imaginary</th> <th>         Modulus</th>  <th>        Frequency</th>\n",
       "</tr>\n",
       "<tr>\n",
       "  <th>AR.1</th> <td>           1.5732</td> <td>          +0.0000j</td> <td>           1.5732</td> <td>           0.0000</td>\n",
       "</tr>\n",
       "<tr>\n",
       "  <th>MA.1</th> <td>          -2.2854</td> <td>          +0.0000j</td> <td>           2.2854</td> <td>           0.5000</td>\n",
       "</tr>\n",
       "</table>"
      ],
      "text/plain": [
       "<class 'statsmodels.iolib.summary.Summary'>\n",
       "\"\"\"\n",
       "                              ARMA Model Results                              \n",
       "==============================================================================\n",
       "Dep. Variable:                  value   No. Observations:                   72\n",
       "Model:                     ARMA(1, 1)   Log Likelihood                -526.068\n",
       "Method:                       css-mle   S.D. of innovations            357.484\n",
       "Date:                Sat, 24 Jul 2021   AIC                           1060.137\n",
       "Time:                        17:47:54   BIC                           1069.244\n",
       "Sample:                             0   HQIC                          1063.762\n",
       "                                                                              \n",
       "===============================================================================\n",
       "                  coef    std err          z      P>|z|      [0.025      0.975]\n",
       "-------------------------------------------------------------------------------\n",
       "const        2086.0404    161.986     12.878      0.000    1768.554    2403.527\n",
       "ar.L1.value     0.6356      0.107      5.931      0.000       0.426       0.846\n",
       "ma.L1.value     0.4376      0.120      3.655      0.000       0.203       0.672\n",
       "                                    Roots                                    \n",
       "=============================================================================\n",
       "                  Real          Imaginary           Modulus         Frequency\n",
       "-----------------------------------------------------------------------------\n",
       "AR.1            1.5732           +0.0000j            1.5732            0.0000\n",
       "MA.1           -2.2854           +0.0000j            2.2854            0.5000\n",
       "-----------------------------------------------------------------------------\n",
       "\"\"\""
      ]
     },
     "metadata": {},
     "output_type": "display_data"
    }
   ],
   "source": [
    "fit=statsmodels.tsa.arima_model.ARMA(raw.value,(1,1)).fit()\n",
    "display(fit.summary())"
   ]
  },
  {
   "cell_type": "code",
   "execution_count": 146,
   "metadata": {},
   "outputs": [
    {
     "data": {
      "text/plain": [
       "(array([1970.06862917, 2012.32401203, 2039.18325661]),\n",
       " array([357.48360217, 524.3877977 , 578.31851028]),\n",
       " array([[1269.41364386, 2670.72361449],\n",
       "        [ 984.54281461, 3040.10520945],\n",
       "        [ 905.69980487, 3172.66670835]]))"
      ]
     },
     "execution_count": 146,
     "metadata": {},
     "output_type": "execute_result"
    }
   ],
   "source": [
    "fit.forecast(steps=3)"
   ]
  },
  {
   "cell_type": "code",
   "execution_count": 147,
   "metadata": {},
   "outputs": [
    {
     "data": {
      "text/html": [
       "<table class=\"simpletable\">\n",
       "<caption>ARMA Model Results</caption>\n",
       "<tr>\n",
       "  <th>Dep. Variable:</th>     <td>logvalue</td>     <th>  No. Observations:  </th>   <td>72</td>   \n",
       "</tr>\n",
       "<tr>\n",
       "  <th>Model:</th>            <td>ARMA(1, 1)</td>    <th>  Log Likelihood     </th> <td>31.983</td> \n",
       "</tr>\n",
       "<tr>\n",
       "  <th>Method:</th>             <td>css-mle</td>     <th>  S.D. of innovations</th>  <td>0.154</td> \n",
       "</tr>\n",
       "<tr>\n",
       "  <th>Date:</th>          <td>Sat, 24 Jul 2021</td> <th>  AIC                </th> <td>-55.965</td>\n",
       "</tr>\n",
       "<tr>\n",
       "  <th>Time:</th>              <td>17:47:54</td>     <th>  BIC                </th> <td>-46.859</td>\n",
       "</tr>\n",
       "<tr>\n",
       "  <th>Sample:</th>                <td>0</td>        <th>  HQIC               </th> <td>-52.340</td>\n",
       "</tr>\n",
       "<tr>\n",
       "  <th></th>                       <td> </td>        <th>                     </th>    <td> </td>   \n",
       "</tr>\n",
       "</table>\n",
       "<table class=\"simpletable\">\n",
       "<tr>\n",
       "         <td></td>           <th>coef</th>     <th>std err</th>      <th>z</th>      <th>P>|z|</th>  <th>[0.025</th>    <th>0.975]</th>  \n",
       "</tr>\n",
       "<tr>\n",
       "  <th>const</th>          <td>    7.6037</td> <td>    0.080</td> <td>   94.470</td> <td> 0.000</td> <td>    7.446</td> <td>    7.761</td>\n",
       "</tr>\n",
       "<tr>\n",
       "  <th>ar.L1.logvalue</th> <td>    0.6796</td> <td>    0.098</td> <td>    6.970</td> <td> 0.000</td> <td>    0.489</td> <td>    0.871</td>\n",
       "</tr>\n",
       "<tr>\n",
       "  <th>ma.L1.logvalue</th> <td>    0.4680</td> <td>    0.111</td> <td>    4.214</td> <td> 0.000</td> <td>    0.250</td> <td>    0.686</td>\n",
       "</tr>\n",
       "</table>\n",
       "<table class=\"simpletable\">\n",
       "<caption>Roots</caption>\n",
       "<tr>\n",
       "    <td></td>   <th>            Real</th>  <th>         Imaginary</th> <th>         Modulus</th>  <th>        Frequency</th>\n",
       "</tr>\n",
       "<tr>\n",
       "  <th>AR.1</th> <td>           1.4713</td> <td>          +0.0000j</td> <td>           1.4713</td> <td>           0.0000</td>\n",
       "</tr>\n",
       "<tr>\n",
       "  <th>MA.1</th> <td>          -2.1369</td> <td>          +0.0000j</td> <td>           2.1369</td> <td>           0.5000</td>\n",
       "</tr>\n",
       "</table>"
      ],
      "text/plain": [
       "<class 'statsmodels.iolib.summary.Summary'>\n",
       "\"\"\"\n",
       "                              ARMA Model Results                              \n",
       "==============================================================================\n",
       "Dep. Variable:               logvalue   No. Observations:                   72\n",
       "Model:                     ARMA(1, 1)   Log Likelihood                  31.983\n",
       "Method:                       css-mle   S.D. of innovations              0.154\n",
       "Date:                Sat, 24 Jul 2021   AIC                            -55.965\n",
       "Time:                        17:47:54   BIC                            -46.859\n",
       "Sample:                             0   HQIC                           -52.340\n",
       "                                                                              \n",
       "==================================================================================\n",
       "                     coef    std err          z      P>|z|      [0.025      0.975]\n",
       "----------------------------------------------------------------------------------\n",
       "const              7.6037      0.080     94.470      0.000       7.446       7.761\n",
       "ar.L1.logvalue     0.6796      0.098      6.970      0.000       0.489       0.871\n",
       "ma.L1.logvalue     0.4680      0.111      4.214      0.000       0.250       0.686\n",
       "                                    Roots                                    \n",
       "=============================================================================\n",
       "                  Real          Imaginary           Modulus         Frequency\n",
       "-----------------------------------------------------------------------------\n",
       "AR.1            1.4713           +0.0000j            1.4713            0.0000\n",
       "MA.1           -2.1369           +0.0000j            2.1369            0.5000\n",
       "-----------------------------------------------------------------------------\n",
       "\"\"\""
      ]
     },
     "metadata": {},
     "output_type": "display_data"
    }
   ],
   "source": [
    "fit_log=statsmodels.tsa.arima_model.ARMA(raw.logvalue,(1,1)).fit()\n",
    "display(fit_log.summary())"
   ]
  },
  {
   "cell_type": "code",
   "execution_count": 148,
   "metadata": {},
   "outputs": [
    {
     "data": {
      "text/plain": [
       "(array([7.5720896 , 7.58220575, 7.58908118]),\n",
       " array([0.15366241, 0.23390208, 0.26282141]),\n",
       " array([[7.27091682, 7.87326239],\n",
       "        [7.12376609, 8.04064541],\n",
       "        [7.07396069, 8.10420166]]))"
      ]
     },
     "execution_count": 148,
     "metadata": {},
     "output_type": "execute_result"
    }
   ],
   "source": [
    "fit_log.forecast(steps=3)"
   ]
  },
  {
   "cell_type": "code",
   "execution_count": 149,
   "metadata": {},
   "outputs": [],
   "source": [
    "from itertools import product\n",
    "\n",
    "result=[]\n",
    "for p,q in product(range(4),range(2)):\n",
    "    model=statsmodels.tsa.arima_model.ARMA(raw.value,(p,q)).fit()\n",
    "    result.append({\"p\":p,\"q\":q,\"LLF\":model.llf,\"AIC\":model.aic,\"BIC\":model.bic})\n",
    "    \n",
    "result=pd.DataFrame(result)"
   ]
  },
  {
   "cell_type": "code",
   "execution_count": 150,
   "metadata": {},
   "outputs": [
    {
     "data": {
      "text/html": [
       "<div>\n",
       "<style scoped>\n",
       "    .dataframe tbody tr th:only-of-type {\n",
       "        vertical-align: middle;\n",
       "    }\n",
       "\n",
       "    .dataframe tbody tr th {\n",
       "        vertical-align: top;\n",
       "    }\n",
       "\n",
       "    .dataframe thead th {\n",
       "        text-align: right;\n",
       "    }\n",
       "</style>\n",
       "<table border=\"1\" class=\"dataframe\">\n",
       "  <thead>\n",
       "    <tr style=\"text-align: right;\">\n",
       "      <th></th>\n",
       "      <th>p</th>\n",
       "      <th>q</th>\n",
       "      <th>LLF</th>\n",
       "      <th>AIC</th>\n",
       "      <th>BIC</th>\n",
       "    </tr>\n",
       "  </thead>\n",
       "  <tbody>\n",
       "    <tr>\n",
       "      <th>0</th>\n",
       "      <td>0</td>\n",
       "      <td>0</td>\n",
       "      <td>-563.410898</td>\n",
       "      <td>1130.821796</td>\n",
       "      <td>1135.375128</td>\n",
       "    </tr>\n",
       "    <tr>\n",
       "      <th>1</th>\n",
       "      <td>0</td>\n",
       "      <td>1</td>\n",
       "      <td>-536.952582</td>\n",
       "      <td>1079.905163</td>\n",
       "      <td>1086.735162</td>\n",
       "    </tr>\n",
       "    <tr>\n",
       "      <th>2</th>\n",
       "      <td>1</td>\n",
       "      <td>0</td>\n",
       "      <td>-531.583955</td>\n",
       "      <td>1069.167910</td>\n",
       "      <td>1075.997908</td>\n",
       "    </tr>\n",
       "    <tr>\n",
       "      <th>3</th>\n",
       "      <td>1</td>\n",
       "      <td>1</td>\n",
       "      <td>-526.068467</td>\n",
       "      <td>1060.136933</td>\n",
       "      <td>1069.243598</td>\n",
       "    </tr>\n",
       "    <tr>\n",
       "      <th>4</th>\n",
       "      <td>2</td>\n",
       "      <td>0</td>\n",
       "      <td>-523.657037</td>\n",
       "      <td>1055.314075</td>\n",
       "      <td>1064.420739</td>\n",
       "    </tr>\n",
       "    <tr>\n",
       "      <th>5</th>\n",
       "      <td>2</td>\n",
       "      <td>1</td>\n",
       "      <td>-516.137342</td>\n",
       "      <td>1042.274684</td>\n",
       "      <td>1053.658014</td>\n",
       "    </tr>\n",
       "    <tr>\n",
       "      <th>6</th>\n",
       "      <td>3</td>\n",
       "      <td>0</td>\n",
       "      <td>-521.836827</td>\n",
       "      <td>1053.673654</td>\n",
       "      <td>1065.056984</td>\n",
       "    </tr>\n",
       "    <tr>\n",
       "      <th>7</th>\n",
       "      <td>3</td>\n",
       "      <td>1</td>\n",
       "      <td>-515.726249</td>\n",
       "      <td>1043.452498</td>\n",
       "      <td>1057.112495</td>\n",
       "    </tr>\n",
       "  </tbody>\n",
       "</table>\n",
       "</div>"
      ],
      "text/plain": [
       "   p  q         LLF          AIC          BIC\n",
       "0  0  0 -563.410898  1130.821796  1135.375128\n",
       "1  0  1 -536.952582  1079.905163  1086.735162\n",
       "2  1  0 -531.583955  1069.167910  1075.997908\n",
       "3  1  1 -526.068467  1060.136933  1069.243598\n",
       "4  2  0 -523.657037  1055.314075  1064.420739\n",
       "5  2  1 -516.137342  1042.274684  1053.658014\n",
       "6  3  0 -521.836827  1053.673654  1065.056984\n",
       "7  3  1 -515.726249  1043.452498  1057.112495"
      ]
     },
     "metadata": {},
     "output_type": "display_data"
    }
   ],
   "source": [
    "display(result)"
   ]
  },
  {
   "cell_type": "code",
   "execution_count": 151,
   "metadata": {},
   "outputs": [
    {
     "data": {
      "text/html": [
       "<table class=\"simpletable\">\n",
       "<caption>ARMA Model Results</caption>\n",
       "<tr>\n",
       "  <th>Dep. Variable:</th>       <td>value</td>      <th>  No. Observations:  </th>    <td>72</td>   \n",
       "</tr>\n",
       "<tr>\n",
       "  <th>Model:</th>            <td>ARMA(2, 1)</td>    <th>  Log Likelihood     </th> <td>-516.137</td>\n",
       "</tr>\n",
       "<tr>\n",
       "  <th>Method:</th>             <td>css-mle</td>     <th>  S.D. of innovations</th>  <td>309.351</td>\n",
       "</tr>\n",
       "<tr>\n",
       "  <th>Date:</th>          <td>Sat, 24 Jul 2021</td> <th>  AIC                </th> <td>1042.275</td>\n",
       "</tr>\n",
       "<tr>\n",
       "  <th>Time:</th>              <td>17:47:56</td>     <th>  BIC                </th> <td>1053.658</td>\n",
       "</tr>\n",
       "<tr>\n",
       "  <th>Sample:</th>                <td>0</td>        <th>  HQIC               </th> <td>1046.806</td>\n",
       "</tr>\n",
       "<tr>\n",
       "  <th></th>                       <td> </td>        <th>                     </th>     <td> </td>   \n",
       "</tr>\n",
       "</table>\n",
       "<table class=\"simpletable\">\n",
       "<tr>\n",
       "       <td></td>          <th>coef</th>     <th>std err</th>      <th>z</th>      <th>P>|z|</th>  <th>[0.025</th>    <th>0.975]</th>  \n",
       "</tr>\n",
       "<tr>\n",
       "  <th>const</th>       <td> 2065.9493</td> <td>   42.606</td> <td>   48.490</td> <td> 0.000</td> <td> 1982.443</td> <td> 2149.455</td>\n",
       "</tr>\n",
       "<tr>\n",
       "  <th>ar.L1.value</th> <td>    1.6097</td> <td>    0.067</td> <td>   24.172</td> <td> 0.000</td> <td>    1.479</td> <td>    1.740</td>\n",
       "</tr>\n",
       "<tr>\n",
       "  <th>ar.L2.value</th> <td>   -0.8503</td> <td>    0.061</td> <td>  -13.842</td> <td> 0.000</td> <td>   -0.971</td> <td>   -0.730</td>\n",
       "</tr>\n",
       "<tr>\n",
       "  <th>ma.L1.value</th> <td>   -0.7315</td> <td>    0.076</td> <td>   -9.639</td> <td> 0.000</td> <td>   -0.880</td> <td>   -0.583</td>\n",
       "</tr>\n",
       "</table>\n",
       "<table class=\"simpletable\">\n",
       "<caption>Roots</caption>\n",
       "<tr>\n",
       "    <td></td>   <th>            Real</th>  <th>         Imaginary</th> <th>         Modulus</th>  <th>        Frequency</th>\n",
       "</tr>\n",
       "<tr>\n",
       "  <th>AR.1</th> <td>           0.9466</td> <td>          -0.5293j</td> <td>           1.0845</td> <td>          -0.0811</td>\n",
       "</tr>\n",
       "<tr>\n",
       "  <th>AR.2</th> <td>           0.9466</td> <td>          +0.5293j</td> <td>           1.0845</td> <td>           0.0811</td>\n",
       "</tr>\n",
       "<tr>\n",
       "  <th>MA.1</th> <td>           1.3670</td> <td>          +0.0000j</td> <td>           1.3670</td> <td>           0.0000</td>\n",
       "</tr>\n",
       "</table>"
      ],
      "text/plain": [
       "<class 'statsmodels.iolib.summary.Summary'>\n",
       "\"\"\"\n",
       "                              ARMA Model Results                              \n",
       "==============================================================================\n",
       "Dep. Variable:                  value   No. Observations:                   72\n",
       "Model:                     ARMA(2, 1)   Log Likelihood                -516.137\n",
       "Method:                       css-mle   S.D. of innovations            309.351\n",
       "Date:                Sat, 24 Jul 2021   AIC                           1042.275\n",
       "Time:                        17:47:56   BIC                           1053.658\n",
       "Sample:                             0   HQIC                          1046.806\n",
       "                                                                              \n",
       "===============================================================================\n",
       "                  coef    std err          z      P>|z|      [0.025      0.975]\n",
       "-------------------------------------------------------------------------------\n",
       "const        2065.9493     42.606     48.490      0.000    1982.443    2149.455\n",
       "ar.L1.value     1.6097      0.067     24.172      0.000       1.479       1.740\n",
       "ar.L2.value    -0.8503      0.061    -13.842      0.000      -0.971      -0.730\n",
       "ma.L1.value    -0.7315      0.076     -9.639      0.000      -0.880      -0.583\n",
       "                                    Roots                                    \n",
       "=============================================================================\n",
       "                  Real          Imaginary           Modulus         Frequency\n",
       "-----------------------------------------------------------------------------\n",
       "AR.1            0.9466           -0.5293j            1.0845           -0.0811\n",
       "AR.2            0.9466           +0.5293j            1.0845            0.0811\n",
       "MA.1            1.3670           +0.0000j            1.3670            0.0000\n",
       "-----------------------------------------------------------------------------\n",
       "\"\"\""
      ]
     },
     "metadata": {},
     "output_type": "display_data"
    }
   ],
   "source": [
    "fit=statsmodels.tsa.arima_model.ARMA(raw.value,(2,1)).fit()\n",
    "display(fit.summary())"
   ]
  },
  {
   "cell_type": "code",
   "execution_count": 152,
   "metadata": {},
   "outputs": [],
   "source": [
    "result_log=[]\n",
    "for p,q in product(range(4),range(2)):\n",
    "    model=statsmodels.tsa.arima_model.ARMA(raw.logvalue,(p,q)).fit()\n",
    "    result_log.append({\"p\":p,\"q\":q,\"LLF\":model.llf,\"AIC\":model.aic,\"BIC\":model.bic})\n",
    "    \n",
    "result_log=pd.DataFrame(result_log)"
   ]
  },
  {
   "cell_type": "code",
   "execution_count": 153,
   "metadata": {},
   "outputs": [
    {
     "data": {
      "text/html": [
       "<div>\n",
       "<style scoped>\n",
       "    .dataframe tbody tr th:only-of-type {\n",
       "        vertical-align: middle;\n",
       "    }\n",
       "\n",
       "    .dataframe tbody tr th {\n",
       "        vertical-align: top;\n",
       "    }\n",
       "\n",
       "    .dataframe thead th {\n",
       "        text-align: right;\n",
       "    }\n",
       "</style>\n",
       "<table border=\"1\" class=\"dataframe\">\n",
       "  <thead>\n",
       "    <tr style=\"text-align: right;\">\n",
       "      <th></th>\n",
       "      <th>p</th>\n",
       "      <th>q</th>\n",
       "      <th>LLF</th>\n",
       "      <th>AIC</th>\n",
       "      <th>BIC</th>\n",
       "    </tr>\n",
       "  </thead>\n",
       "  <tbody>\n",
       "    <tr>\n",
       "      <th>0</th>\n",
       "      <td>0</td>\n",
       "      <td>0</td>\n",
       "      <td>-11.258028</td>\n",
       "      <td>26.516056</td>\n",
       "      <td>31.069388</td>\n",
       "    </tr>\n",
       "    <tr>\n",
       "      <th>1</th>\n",
       "      <td>0</td>\n",
       "      <td>1</td>\n",
       "      <td>17.821620</td>\n",
       "      <td>-29.643240</td>\n",
       "      <td>-22.813242</td>\n",
       "    </tr>\n",
       "    <tr>\n",
       "      <th>2</th>\n",
       "      <td>1</td>\n",
       "      <td>0</td>\n",
       "      <td>24.894297</td>\n",
       "      <td>-43.788594</td>\n",
       "      <td>-36.958595</td>\n",
       "    </tr>\n",
       "    <tr>\n",
       "      <th>3</th>\n",
       "      <td>1</td>\n",
       "      <td>1</td>\n",
       "      <td>31.982602</td>\n",
       "      <td>-55.965203</td>\n",
       "      <td>-46.858539</td>\n",
       "    </tr>\n",
       "    <tr>\n",
       "      <th>4</th>\n",
       "      <td>2</td>\n",
       "      <td>0</td>\n",
       "      <td>35.739122</td>\n",
       "      <td>-63.478243</td>\n",
       "      <td>-54.371579</td>\n",
       "    </tr>\n",
       "    <tr>\n",
       "      <th>5</th>\n",
       "      <td>2</td>\n",
       "      <td>1</td>\n",
       "      <td>44.512880</td>\n",
       "      <td>-79.025760</td>\n",
       "      <td>-67.642430</td>\n",
       "    </tr>\n",
       "    <tr>\n",
       "      <th>6</th>\n",
       "      <td>3</td>\n",
       "      <td>0</td>\n",
       "      <td>38.560200</td>\n",
       "      <td>-67.120400</td>\n",
       "      <td>-55.737069</td>\n",
       "    </tr>\n",
       "    <tr>\n",
       "      <th>7</th>\n",
       "      <td>3</td>\n",
       "      <td>1</td>\n",
       "      <td>45.279957</td>\n",
       "      <td>-78.559913</td>\n",
       "      <td>-64.899917</td>\n",
       "    </tr>\n",
       "  </tbody>\n",
       "</table>\n",
       "</div>"
      ],
      "text/plain": [
       "   p  q        LLF        AIC        BIC\n",
       "0  0  0 -11.258028  26.516056  31.069388\n",
       "1  0  1  17.821620 -29.643240 -22.813242\n",
       "2  1  0  24.894297 -43.788594 -36.958595\n",
       "3  1  1  31.982602 -55.965203 -46.858539\n",
       "4  2  0  35.739122 -63.478243 -54.371579\n",
       "5  2  1  44.512880 -79.025760 -67.642430\n",
       "6  3  0  38.560200 -67.120400 -55.737069\n",
       "7  3  1  45.279957 -78.559913 -64.899917"
      ]
     },
     "metadata": {},
     "output_type": "display_data"
    }
   ],
   "source": [
    "display(result_log)"
   ]
  },
  {
   "cell_type": "code",
   "execution_count": 154,
   "metadata": {},
   "outputs": [
    {
     "data": {
      "text/html": [
       "<table class=\"simpletable\">\n",
       "<caption>ARMA Model Results</caption>\n",
       "<tr>\n",
       "  <th>Dep. Variable:</th>     <td>logvalue</td>     <th>  No. Observations:  </th>   <td>72</td>   \n",
       "</tr>\n",
       "<tr>\n",
       "  <th>Model:</th>            <td>ARMA(2, 1)</td>    <th>  Log Likelihood     </th> <td>44.513</td> \n",
       "</tr>\n",
       "<tr>\n",
       "  <th>Method:</th>             <td>css-mle</td>     <th>  S.D. of innovations</th>  <td>0.128</td> \n",
       "</tr>\n",
       "<tr>\n",
       "  <th>Date:</th>          <td>Sat, 24 Jul 2021</td> <th>  AIC                </th> <td>-79.026</td>\n",
       "</tr>\n",
       "<tr>\n",
       "  <th>Time:</th>              <td>17:47:58</td>     <th>  BIC                </th> <td>-67.642</td>\n",
       "</tr>\n",
       "<tr>\n",
       "  <th>Sample:</th>                <td>0</td>        <th>  HQIC               </th> <td>-74.494</td>\n",
       "</tr>\n",
       "<tr>\n",
       "  <th></th>                       <td> </td>        <th>                     </th>    <td> </td>   \n",
       "</tr>\n",
       "</table>\n",
       "<table class=\"simpletable\">\n",
       "<tr>\n",
       "         <td></td>           <th>coef</th>     <th>std err</th>      <th>z</th>      <th>P>|z|</th>  <th>[0.025</th>    <th>0.975]</th>  \n",
       "</tr>\n",
       "<tr>\n",
       "  <th>const</th>          <td>    7.5920</td> <td>    0.020</td> <td>  384.993</td> <td> 0.000</td> <td>    7.553</td> <td>    7.631</td>\n",
       "</tr>\n",
       "<tr>\n",
       "  <th>ar.L1.logvalue</th> <td>    1.6407</td> <td>    0.059</td> <td>   27.830</td> <td> 0.000</td> <td>    1.525</td> <td>    1.756</td>\n",
       "</tr>\n",
       "<tr>\n",
       "  <th>ar.L2.logvalue</th> <td>   -0.8787</td> <td>    0.055</td> <td>  -16.027</td> <td> 0.000</td> <td>   -0.986</td> <td>   -0.771</td>\n",
       "</tr>\n",
       "<tr>\n",
       "  <th>ma.L1.logvalue</th> <td>   -0.7021</td> <td>    0.075</td> <td>   -9.363</td> <td> 0.000</td> <td>   -0.849</td> <td>   -0.555</td>\n",
       "</tr>\n",
       "</table>\n",
       "<table class=\"simpletable\">\n",
       "<caption>Roots</caption>\n",
       "<tr>\n",
       "    <td></td>   <th>            Real</th>  <th>         Imaginary</th> <th>         Modulus</th>  <th>        Frequency</th>\n",
       "</tr>\n",
       "<tr>\n",
       "  <th>AR.1</th> <td>           0.9336</td> <td>          -0.5162j</td> <td>           1.0668</td> <td>          -0.0804</td>\n",
       "</tr>\n",
       "<tr>\n",
       "  <th>AR.2</th> <td>           0.9336</td> <td>          +0.5162j</td> <td>           1.0668</td> <td>           0.0804</td>\n",
       "</tr>\n",
       "<tr>\n",
       "  <th>MA.1</th> <td>           1.4243</td> <td>          +0.0000j</td> <td>           1.4243</td> <td>           0.0000</td>\n",
       "</tr>\n",
       "</table>"
      ],
      "text/plain": [
       "<class 'statsmodels.iolib.summary.Summary'>\n",
       "\"\"\"\n",
       "                              ARMA Model Results                              \n",
       "==============================================================================\n",
       "Dep. Variable:               logvalue   No. Observations:                   72\n",
       "Model:                     ARMA(2, 1)   Log Likelihood                  44.513\n",
       "Method:                       css-mle   S.D. of innovations              0.128\n",
       "Date:                Sat, 24 Jul 2021   AIC                            -79.026\n",
       "Time:                        17:47:58   BIC                            -67.642\n",
       "Sample:                             0   HQIC                           -74.494\n",
       "                                                                              \n",
       "==================================================================================\n",
       "                     coef    std err          z      P>|z|      [0.025      0.975]\n",
       "----------------------------------------------------------------------------------\n",
       "const              7.5920      0.020    384.993      0.000       7.553       7.631\n",
       "ar.L1.logvalue     1.6407      0.059     27.830      0.000       1.525       1.756\n",
       "ar.L2.logvalue    -0.8787      0.055    -16.027      0.000      -0.986      -0.771\n",
       "ma.L1.logvalue    -0.7021      0.075     -9.363      0.000      -0.849      -0.555\n",
       "                                    Roots                                    \n",
       "=============================================================================\n",
       "                  Real          Imaginary           Modulus         Frequency\n",
       "-----------------------------------------------------------------------------\n",
       "AR.1            0.9336           -0.5162j            1.0668           -0.0804\n",
       "AR.2            0.9336           +0.5162j            1.0668            0.0804\n",
       "MA.1            1.4243           +0.0000j            1.4243            0.0000\n",
       "-----------------------------------------------------------------------------\n",
       "\"\"\""
      ]
     },
     "metadata": {},
     "output_type": "display_data"
    }
   ],
   "source": [
    "fit_log=statsmodels.tsa.arima_model.ARMA(raw.logvalue,(2,1)).fit()\n",
    "display(fit_log.summary())"
   ]
  },
  {
   "cell_type": "markdown",
   "metadata": {},
   "source": [
    "### ARIMA 모델링"
   ]
  },
  {
   "cell_type": "code",
   "execution_count": 155,
   "metadata": {},
   "outputs": [
    {
     "data": {
      "image/png": "[encoded data removed]",
      "text/plain": [
       "<Figure size 720x576 with 2 Axes>"
      ]
     },
     "metadata": {
      "needs_background": "light"
     },
     "output_type": "display_data"
    }
   ],
   "source": [
    "plt.figure(figsize=(10,8))\n",
    "sm.graphics.tsa.plot_acf(raw.value,lags=35,ax=plt.subplot(211),title='ACF')\n",
    "sm.graphics.tsa.plot_pacf(raw.value,lags=35,ax=plt.subplot(212),title='PACF')\n",
    "plt.ylim(-1.1,1.1)\n",
    "plt.show()"
   ]
  },
  {
   "cell_type": "code",
   "execution_count": 156,
   "metadata": {},
   "outputs": [
    {
     "data": {
      "text/html": [
       "<table class=\"simpletable\">\n",
       "<caption>SARIMAX Results</caption>\n",
       "<tr>\n",
       "  <th>Dep. Variable:</th>         <td>value</td>      <th>  No. Observations:  </th>    <td>72</td>   \n",
       "</tr>\n",
       "<tr>\n",
       "  <th>Model:</th>            <td>ARIMA(1, 1, 0)</td>  <th>  Log Likelihood     </th> <td>-525.271</td>\n",
       "</tr>\n",
       "<tr>\n",
       "  <th>Date:</th>            <td>Sat, 24 Jul 2021</td> <th>  AIC                </th> <td>1054.542</td>\n",
       "</tr>\n",
       "<tr>\n",
       "  <th>Time:</th>                <td>17:47:59</td>     <th>  BIC                </th> <td>1059.068</td>\n",
       "</tr>\n",
       "<tr>\n",
       "  <th>Sample:</th>                  <td>0</td>        <th>  HQIC               </th> <td>1056.342</td>\n",
       "</tr>\n",
       "<tr>\n",
       "  <th></th>                       <td> - 72</td>      <th>                     </th>     <td> </td>   \n",
       "</tr>\n",
       "<tr>\n",
       "  <th>Covariance Type:</th>        <td>opg</td>       <th>                     </th>     <td> </td>   \n",
       "</tr>\n",
       "</table>\n",
       "<table class=\"simpletable\">\n",
       "<tr>\n",
       "     <td></td>       <th>coef</th>     <th>std err</th>      <th>z</th>      <th>P>|z|</th>  <th>[0.025</th>    <th>0.975]</th>  \n",
       "</tr>\n",
       "<tr>\n",
       "  <th>ar.L1</th>  <td>    0.2689</td> <td>    0.096</td> <td>    2.788</td> <td> 0.005</td> <td>    0.080</td> <td>    0.458</td>\n",
       "</tr>\n",
       "<tr>\n",
       "  <th>sigma2</th> <td> 1.544e+05</td> <td> 2.16e+04</td> <td>    7.150</td> <td> 0.000</td> <td> 1.12e+05</td> <td> 1.97e+05</td>\n",
       "</tr>\n",
       "</table>\n",
       "<table class=\"simpletable\">\n",
       "<tr>\n",
       "  <th>Ljung-Box (L1) (Q):</th>     <td>0.08</td> <th>  Jarque-Bera (JB):  </th> <td>2.46</td> \n",
       "</tr>\n",
       "<tr>\n",
       "  <th>Prob(Q):</th>                <td>0.78</td> <th>  Prob(JB):          </th> <td>0.29</td> \n",
       "</tr>\n",
       "<tr>\n",
       "  <th>Heteroskedasticity (H):</th> <td>1.11</td> <th>  Skew:              </th> <td>-0.06</td>\n",
       "</tr>\n",
       "<tr>\n",
       "  <th>Prob(H) (two-sided):</th>    <td>0.80</td> <th>  Kurtosis:          </th> <td>3.91</td> \n",
       "</tr>\n",
       "</table><br/><br/>Warnings:<br/>[1] Covariance matrix calculated using the outer product of gradients (complex-step)."
      ],
      "text/plain": [
       "<class 'statsmodels.iolib.summary.Summary'>\n",
       "\"\"\"\n",
       "                               SARIMAX Results                                \n",
       "==============================================================================\n",
       "Dep. Variable:                  value   No. Observations:                   72\n",
       "Model:                 ARIMA(1, 1, 0)   Log Likelihood                -525.271\n",
       "Date:                Sat, 24 Jul 2021   AIC                           1054.542\n",
       "Time:                        17:47:59   BIC                           1059.068\n",
       "Sample:                             0   HQIC                          1056.342\n",
       "                                 - 72                                         \n",
       "Covariance Type:                  opg                                         \n",
       "==============================================================================\n",
       "                 coef    std err          z      P>|z|      [0.025      0.975]\n",
       "------------------------------------------------------------------------------\n",
       "ar.L1          0.2689      0.096      2.788      0.005       0.080       0.458\n",
       "sigma2      1.544e+05   2.16e+04      7.150      0.000    1.12e+05    1.97e+05\n",
       "===================================================================================\n",
       "Ljung-Box (L1) (Q):                   0.08   Jarque-Bera (JB):                 2.46\n",
       "Prob(Q):                              0.78   Prob(JB):                         0.29\n",
       "Heteroskedasticity (H):               1.11   Skew:                            -0.06\n",
       "Prob(H) (two-sided):                  0.80   Kurtosis:                         3.91\n",
       "===================================================================================\n",
       "\n",
       "Warnings:\n",
       "[1] Covariance matrix calculated using the outer product of gradients (complex-step).\n",
       "\"\"\""
      ]
     },
     "metadata": {},
     "output_type": "display_data"
    }
   ],
   "source": [
    "fit=sm.tsa.arima.ARIMA(raw.value,order=(1,1,0)).fit()\n",
    "display(fit.summary())"
   ]
  },
  {
   "cell_type": "code",
   "execution_count": 157,
   "metadata": {},
   "outputs": [
    {
     "data": {
      "image/png": "[encoded data removed]",
      "text/plain": [
       "<Figure size 720x576 with 4 Axes>"
      ]
     },
     "metadata": {
      "needs_background": "light"
     },
     "output_type": "display_data"
    }
   ],
   "source": [
    "fit.plot_diagnostics(figsize=(10,8))\n",
    "plt.tight_layout()\n",
    "plt.show()"
   ]
  },
  {
   "cell_type": "code",
   "execution_count": 158,
   "metadata": {},
   "outputs": [
    {
     "data": {
      "text/html": [
       "<div>\n",
       "<style scoped>\n",
       "    .dataframe tbody tr th:only-of-type {\n",
       "        vertical-align: middle;\n",
       "    }\n",
       "\n",
       "    .dataframe tbody tr th {\n",
       "        vertical-align: top;\n",
       "    }\n",
       "\n",
       "    .dataframe thead th {\n",
       "        text-align: right;\n",
       "    }\n",
       "</style>\n",
       "<table border=\"1\" class=\"dataframe\">\n",
       "  <thead>\n",
       "    <tr style=\"text-align: right;\">\n",
       "      <th></th>\n",
       "      <th>p</th>\n",
       "      <th>d</th>\n",
       "      <th>q</th>\n",
       "      <th>LLF</th>\n",
       "      <th>AIC</th>\n",
       "      <th>BIC</th>\n",
       "    </tr>\n",
       "  </thead>\n",
       "  <tbody>\n",
       "    <tr>\n",
       "      <th>0</th>\n",
       "      <td>0</td>\n",
       "      <td>0</td>\n",
       "      <td>0</td>\n",
       "      <td>-563.410900</td>\n",
       "      <td>1130.821800</td>\n",
       "      <td>1135.375132</td>\n",
       "    </tr>\n",
       "    <tr>\n",
       "      <th>1</th>\n",
       "      <td>0</td>\n",
       "      <td>0</td>\n",
       "      <td>1</td>\n",
       "      <td>-536.955086</td>\n",
       "      <td>1079.910172</td>\n",
       "      <td>1086.740170</td>\n",
       "    </tr>\n",
       "    <tr>\n",
       "      <th>2</th>\n",
       "      <td>0</td>\n",
       "      <td>0</td>\n",
       "      <td>2</td>\n",
       "      <td>-529.265329</td>\n",
       "      <td>1066.530659</td>\n",
       "      <td>1075.637323</td>\n",
       "    </tr>\n",
       "    <tr>\n",
       "      <th>3</th>\n",
       "      <td>0</td>\n",
       "      <td>0</td>\n",
       "      <td>3</td>\n",
       "      <td>-526.157870</td>\n",
       "      <td>1062.315740</td>\n",
       "      <td>1073.699070</td>\n",
       "    </tr>\n",
       "    <tr>\n",
       "      <th>4</th>\n",
       "      <td>0</td>\n",
       "      <td>1</td>\n",
       "      <td>0</td>\n",
       "      <td>-527.962319</td>\n",
       "      <td>1057.924639</td>\n",
       "      <td>1060.187319</td>\n",
       "    </tr>\n",
       "    <tr>\n",
       "      <th>5</th>\n",
       "      <td>0</td>\n",
       "      <td>1</td>\n",
       "      <td>1</td>\n",
       "      <td>-525.107925</td>\n",
       "      <td>1054.215850</td>\n",
       "      <td>1058.741210</td>\n",
       "    </tr>\n",
       "    <tr>\n",
       "      <th>6</th>\n",
       "      <td>0</td>\n",
       "      <td>1</td>\n",
       "      <td>2</td>\n",
       "      <td>-525.102849</td>\n",
       "      <td>1056.205699</td>\n",
       "      <td>1062.993738</td>\n",
       "    </tr>\n",
       "    <tr>\n",
       "      <th>7</th>\n",
       "      <td>0</td>\n",
       "      <td>1</td>\n",
       "      <td>3</td>\n",
       "      <td>-523.440026</td>\n",
       "      <td>1054.880052</td>\n",
       "      <td>1063.930772</td>\n",
       "    </tr>\n",
       "    <tr>\n",
       "      <th>8</th>\n",
       "      <td>1</td>\n",
       "      <td>0</td>\n",
       "      <td>0</td>\n",
       "      <td>-531.600678</td>\n",
       "      <td>1069.201356</td>\n",
       "      <td>1076.031354</td>\n",
       "    </tr>\n",
       "    <tr>\n",
       "      <th>9</th>\n",
       "      <td>1</td>\n",
       "      <td>0</td>\n",
       "      <td>1</td>\n",
       "      <td>-526.083869</td>\n",
       "      <td>1060.167739</td>\n",
       "      <td>1069.274403</td>\n",
       "    </tr>\n",
       "    <tr>\n",
       "      <th>10</th>\n",
       "      <td>1</td>\n",
       "      <td>0</td>\n",
       "      <td>2</td>\n",
       "      <td>-525.709619</td>\n",
       "      <td>1061.419239</td>\n",
       "      <td>1072.802569</td>\n",
       "    </tr>\n",
       "    <tr>\n",
       "      <th>11</th>\n",
       "      <td>1</td>\n",
       "      <td>0</td>\n",
       "      <td>3</td>\n",
       "      <td>-528.827332</td>\n",
       "      <td>1069.654663</td>\n",
       "      <td>1083.314660</td>\n",
       "    </tr>\n",
       "    <tr>\n",
       "      <th>12</th>\n",
       "      <td>1</td>\n",
       "      <td>1</td>\n",
       "      <td>0</td>\n",
       "      <td>-525.271073</td>\n",
       "      <td>1054.542146</td>\n",
       "      <td>1059.067506</td>\n",
       "    </tr>\n",
       "    <tr>\n",
       "      <th>13</th>\n",
       "      <td>1</td>\n",
       "      <td>1</td>\n",
       "      <td>1</td>\n",
       "      <td>-525.098691</td>\n",
       "      <td>1056.197383</td>\n",
       "      <td>1062.985423</td>\n",
       "    </tr>\n",
       "    <tr>\n",
       "      <th>14</th>\n",
       "      <td>1</td>\n",
       "      <td>1</td>\n",
       "      <td>2</td>\n",
       "      <td>-524.933823</td>\n",
       "      <td>1057.867645</td>\n",
       "      <td>1066.918365</td>\n",
       "    </tr>\n",
       "    <tr>\n",
       "      <th>15</th>\n",
       "      <td>1</td>\n",
       "      <td>1</td>\n",
       "      <td>3</td>\n",
       "      <td>-524.700693</td>\n",
       "      <td>1059.401386</td>\n",
       "      <td>1070.714785</td>\n",
       "    </tr>\n",
       "    <tr>\n",
       "      <th>16</th>\n",
       "      <td>2</td>\n",
       "      <td>0</td>\n",
       "      <td>0</td>\n",
       "      <td>-523.673392</td>\n",
       "      <td>1055.346784</td>\n",
       "      <td>1064.453449</td>\n",
       "    </tr>\n",
       "    <tr>\n",
       "      <th>17</th>\n",
       "      <td>2</td>\n",
       "      <td>0</td>\n",
       "      <td>1</td>\n",
       "      <td>-516.137342</td>\n",
       "      <td>1042.274684</td>\n",
       "      <td>1053.658014</td>\n",
       "    </tr>\n",
       "    <tr>\n",
       "      <th>18</th>\n",
       "      <td>2</td>\n",
       "      <td>0</td>\n",
       "      <td>2</td>\n",
       "      <td>-509.723592</td>\n",
       "      <td>1031.447184</td>\n",
       "      <td>1045.107181</td>\n",
       "    </tr>\n",
       "    <tr>\n",
       "      <th>19</th>\n",
       "      <td>2</td>\n",
       "      <td>0</td>\n",
       "      <td>3</td>\n",
       "      <td>-503.361074</td>\n",
       "      <td>1020.722147</td>\n",
       "      <td>1036.658810</td>\n",
       "    </tr>\n",
       "    <tr>\n",
       "      <th>20</th>\n",
       "      <td>2</td>\n",
       "      <td>1</td>\n",
       "      <td>0</td>\n",
       "      <td>-525.175550</td>\n",
       "      <td>1056.351099</td>\n",
       "      <td>1063.139139</td>\n",
       "    </tr>\n",
       "    <tr>\n",
       "      <th>21</th>\n",
       "      <td>2</td>\n",
       "      <td>1</td>\n",
       "      <td>1</td>\n",
       "      <td>-524.993220</td>\n",
       "      <td>1057.986440</td>\n",
       "      <td>1067.037160</td>\n",
       "    </tr>\n",
       "    <tr>\n",
       "      <th>22</th>\n",
       "      <td>2</td>\n",
       "      <td>1</td>\n",
       "      <td>2</td>\n",
       "      <td>-524.983353</td>\n",
       "      <td>1059.966706</td>\n",
       "      <td>1071.280106</td>\n",
       "    </tr>\n",
       "    <tr>\n",
       "      <th>23</th>\n",
       "      <td>2</td>\n",
       "      <td>1</td>\n",
       "      <td>3</td>\n",
       "      <td>-522.151463</td>\n",
       "      <td>1056.302926</td>\n",
       "      <td>1069.879006</td>\n",
       "    </tr>\n",
       "    <tr>\n",
       "      <th>24</th>\n",
       "      <td>3</td>\n",
       "      <td>0</td>\n",
       "      <td>0</td>\n",
       "      <td>-521.844506</td>\n",
       "      <td>1053.689012</td>\n",
       "      <td>1065.072343</td>\n",
       "    </tr>\n",
       "    <tr>\n",
       "      <th>25</th>\n",
       "      <td>3</td>\n",
       "      <td>0</td>\n",
       "      <td>1</td>\n",
       "      <td>-515.734259</td>\n",
       "      <td>1043.468518</td>\n",
       "      <td>1057.128515</td>\n",
       "    </tr>\n",
       "    <tr>\n",
       "      <th>26</th>\n",
       "      <td>3</td>\n",
       "      <td>0</td>\n",
       "      <td>2</td>\n",
       "      <td>-515.869377</td>\n",
       "      <td>1045.738753</td>\n",
       "      <td>1061.675416</td>\n",
       "    </tr>\n",
       "    <tr>\n",
       "      <th>27</th>\n",
       "      <td>3</td>\n",
       "      <td>0</td>\n",
       "      <td>3</td>\n",
       "      <td>-504.230193</td>\n",
       "      <td>1024.460386</td>\n",
       "      <td>1042.673715</td>\n",
       "    </tr>\n",
       "    <tr>\n",
       "      <th>28</th>\n",
       "      <td>3</td>\n",
       "      <td>1</td>\n",
       "      <td>0</td>\n",
       "      <td>-525.172734</td>\n",
       "      <td>1058.345467</td>\n",
       "      <td>1067.396187</td>\n",
       "    </tr>\n",
       "    <tr>\n",
       "      <th>29</th>\n",
       "      <td>3</td>\n",
       "      <td>1</td>\n",
       "      <td>1</td>\n",
       "      <td>-524.951568</td>\n",
       "      <td>1059.903137</td>\n",
       "      <td>1071.216536</td>\n",
       "    </tr>\n",
       "    <tr>\n",
       "      <th>30</th>\n",
       "      <td>3</td>\n",
       "      <td>1</td>\n",
       "      <td>2</td>\n",
       "      <td>-517.608917</td>\n",
       "      <td>1047.217834</td>\n",
       "      <td>1060.793913</td>\n",
       "    </tr>\n",
       "    <tr>\n",
       "      <th>31</th>\n",
       "      <td>3</td>\n",
       "      <td>1</td>\n",
       "      <td>3</td>\n",
       "      <td>-506.695734</td>\n",
       "      <td>1027.391467</td>\n",
       "      <td>1043.230227</td>\n",
       "    </tr>\n",
       "  </tbody>\n",
       "</table>\n",
       "</div>"
      ],
      "text/plain": [
       "    p  d  q         LLF          AIC          BIC\n",
       "0   0  0  0 -563.410900  1130.821800  1135.375132\n",
       "1   0  0  1 -536.955086  1079.910172  1086.740170\n",
       "2   0  0  2 -529.265329  1066.530659  1075.637323\n",
       "3   0  0  3 -526.157870  1062.315740  1073.699070\n",
       "4   0  1  0 -527.962319  1057.924639  1060.187319\n",
       "5   0  1  1 -525.107925  1054.215850  1058.741210\n",
       "6   0  1  2 -525.102849  1056.205699  1062.993738\n",
       "7   0  1  3 -523.440026  1054.880052  1063.930772\n",
       "8   1  0  0 -531.600678  1069.201356  1076.031354\n",
       "9   1  0  1 -526.083869  1060.167739  1069.274403\n",
       "10  1  0  2 -525.709619  1061.419239  1072.802569\n",
       "11  1  0  3 -528.827332  1069.654663  1083.314660\n",
       "12  1  1  0 -525.271073  1054.542146  1059.067506\n",
       "13  1  1  1 -525.098691  1056.197383  1062.985423\n",
       "14  1  1  2 -524.933823  1057.867645  1066.918365\n",
       "15  1  1  3 -524.700693  1059.401386  1070.714785\n",
       "16  2  0  0 -523.673392  1055.346784  1064.453449\n",
       "17  2  0  1 -516.137342  1042.274684  1053.658014\n",
       "18  2  0  2 -509.723592  1031.447184  1045.107181\n",
       "19  2  0  3 -503.361074  1020.722147  1036.658810\n",
       "20  2  1  0 -525.175550  1056.351099  1063.139139\n",
       "21  2  1  1 -524.993220  1057.986440  1067.037160\n",
       "22  2  1  2 -524.983353  1059.966706  1071.280106\n",
       "23  2  1  3 -522.151463  1056.302926  1069.879006\n",
       "24  3  0  0 -521.844506  1053.689012  1065.072343\n",
       "25  3  0  1 -515.734259  1043.468518  1057.128515\n",
       "26  3  0  2 -515.869377  1045.738753  1061.675416\n",
       "27  3  0  3 -504.230193  1024.460386  1042.673715\n",
       "28  3  1  0 -525.172734  1058.345467  1067.396187\n",
       "29  3  1  1 -524.951568  1059.903137  1071.216536\n",
       "30  3  1  2 -517.608917  1047.217834  1060.793913\n",
       "31  3  1  3 -506.695734  1027.391467  1043.230227"
      ]
     },
     "metadata": {},
     "output_type": "display_data"
    }
   ],
   "source": [
    "result=[]\n",
    "for p,d,q in product(range(4),range(2),range(4)):\n",
    "    model=sm.tsa.arima.ARIMA(raw.value,order=(p,d,q)).fit()\n",
    "    result.append({\"p\":p,\"d\":d,\"q\":q,\"LLF\":model.llf,\"AIC\":model.aic,\"BIC\":model.bic})\n",
    "    \n",
    "result=pd.DataFrame(result)\n",
    "display(result)"
   ]
  },
  {
   "cell_type": "code",
   "execution_count": 159,
   "metadata": {},
   "outputs": [
    {
     "data": {
      "text/plain": [
       "72    1951.031782\n",
       "73    1960.720508\n",
       "74    1963.325747\n",
       "Name: predicted_mean, dtype: float64"
      ]
     },
     "execution_count": 159,
     "metadata": {},
     "output_type": "execute_result"
    }
   ],
   "source": [
    "fit.forecast(steps=3)"
   ]
  },
  {
   "cell_type": "code",
   "execution_count": null,
   "metadata": {},
   "outputs": [],
   "source": []
  }
 ],
 "metadata": {
  "kernelspec": {
   "display_name": "Python 3",
   "language": "python",
   "name": "python3"
  },
  "language_info": {
   "codemirror_mode": {
    "name": "ipython",
    "version": 3
   },
   "file_extension": ".py",
   "mimetype": "text/x-python",
   "name": "python",
   "nbconvert_exporter": "python",
   "pygments_lexer": "ipython3",
   "version": "3.7.9"
  }
 },
 "nbformat": 4,
 "nbformat_minor": 5
}
