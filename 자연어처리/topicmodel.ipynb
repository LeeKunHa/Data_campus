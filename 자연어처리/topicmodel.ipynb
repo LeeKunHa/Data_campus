{
 "cells": [
  {
   "cell_type": "markdown",
   "metadata": {
    "colab_type": "text",
    "id": "JCHaO68Jp_LI"
   },
   "source": [
    "### 구매 후기를 이용한 토픽모델링"
   ]
  },
  {
   "cell_type": "markdown",
   "metadata": {
    "colab_type": "text",
    "id": "7-o1z1mHqPxm"
   },
   "source": [
    "- 데이터 : https://drive.google.com/file/d/1eeTHELYDR0UW9CK7yODGhcUGylTfpLv4/view?usp=sharing"
   ]
  },
  {
   "cell_type": "code",
   "execution_count": 62,
   "metadata": {},
   "outputs": [
    {
     "data": {
      "text/html": [
       "<div>\n",
       "<style scoped>\n",
       "    .dataframe tbody tr th:only-of-type {\n",
       "        vertical-align: middle;\n",
       "    }\n",
       "\n",
       "    .dataframe tbody tr th {\n",
       "        vertical-align: top;\n",
       "    }\n",
       "\n",
       "    .dataframe thead th {\n",
       "        text-align: right;\n",
       "    }\n",
       "</style>\n",
       "<table border=\"1\" class=\"dataframe\">\n",
       "  <thead>\n",
       "    <tr style=\"text-align: right;\">\n",
       "      <th></th>\n",
       "      <th>0</th>\n",
       "    </tr>\n",
       "  </thead>\n",
       "  <tbody>\n",
       "    <tr>\n",
       "      <th>0</th>\n",
       "      <td>일반 약국에서 사는것보다 저렴해서 좋아요~매일 먹는 약이니 신중하게 선택해야겠죠~부...</td>\n",
       "    </tr>\n",
       "    <tr>\n",
       "      <th>1</th>\n",
       "      <td>배송빠르고 물건 정확하게 잘왔어요</td>\n",
       "    </tr>\n",
       "    <tr>\n",
       "      <th>2</th>\n",
       "      <td>2번째구매했는데 매우 만족합니다.</td>\n",
       "    </tr>\n",
       "    <tr>\n",
       "      <th>3</th>\n",
       "      <td>싸기도하고 좋고 늘사먹습??ㄱㆍ</td>\n",
       "    </tr>\n",
       "    <tr>\n",
       "      <th>4</th>\n",
       "      <td>적극추천합니다.배송도빨라요.</td>\n",
       "    </tr>\n",
       "    <tr>\n",
       "      <th>...</th>\n",
       "      <td>...</td>\n",
       "    </tr>\n",
       "    <tr>\n",
       "      <th>95</th>\n",
       "      <td>잘 받았어요</td>\n",
       "    </tr>\n",
       "    <tr>\n",
       "      <th>96</th>\n",
       "      <td>좋아요 ㄹㄹ</td>\n",
       "    </tr>\n",
       "    <tr>\n",
       "      <th>97</th>\n",
       "      <td>감사합니다.</td>\n",
       "    </tr>\n",
       "    <tr>\n",
       "      <th>98</th>\n",
       "      <td>만족합니다~</td>\n",
       "    </tr>\n",
       "    <tr>\n",
       "      <th>99</th>\n",
       "      <td>제품 조아요</td>\n",
       "    </tr>\n",
       "  </tbody>\n",
       "</table>\n",
       "<p>100 rows × 1 columns</p>\n",
       "</div>"
      ],
      "text/plain": [
       "                                                    0\n",
       "0   일반 약국에서 사는것보다 저렴해서 좋아요~매일 먹는 약이니 신중하게 선택해야겠죠~부...\n",
       "1                                  배송빠르고 물건 정확하게 잘왔어요\n",
       "2                                  2번째구매했는데 매우 만족합니다.\n",
       "3                                   싸기도하고 좋고 늘사먹습??ㄱㆍ\n",
       "4                                     적극추천합니다.배송도빨라요.\n",
       "..                                                ...\n",
       "95                                             잘 받았어요\n",
       "96                                             좋아요 ㄹㄹ\n",
       "97                                             감사합니다.\n",
       "98                                             만족합니다~\n",
       "99                                             제품 조아요\n",
       "\n",
       "[100 rows x 1 columns]"
      ]
     },
     "execution_count": 62,
     "metadata": {},
     "output_type": "execute_result"
    }
   ],
   "source": [
    "import pandas as pd\n",
    "\n",
    "review = pd.read_csv(\"centrum_review.txt\", header=None)\n",
    "review"
   ]
  },
  {
   "cell_type": "code",
   "execution_count": 63,
   "metadata": {},
   "outputs": [],
   "source": [
    "from konlpy.tag import Okt\n",
    "okt = Okt()"
   ]
  },
  {
   "cell_type": "code",
   "execution_count": 64,
   "metadata": {},
   "outputs": [],
   "source": [
    "docs=[]\n",
    "\n",
    "for i in review[0]:\n",
    "    docs.append(okt.nouns(i))"
   ]
  },
  {
   "cell_type": "code",
   "execution_count": 65,
   "metadata": {
    "scrolled": true
   },
   "outputs": [
    {
     "data": {
      "text/plain": [
       "[['일반', '약국', '매일', '약', '선택', '부부', '매일', '기운'],\n",
       " ['배송', '물건'],\n",
       " ['번', '구매', '매우'],\n",
       " ['기도', '늘', '습'],\n",
       " ['적극', '추천', '배송'],\n",
       " [],\n",
       " ['부모님', '선물', '온라인', '최저', '가로', '사서'],\n",
       " ['배송', '요즘', '책', '비타민', '생각', '기분', '탓', '덜', '다음', '이용'],\n",
       " ['정말', '저', '보오', '구매', '평', '워낙', '증명', '제약회사', '제품'],\n",
       " ['플라스틱', '포장', '살짝', '과대', '포장', '상품', '자체', '투명', '플라스틱', '포장'],\n",
       " ['부모님', '사', '얼마', '효과', '또'],\n",
       " ['건강', '위해', '구매', '센트', '룸', '포맨', '군대', '아들', '해', '가격'],\n",
       " [],\n",
       " ['며칠', '복용', '아침', '좀', '덜'],\n",
       " ['배송', '영양소', '다른', '비타민'],\n",
       " ['상품'],\n",
       " ['두번째', '구매', '양도', '배송'],\n",
       " ['배송'],\n",
       " ['침'],\n",
       " ['아주'],\n",
       " [],\n",
       " ['잘바아를러', '이'],\n",
       " [],\n",
       " ['항상'],\n",
       " ['배송', '감사'],\n",
       " ['매우'],\n",
       " [],\n",
       " [],\n",
       " [],\n",
       " [],\n",
       " [],\n",
       " [],\n",
       " ['배송'],\n",
       " ['아주'],\n",
       " [],\n",
       " ['구매', '호호', '호', '후후후', '히히히', '헤헤', '헤흐흐흐햐햐햐헤', '허후', '호'],\n",
       " ['비타민', '아연', '하루', '섭취', '기준', '영양소', '소변', '배출', '요', '노란색', '용'],\n",
       " [],\n",
       " ['비타민', '또', '학창시절', '봘', '홓', '화이팅'],\n",
       " ['배송'],\n",
       " ['구매', '맨'],\n",
       " ['배송', '남편', '햏', '효과', '좀더'],\n",
       " ['그'],\n",
       " ['남편', '매일', '민', '양도', '또', '배송', '좀', '느렷어'],\n",
       " ['항상', '포장'],\n",
       " ['센트룸', '하니'],\n",
       " ['용량', '가격', '비타민', '추천'],\n",
       " ['비타민', '처음', '추천'],\n",
       " ['보지'],\n",
       " ['아주', '다음', '꼭', '이', '적극', '추천', '사업', '번창', '다음', '멀티', '비타민'],\n",
       " ['배송', '포장'],\n",
       " ['배송'],\n",
       " ['주문', '한지'],\n",
       " ['어제', '먹기', '시작', '나중', '다시', '주문', '때', '이용', '수고'],\n",
       " ['배송', '빨'],\n",
       " ['번창'],\n",
       " ['배송'],\n",
       " ['배송', '감사'],\n",
       " ['자'],\n",
       " ['짐', '구라'],\n",
       " [],\n",
       " ['항상', '제품'],\n",
       " ['아빠', '일단', '배송', '빨', '용', '뾱뾱이없', '비닐', '포장', '달랑', '조금', '당황', '염'],\n",
       " [],\n",
       " ['가격', '대비'],\n",
       " ['몸'],\n",
       " [],\n",
       " ['복용'],\n",
       " ['평소', '센트룸', '달', '가격', '구매', '종종'],\n",
       " ['신', '것'],\n",
       " ['고등학생', '아들', '아빠', '칼슘', '성분', '좀', '칼슘', '일', '활', '기분', '탓'],\n",
       " [],\n",
       " ['배송'],\n",
       " ['배송'],\n",
       " ['도착'],\n",
       " ['보고', '또'],\n",
       " ['신랑'],\n",
       " ['배송'],\n",
       " ['배송'],\n",
       " ['적극', '추천'],\n",
       " ['숩니'],\n",
       " [],\n",
       " ['여여퍄패패커'],\n",
       " [],\n",
       " ['두번째', '구매'],\n",
       " ['은', '효과', '점점', '컨디션', '거'],\n",
       " [],\n",
       " ['배송'],\n",
       " [],\n",
       " ['선물'],\n",
       " ['만족'],\n",
       " ['노어', '챂'],\n",
       " [],\n",
       " [],\n",
       " [],\n",
       " [],\n",
       " [],\n",
       " [],\n",
       " [],\n",
       " ['제품']]"
      ]
     },
     "execution_count": 65,
     "metadata": {},
     "output_type": "execute_result"
    }
   ],
   "source": [
    "docs"
   ]
  },
  {
   "cell_type": "code",
   "execution_count": 29,
   "metadata": {},
   "outputs": [
    {
     "data": {
      "text/plain": [
       "0    너무좋습니다\n",
       "Name: 5, dtype: object"
      ]
     },
     "execution_count": 29,
     "metadata": {},
     "output_type": "execute_result"
    }
   ],
   "source": [
    "review.loc[5]"
   ]
  },
  {
   "cell_type": "code",
   "execution_count": 30,
   "metadata": {},
   "outputs": [],
   "source": [
    "def get_nouns(text):\n",
    "    nouns=okt.nouns(text)\n",
    "    nouns=[word for word in nouns if len(word)>1]\n",
    "    return nouns"
   ]
  },
  {
   "cell_type": "code",
   "execution_count": 31,
   "metadata": {},
   "outputs": [],
   "source": [
    "from sklearn.feature_extraction.text import CountVectorizer\n",
    "\n",
    "cv=CountVectorizer(tokenizer=get_nouns)\n",
    "\n",
    "tdm= cv.fit_transform(review[0])"
   ]
  },
  {
   "cell_type": "code",
   "execution_count": 32,
   "metadata": {},
   "outputs": [
    {
     "data": {
      "text/plain": [
       "['가격', '가로', '감사', '건강', '고등학생', '과대', '구라', '구매', '군대', '기도']"
      ]
     },
     "execution_count": 32,
     "metadata": {},
     "output_type": "execute_result"
    }
   ],
   "source": [
    "cv.get_feature_names()[:10]"
   ]
  },
  {
   "cell_type": "code",
   "execution_count": 33,
   "metadata": {
    "collapsed": true
   },
   "outputs": [
    {
     "data": {
      "text/plain": [
       "{'일반': 79,\n",
       " '약국': 66,\n",
       " '매일': 28,\n",
       " '선택': 51,\n",
       " '부부': 41,\n",
       " '기운': 11,\n",
       " '배송': 33,\n",
       " '물건': 32,\n",
       " '구매': 7,\n",
       " '매우': 27,\n",
       " '기도': 9,\n",
       " '적극': 82,\n",
       " '추천': 94,\n",
       " '부모님': 40,\n",
       " '선물': 50,\n",
       " '온라인': 72,\n",
       " '최저': 93,\n",
       " '가로': 1,\n",
       " '사서': 45,\n",
       " '요즘': 73,\n",
       " '비타민': 43,\n",
       " '생각': 49,\n",
       " '기분': 10,\n",
       " '다음': 20,\n",
       " '이용': 77,\n",
       " '정말': 84,\n",
       " '보오': 37,\n",
       " '워낙': 75,\n",
       " '증명': 91,\n",
       " '제약회사': 85,\n",
       " '제품': 86,\n",
       " '플라스틱': 101,\n",
       " '포장': 100,\n",
       " '살짝': 47,\n",
       " '과대': 5,\n",
       " '상품': 48,\n",
       " '자체': 80,\n",
       " '투명': 97,\n",
       " '얼마': 69,\n",
       " '효과': 112,\n",
       " '건강': 3,\n",
       " '위해': 76,\n",
       " '센트': 54,\n",
       " '포맨': 99,\n",
       " '군대': 8,\n",
       " '아들': 61,\n",
       " '가격': 0,\n",
       " '며칠': 31,\n",
       " '복용': 39,\n",
       " '아침': 65,\n",
       " '영양소': 71,\n",
       " '다른': 18,\n",
       " '두번째': 25,\n",
       " '양도': 67,\n",
       " '아주': 64,\n",
       " '잘바아를러': 81,\n",
       " '항상': 106,\n",
       " '감사': 2,\n",
       " '호호': 110,\n",
       " '후후후': 113,\n",
       " '히히히': 114,\n",
       " '헤헤': 108,\n",
       " '헤흐흐흐햐햐햐헤': 109,\n",
       " '허후': 107,\n",
       " '아연': 63,\n",
       " '하루': 103,\n",
       " '섭취': 52,\n",
       " '기준': 12,\n",
       " '소변': 56,\n",
       " '배출': 34,\n",
       " '노란색': 15,\n",
       " '학창시절': 104,\n",
       " '화이팅': 111,\n",
       " '남편': 14,\n",
       " '좀더': 88,\n",
       " '느렷어': 17,\n",
       " '센트룸': 55,\n",
       " '하니': 102,\n",
       " '용량': 74,\n",
       " '처음': 92,\n",
       " '보지': 38,\n",
       " '사업': 46,\n",
       " '번창': 35,\n",
       " '멀티': 30,\n",
       " '주문': 90,\n",
       " '한지': 105,\n",
       " '어제': 68,\n",
       " '먹기': 29,\n",
       " '시작': 59,\n",
       " '나중': 13,\n",
       " '다시': 19,\n",
       " '수고': 57,\n",
       " '구라': 6,\n",
       " '아빠': 62,\n",
       " '일단': 78,\n",
       " '뾱뾱이없': 44,\n",
       " '비닐': 42,\n",
       " '달랑': 21,\n",
       " '조금': 87,\n",
       " '당황': 22,\n",
       " '대비': 23,\n",
       " '평소': 98,\n",
       " '종종': 89,\n",
       " '고등학생': 4,\n",
       " '칼슘': 95,\n",
       " '성분': 53,\n",
       " '도착': 24,\n",
       " '보고': 36,\n",
       " '신랑': 60,\n",
       " '숩니': 58,\n",
       " '여여퍄패패커': 70,\n",
       " '점점': 83,\n",
       " '컨디션': 96,\n",
       " '만족': 26,\n",
       " '노어': 16}"
      ]
     },
     "execution_count": 33,
     "metadata": {},
     "output_type": "execute_result"
    }
   ],
   "source": [
    "cv.vocabulary_"
   ]
  },
  {
   "cell_type": "code",
   "execution_count": 34,
   "metadata": {},
   "outputs": [
    {
     "data": {
      "text/plain": [
       "array([[0, 0, 0, 0, 0, 0, 0, 0, 0, 0, 0, 1, 0, 0, 0, 0, 0, 0, 0, 0, 0, 0,\n",
       "        0, 0, 0, 0, 0, 0, 2, 0, 0, 0, 0, 0, 0, 0, 0, 0, 0, 0, 0, 1, 0, 0,\n",
       "        0, 0, 0, 0, 0, 0, 0, 1, 0, 0, 0, 0, 0, 0, 0, 0, 0, 0, 0, 0, 0, 0,\n",
       "        1, 0, 0, 0, 0, 0, 0, 0, 0, 0, 0, 0, 0, 1, 0, 0, 0, 0, 0, 0, 0, 0,\n",
       "        0, 0, 0, 0, 0, 0, 0, 0, 0, 0, 0, 0, 0, 0, 0, 0, 0, 0, 0, 0, 0, 0,\n",
       "        0, 0, 0, 0, 0]], dtype=int64)"
      ]
     },
     "execution_count": 34,
     "metadata": {},
     "output_type": "execute_result"
    }
   ],
   "source": [
    "doc=tdm[0].toarray()\n",
    "doc"
   ]
  },
  {
   "cell_type": "code",
   "execution_count": 35,
   "metadata": {},
   "outputs": [
    {
     "data": {
      "text/plain": [
       "matrix([[ 4,  1,  2,  1,  1,  1,  1,  8,  1,  1,  2,  1,  1,  1,  2,  1,\n",
       "          1,  1,  1,  1,  3,  1,  1,  1,  1,  2,  1,  2,  3,  1,  1,  1,\n",
       "          1, 22,  1,  2,  1,  1,  1,  2,  2,  1,  1,  7,  1,  1,  1,  1,\n",
       "          2,  1,  2,  1,  1,  1,  1,  2,  1,  1,  1,  1,  1,  2,  2,  1,\n",
       "          3,  1,  1,  2,  1,  1,  1,  2,  1,  1,  1,  1,  1,  2,  1,  1,\n",
       "          1,  1,  3,  1,  1,  1,  3,  1,  1,  1,  2,  1,  1,  1,  5,  2,\n",
       "          1,  1,  1,  1,  6,  2,  1,  1,  1,  1,  3,  1,  1,  1,  1,  1,\n",
       "          3,  1,  1]], dtype=int64)"
      ]
     },
     "execution_count": 35,
     "metadata": {},
     "output_type": "execute_result"
    }
   ],
   "source": [
    "count=tdm.sum(axis=0)\n",
    "count"
   ]
  },
  {
   "cell_type": "code",
   "execution_count": 36,
   "metadata": {},
   "outputs": [
    {
     "data": {
      "text/html": [
       "<div>\n",
       "<style scoped>\n",
       "    .dataframe tbody tr th:only-of-type {\n",
       "        vertical-align: middle;\n",
       "    }\n",
       "\n",
       "    .dataframe tbody tr th {\n",
       "        vertical-align: top;\n",
       "    }\n",
       "\n",
       "    .dataframe thead th {\n",
       "        text-align: right;\n",
       "    }\n",
       "</style>\n",
       "<table border=\"1\" class=\"dataframe\">\n",
       "  <thead>\n",
       "    <tr style=\"text-align: right;\">\n",
       "      <th></th>\n",
       "      <th>단어</th>\n",
       "      <th>빈도</th>\n",
       "    </tr>\n",
       "  </thead>\n",
       "  <tbody>\n",
       "    <tr>\n",
       "      <th>0</th>\n",
       "      <td>가격</td>\n",
       "      <td>4</td>\n",
       "    </tr>\n",
       "    <tr>\n",
       "      <th>1</th>\n",
       "      <td>가로</td>\n",
       "      <td>1</td>\n",
       "    </tr>\n",
       "    <tr>\n",
       "      <th>2</th>\n",
       "      <td>감사</td>\n",
       "      <td>2</td>\n",
       "    </tr>\n",
       "    <tr>\n",
       "      <th>3</th>\n",
       "      <td>건강</td>\n",
       "      <td>1</td>\n",
       "    </tr>\n",
       "    <tr>\n",
       "      <th>4</th>\n",
       "      <td>고등학생</td>\n",
       "      <td>1</td>\n",
       "    </tr>\n",
       "  </tbody>\n",
       "</table>\n",
       "</div>"
      ],
      "text/plain": [
       "     단어  빈도\n",
       "0    가격   4\n",
       "1    가로   1\n",
       "2    감사   2\n",
       "3    건강   1\n",
       "4  고등학생   1"
      ]
     },
     "execution_count": 36,
     "metadata": {},
     "output_type": "execute_result"
    }
   ],
   "source": [
    "word_count=pd.DataFrame({\"단어\": cv.get_feature_names(),\n",
    "                        \"빈도\": count.flat})\n",
    "word_count.head()"
   ]
  },
  {
   "cell_type": "code",
   "execution_count": 37,
   "metadata": {},
   "outputs": [
    {
     "data": {
      "text/html": [
       "<div>\n",
       "<style scoped>\n",
       "    .dataframe tbody tr th:only-of-type {\n",
       "        vertical-align: middle;\n",
       "    }\n",
       "\n",
       "    .dataframe tbody tr th {\n",
       "        vertical-align: top;\n",
       "    }\n",
       "\n",
       "    .dataframe thead th {\n",
       "        text-align: right;\n",
       "    }\n",
       "</style>\n",
       "<table border=\"1\" class=\"dataframe\">\n",
       "  <thead>\n",
       "    <tr style=\"text-align: right;\">\n",
       "      <th></th>\n",
       "      <th>단어</th>\n",
       "      <th>빈도</th>\n",
       "    </tr>\n",
       "  </thead>\n",
       "  <tbody>\n",
       "    <tr>\n",
       "      <th>33</th>\n",
       "      <td>배송</td>\n",
       "      <td>22</td>\n",
       "    </tr>\n",
       "    <tr>\n",
       "      <th>7</th>\n",
       "      <td>구매</td>\n",
       "      <td>8</td>\n",
       "    </tr>\n",
       "    <tr>\n",
       "      <th>43</th>\n",
       "      <td>비타민</td>\n",
       "      <td>7</td>\n",
       "    </tr>\n",
       "    <tr>\n",
       "      <th>100</th>\n",
       "      <td>포장</td>\n",
       "      <td>6</td>\n",
       "    </tr>\n",
       "    <tr>\n",
       "      <th>94</th>\n",
       "      <td>추천</td>\n",
       "      <td>5</td>\n",
       "    </tr>\n",
       "    <tr>\n",
       "      <th>...</th>\n",
       "      <td>...</td>\n",
       "      <td>...</td>\n",
       "    </tr>\n",
       "    <tr>\n",
       "      <th>41</th>\n",
       "      <td>부부</td>\n",
       "      <td>1</td>\n",
       "    </tr>\n",
       "    <tr>\n",
       "      <th>38</th>\n",
       "      <td>보지</td>\n",
       "      <td>1</td>\n",
       "    </tr>\n",
       "    <tr>\n",
       "      <th>37</th>\n",
       "      <td>보오</td>\n",
       "      <td>1</td>\n",
       "    </tr>\n",
       "    <tr>\n",
       "      <th>36</th>\n",
       "      <td>보고</td>\n",
       "      <td>1</td>\n",
       "    </tr>\n",
       "    <tr>\n",
       "      <th>114</th>\n",
       "      <td>히히히</td>\n",
       "      <td>1</td>\n",
       "    </tr>\n",
       "  </tbody>\n",
       "</table>\n",
       "<p>115 rows × 2 columns</p>\n",
       "</div>"
      ],
      "text/plain": [
       "      단어  빈도\n",
       "33    배송  22\n",
       "7     구매   8\n",
       "43   비타민   7\n",
       "100   포장   6\n",
       "94    추천   5\n",
       "..   ...  ..\n",
       "41    부부   1\n",
       "38    보지   1\n",
       "37    보오   1\n",
       "36    보고   1\n",
       "114  히히히   1\n",
       "\n",
       "[115 rows x 2 columns]"
      ]
     },
     "execution_count": 37,
     "metadata": {},
     "output_type": "execute_result"
    }
   ],
   "source": [
    "word_count.sort_values(by=\"빈도\", ascending=False)"
   ]
  },
  {
   "cell_type": "code",
   "execution_count": 43,
   "metadata": {
    "scrolled": true
   },
   "outputs": [
    {
     "data": {
      "image/png": "[encoded data removed]",
      "text/plain": [
       "<Figure size 432x288 with 1 Axes>"
      ]
     },
     "metadata": {
      "needs_background": "light"
     },
     "output_type": "display_data"
    }
   ],
   "source": [
    "import matplotlib.pyplot as plt\n",
    "\n",
    "from matplotlib import font_manager, rc\n",
    "font_path = \"C:/Windows/Fonts/malgun.ttf\"\n",
    "font = font_manager.FontProperties(fname=font_path).get_name()\n",
    "rc('font', family=font)\n",
    "\n",
    "word_count_index = word_count.copy()\n",
    "word_count_index.index=word_count_index[\"단어\"]\n",
    "word_count_index.sort_values(by=\"빈도\", ascending=False)[:10].plot.bar()\n",
    "plt.show()"
   ]
  },
  {
   "cell_type": "code",
   "execution_count": 44,
   "metadata": {
    "collapsed": true
   },
   "outputs": [
    {
     "data": {
      "text/plain": [
       "['일반 약국 매일 약 선택 부부 매일 기운',\n",
       " '배송 물건',\n",
       " '번 구매 매우',\n",
       " '기도 늘 습',\n",
       " '적극 추천 배송',\n",
       " '',\n",
       " '부모님 선물 온라인 최저 가로 사서',\n",
       " '배송 요즘 책 비타민 생각 기분 탓 덜 다음 이용',\n",
       " '정말 저 보오 구매 평 워낙 증명 제약회사 제품',\n",
       " '플라스틱 포장 살짝 과대 포장 상품 자체 투명 플라스틱 포장',\n",
       " '부모님 사 얼마 효과 또',\n",
       " '건강 위해 구매 센트 룸 포맨 군대 아들 해 가격',\n",
       " '',\n",
       " '며칠 복용 아침 좀 덜',\n",
       " '배송 영양소 다른 비타민',\n",
       " '상품',\n",
       " '두번째 구매 양도 배송',\n",
       " '배송',\n",
       " '침',\n",
       " '아주',\n",
       " '',\n",
       " '잘바아를러 이',\n",
       " '',\n",
       " '항상',\n",
       " '배송 감사',\n",
       " '매우',\n",
       " '',\n",
       " '',\n",
       " '',\n",
       " '',\n",
       " '',\n",
       " '',\n",
       " '배송',\n",
       " '아주',\n",
       " '',\n",
       " '구매 호호 호 후후후 히히히 헤헤 헤흐흐흐햐햐햐헤 허후 호',\n",
       " '비타민 아연 하루 섭취 기준 영양소 소변 배출 요 노란색 용',\n",
       " '',\n",
       " '비타민 또 학창시절 봘 홓 화이팅',\n",
       " '배송',\n",
       " '구매 맨',\n",
       " '배송 남편 햏 효과 좀더',\n",
       " '그',\n",
       " '남편 매일 민 양도 또 배송 좀 느렷어',\n",
       " '항상 포장',\n",
       " '센트룸 하니',\n",
       " '용량 가격 비타민 추천',\n",
       " '비타민 처음 추천',\n",
       " '보지',\n",
       " '아주 다음 꼭 이 적극 추천 사업 번창 다음 멀티 비타민',\n",
       " '배송 포장',\n",
       " '배송',\n",
       " '주문 한지',\n",
       " '어제 먹기 시작 나중 다시 주문 때 이용 수고',\n",
       " '배송 빨',\n",
       " '번창',\n",
       " '배송',\n",
       " '배송 감사',\n",
       " '자',\n",
       " '짐 구라',\n",
       " '',\n",
       " '항상 제품',\n",
       " '아빠 일단 배송 빨 용 뾱뾱이없 비닐 포장 달랑 조금 당황 염',\n",
       " '',\n",
       " '가격 대비',\n",
       " '몸',\n",
       " '',\n",
       " '복용',\n",
       " '평소 센트룸 달 가격 구매 종종',\n",
       " '신 것',\n",
       " '고등학생 아들 아빠 칼슘 성분 좀 칼슘 일 활 기분 탓',\n",
       " '',\n",
       " '배송',\n",
       " '배송',\n",
       " '도착',\n",
       " '보고 또',\n",
       " '신랑',\n",
       " '배송',\n",
       " '배송',\n",
       " '적극 추천',\n",
       " '숩니',\n",
       " '',\n",
       " '여여퍄패패커',\n",
       " '',\n",
       " '두번째 구매',\n",
       " '은 효과 점점 컨디션 거',\n",
       " '',\n",
       " '배송',\n",
       " '',\n",
       " '선물',\n",
       " '만족',\n",
       " '노어 챂',\n",
       " '',\n",
       " '',\n",
       " '',\n",
       " '',\n",
       " '',\n",
       " '',\n",
       " '',\n",
       " '제품']"
      ]
     },
     "execution_count": 44,
     "metadata": {},
     "output_type": "execute_result"
    }
   ],
   "source": [
    "#추출한 명사 리스트를 활용해 명사만으로 이루어진 문서를 생성합니다.\n",
    "docs_noun = docs.copy()\n",
    "\n",
    "for i in range(len(docs_noun)):\n",
    "    docs_noun[i] = ' '.join(docs_noun[i])\n",
    "\n",
    "    \n",
    "    docs_noun"
   ]
  },
  {
   "cell_type": "code",
   "execution_count": 46,
   "metadata": {},
   "outputs": [
    {
     "data": {
      "text/plain": [
       "'일반 약국 매일 약 선택 부부 매일 기운 배송 물건 번 구매 매우 기도 늘 습 적극 추천 배송  부모님 선물 온라인 최저 가로 사서 배송 요즘 책 비타민 생각 기분 탓 덜 다음 이용 정말 저 보오 구매 평 워낙 증명 제약회사 제품 플라스틱 포장 살짝 과대 포장 상품 자체 투명 플라스틱 포장 부모님 사 얼마 효과 또 건강 위해 구매 센트 룸 포맨 군대 아들 해 가격  며칠 복용 아침 좀 덜 배송 영양소 다른 비타민 상품 두번째 구매 양도 배송 배송 침 아주  잘바아를러 이  항상 배송 감사 매우       배송 아주  구매 호호 호 후후후 히히히 헤헤 헤흐흐흐햐햐햐헤 허후 호 비타민 아연 하루 섭취 기준 영양소 소변 배출 요 노란색 용  비타민 또 학창시절 봘 홓 화이팅 배송 구매 맨 배송 남편 햏 효과 좀더 그 남편 매일 민 양도 또 배송 좀 느렷어 항상 포장 센트룸 하니 용량 가격 비타민 추천 비타민 처음 추천 보지 아주 다음 꼭 이 적극 추천 사업 번창 다음 멀티 비타민 배송 포장 배송 주문 한지 어제 먹기 시작 나중 다시 주문 때 이용 수고 배송 빨 번창 배송 배송 감사 자 짐 구라  항상 제품 아빠 일단 배송 빨 용 뾱뾱이없 비닐 포장 달랑 조금 당황 염  가격 대비 몸  복용 평소 센트룸 달 가격 구매 종종 신 것 고등학생 아들 아빠 칼슘 성분 좀 칼슘 일 활 기분 탓  배송 배송 도착 보고 또 신랑 배송 배송 적극 추천 숩니  여여퍄패패커  두번째 구매 은 효과 점점 컨디션 거  배송  선물 만족 노어 챂        일반 약국 매일 약 선택 부부 매일 기운 배송 물건 번 구매 매우 기도 늘 습 적극 추천 배송  부모님 선물 온라인 최저 가로 사서 배송 요즘 책 비타민 생각 기분 탓 덜 다음 이용 정말 저 보오 구매 평 워낙 증명 제약회사 제품 플라스틱 포장 살짝 과대 포장 상품 자체 투명 플라스틱 포장 부모님 사 얼마 효과 또 건강 위해 구매 센트 룸 포맨 군대 아들 해 가격  며칠 복용 아침 좀 덜 배송 영양소 다른 비타민 상품 두번째 구매 양도 배송 배송 침 아주  잘바아를러 이  항상 배송 감사 매우       배송 아주  구매 호호 호 후후후 히히히 헤헤 헤흐흐흐햐햐햐헤 허후 호 비타민 아연 하루 섭취 기준 영양소 소변 배출 요 노란색 용  비타민 또 학창시절 봘 홓 화이팅 배송 구매 맨 배송 남편 햏 효과 좀더 그 남편 매일 민 양도 또 배송 좀 느렷어 항상 포장 센트룸 하니 용량 가격 비타민 추천 비타민 처음 추천 보지 아주 다음 꼭 이 적극 추천 사업 번창 다음 멀티 비타민 배송 포장 배송 주문 한지 어제 먹기 시작 나중 다시 주문 때 이용 수고 배송 빨 번창 배송 배송 감사 자 짐 구라  항상 제품 아빠 일단 배송 빨 용 뾱뾱이없 비닐 포장 달랑 조금 당황 염  가격 대비 몸  복용 평소 센트룸 달 가격 구매 종종 신 것 고등학생 아들 아빠 칼슘 성분 좀 칼슘 일 활 기분 탓  배송 배송 도착 보고 또 신랑 배송 배송 적극 추천 숩니  여여퍄패패커  두번째 구매 은 효과 점점 컨디션 거  배송  선물 만족 노어 챂        제품'"
      ]
     },
     "execution_count": 46,
     "metadata": {},
     "output_type": "execute_result"
    }
   ],
   "source": [
    "noun_doc = ' '.join(docs_noun)\n",
    "noun_doc = noun_doc.strip()\n",
    "noun_doc"
   ]
  },
  {
   "cell_type": "code",
   "execution_count": 48,
   "metadata": {},
   "outputs": [
    {
     "data": {
      "image/png": "[encoded data removed]",
      "text/plain": [
       "<Figure size 432x288 with 1 Axes>"
      ]
     },
     "metadata": {
      "needs_background": "light"
     },
     "output_type": "display_data"
    }
   ],
   "source": [
    "#워드클라우드\n",
    "from wordcloud import WordCloud\n",
    "\n",
    "font_path = \"C:/Windows/Fonts/malgun.ttf\"\n",
    "\n",
    "'''from matplotlib import font_manager, rc\n",
    "font_path = \"C:/Windows/Fonts/malgun.ttf\"\n",
    "font = font_manager.FontProperties(fname=font_path).get_name()\n",
    "re('font', family=font)'''\n",
    "\n",
    "wc = WordCloud(font_path=font_path, background_color=\"white\")\n",
    "wc.generate(noun_doc)\n",
    "\n",
    "plt.figure()\n",
    "plt.imshow(wc)\n",
    "plt.axis(\"off\")\n",
    "plt.show()"
   ]
  },
  {
   "cell_type": "code",
   "execution_count": 49,
   "metadata": {
    "collapsed": true
   },
   "outputs": [
    {
     "data": {
      "text/plain": [
       "[['일반', '약국', '매일', '약', '선택', '부부', '매일', '기운'],\n",
       " ['배송', '물건'],\n",
       " ['번', '구매', '매우'],\n",
       " ['기도', '늘', '습'],\n",
       " ['적극', '추천', '배송'],\n",
       " [],\n",
       " ['부모님', '선물', '온라인', '최저', '가로', '사서'],\n",
       " ['배송', '요즘', '책', '비타민', '생각', '기분', '탓', '덜', '다음', '이용'],\n",
       " ['정말', '저', '보오', '구매', '평', '워낙', '증명', '제약회사', '제품'],\n",
       " ['플라스틱', '포장', '살짝', '과대', '포장', '상품', '자체', '투명', '플라스틱', '포장'],\n",
       " ['부모님', '사', '얼마', '효과', '또'],\n",
       " ['건강', '위해', '구매', '센트', '룸', '포맨', '군대', '아들', '해', '가격'],\n",
       " [],\n",
       " ['며칠', '복용', '아침', '좀', '덜'],\n",
       " ['배송', '영양소', '다른', '비타민'],\n",
       " ['상품'],\n",
       " ['두번째', '구매', '양도', '배송'],\n",
       " ['배송'],\n",
       " ['침'],\n",
       " ['아주'],\n",
       " [],\n",
       " ['잘바아를러', '이'],\n",
       " [],\n",
       " ['항상'],\n",
       " ['배송', '감사'],\n",
       " ['매우'],\n",
       " [],\n",
       " [],\n",
       " [],\n",
       " [],\n",
       " [],\n",
       " [],\n",
       " ['배송'],\n",
       " ['아주'],\n",
       " [],\n",
       " ['구매', '호호', '호', '후후후', '히히히', '헤헤', '헤흐흐흐햐햐햐헤', '허후', '호'],\n",
       " ['비타민', '아연', '하루', '섭취', '기준', '영양소', '소변', '배출', '요', '노란색', '용'],\n",
       " [],\n",
       " ['비타민', '또', '학창시절', '봘', '홓', '화이팅'],\n",
       " ['배송'],\n",
       " ['구매', '맨'],\n",
       " ['배송', '남편', '햏', '효과', '좀더'],\n",
       " ['그'],\n",
       " ['남편', '매일', '민', '양도', '또', '배송', '좀', '느렷어'],\n",
       " ['항상', '포장'],\n",
       " ['센트룸', '하니'],\n",
       " ['용량', '가격', '비타민', '추천'],\n",
       " ['비타민', '처음', '추천'],\n",
       " ['보지'],\n",
       " ['아주', '다음', '꼭', '이', '적극', '추천', '사업', '번창', '다음', '멀티', '비타민'],\n",
       " ['배송', '포장'],\n",
       " ['배송'],\n",
       " ['주문', '한지'],\n",
       " ['어제', '먹기', '시작', '나중', '다시', '주문', '때', '이용', '수고'],\n",
       " ['배송', '빨'],\n",
       " ['번창'],\n",
       " ['배송'],\n",
       " ['배송', '감사'],\n",
       " ['자'],\n",
       " ['짐', '구라'],\n",
       " [],\n",
       " ['항상', '제품'],\n",
       " ['아빠', '일단', '배송', '빨', '용', '뾱뾱이없', '비닐', '포장', '달랑', '조금', '당황', '염'],\n",
       " [],\n",
       " ['가격', '대비'],\n",
       " ['몸'],\n",
       " [],\n",
       " ['복용'],\n",
       " ['평소', '센트룸', '달', '가격', '구매', '종종'],\n",
       " ['신', '것'],\n",
       " ['고등학생', '아들', '아빠', '칼슘', '성분', '좀', '칼슘', '일', '활', '기분', '탓'],\n",
       " [],\n",
       " ['배송'],\n",
       " ['배송'],\n",
       " ['도착'],\n",
       " ['보고', '또'],\n",
       " ['신랑'],\n",
       " ['배송'],\n",
       " ['배송'],\n",
       " ['적극', '추천'],\n",
       " ['숩니'],\n",
       " [],\n",
       " ['여여퍄패패커'],\n",
       " [],\n",
       " ['두번째', '구매'],\n",
       " ['은', '효과', '점점', '컨디션', '거'],\n",
       " [],\n",
       " ['배송'],\n",
       " [],\n",
       " ['선물'],\n",
       " ['만족'],\n",
       " ['노어', '챂'],\n",
       " [],\n",
       " [],\n",
       " [],\n",
       " [],\n",
       " [],\n",
       " [],\n",
       " [],\n",
       " ['제품']]"
      ]
     },
     "execution_count": 49,
     "metadata": {},
     "output_type": "execute_result"
    }
   ],
   "source": [
    "docs"
   ]
  },
  {
   "cell_type": "code",
   "execution_count": 53,
   "metadata": {},
   "outputs": [],
   "source": [
    "import gensim\n",
    "from gensim import corpora, models\n",
    "\n",
    "resultList = []\n",
    "keyword = 5\n",
    "\n",
    "texts=[]\n",
    "for line in docs:\n",
    "    tokens = [word for word in line if len(word) > 1]\n",
    "    texts.append(tokens)\n",
    "    \n",
    "dictionary = corpora.Dictionary(texts)\n",
    "corpus = [dictionary.doc2bow(text) for text in texts]\n",
    "\n",
    "ldamodel = models.ldamodel.LdaModel(corpus, id2word=dictionary, num_topics=5)\n",
    "\n",
    "for num in range(5):\n",
    "    resultList.append(ldamodel.show_topic(num, keyword))"
   ]
  },
  {
   "cell_type": "code",
   "execution_count": 54,
   "metadata": {},
   "outputs": [
    {
     "data": {
      "text/plain": [
       "[[('배송', 0.2299779),\n",
       "  ('매일', 0.046140358),\n",
       "  ('남편', 0.03169649),\n",
       "  ('효과', 0.031629015),\n",
       "  ('감사', 0.03146854)],\n",
       " [('아주', 0.055107314),\n",
       "  ('다음', 0.0384658),\n",
       "  ('아빠', 0.038452677),\n",
       "  ('칼슘', 0.038441338),\n",
       "  ('배송', 0.022238785)],\n",
       " [('포장', 0.057418477),\n",
       "  ('비타민', 0.053260688),\n",
       "  ('배송', 0.044715237),\n",
       "  ('추천', 0.043553747),\n",
       "  ('플라스틱', 0.030101206)],\n",
       " [('구매', 0.10405111),\n",
       "  ('비타민', 0.036352616),\n",
       "  ('배송', 0.033030257),\n",
       "  ('가격', 0.031989157),\n",
       "  ('두번째', 0.03178103)],\n",
       " [('가격', 0.05313012),\n",
       "  ('복용', 0.052760776),\n",
       "  ('구매', 0.02936616),\n",
       "  ('아들', 0.0291016),\n",
       "  ('건강', 0.029097904)]]"
      ]
     },
     "execution_count": 54,
     "metadata": {},
     "output_type": "execute_result"
    }
   ],
   "source": [
    "resultList"
   ]
  },
  {
   "cell_type": "code",
   "execution_count": 55,
   "metadata": {},
   "outputs": [
    {
     "data": {
      "text/plain": [
       "[(0, '0.230*\"배송\" + 0.046*\"매일\" + 0.032*\"남편\" + 0.032*\"효과\" + 0.031*\"감사\"'),\n",
       " (1, '0.055*\"아주\" + 0.038*\"다음\" + 0.038*\"아빠\" + 0.038*\"칼슘\" + 0.022*\"배송\"'),\n",
       " (2, '0.057*\"포장\" + 0.053*\"비타민\" + 0.045*\"배송\" + 0.044*\"추천\" + 0.030*\"플라스틱\"'),\n",
       " (3, '0.104*\"구매\" + 0.036*\"비타민\" + 0.033*\"배송\" + 0.032*\"가격\" + 0.032*\"두번째\"'),\n",
       " (4, '0.053*\"가격\" + 0.053*\"복용\" + 0.029*\"구매\" + 0.029*\"아들\" + 0.029*\"건강\"')]"
      ]
     },
     "execution_count": 55,
     "metadata": {},
     "output_type": "execute_result"
    }
   ],
   "source": [
    "ldamodel.print_topics(num_words=5)"
   ]
  },
  {
   "cell_type": "code",
   "execution_count": 58,
   "metadata": {},
   "outputs": [
    {
     "data": {
      "text/plain": [
       "[(0, 0.8999815),\n",
       " (1, 0.025004629),\n",
       " (2, 0.025003653),\n",
       " (3, 0.025003863),\n",
       " (4, 0.02500638)]"
      ]
     },
     "execution_count": 58,
     "metadata": {},
     "output_type": "execute_result"
    }
   ],
   "source": [
    "ldamodel.get_document_topics(corpus)[0]"
   ]
  },
  {
   "cell_type": "code",
   "execution_count": null,
   "metadata": {},
   "outputs": [],
   "source": []
  }
 ],
 "metadata": {
  "colab": {
   "collapsed_sections": [],
   "name": "06 [Referral] Review(full)",
   "provenance": []
  },
  "kernelspec": {
   "display_name": "Python 3",
   "language": "python",
   "name": "python3"
  },
  "language_info": {
   "codemirror_mode": {
    "name": "ipython",
    "version": 3
   },
   "file_extension": ".py",
   "mimetype": "text/x-python",
   "name": "python",
   "nbconvert_exporter": "python",
   "pygments_lexer": "ipython3",
   "version": "3.8.8"
  }
 },
 "nbformat": 4,
 "nbformat_minor": 1
}
