{
 "cells": [
  {
   "cell_type": "markdown",
   "metadata": {},
   "source": [
    "### 1. DT를 이용\n",
    "\n",
    "#### 와인 등급을 분류하는 모델을 만들어 시각화한 후, 모델 성능을 평가하시오."
   ]
  },
  {
   "cell_type": "code",
   "execution_count": 1,
   "metadata": {},
   "outputs": [],
   "source": [
    "from sklearn import datasets\n",
    "from sklearn.model_selection import train_test_split\n",
    "from sklearn.metrics import accuracy_score, confusion_matrix"
   ]
  },
  {
   "cell_type": "code",
   "execution_count": 2,
   "metadata": {},
   "outputs": [],
   "source": [
    "wine = datasets.load_wine()"
   ]
  },
  {
   "cell_type": "code",
   "execution_count": 3,
   "metadata": {},
   "outputs": [
    {
     "data": {
      "text/plain": [
       "array([[1.423e+01, 1.710e+00, 2.430e+00, ..., 1.040e+00, 3.920e+00,\n",
       "        1.065e+03],\n",
       "       [1.320e+01, 1.780e+00, 2.140e+00, ..., 1.050e+00, 3.400e+00,\n",
       "        1.050e+03],\n",
       "       [1.316e+01, 2.360e+00, 2.670e+00, ..., 1.030e+00, 3.170e+00,\n",
       "        1.185e+03],\n",
       "       ...,\n",
       "       [1.327e+01, 4.280e+00, 2.260e+00, ..., 5.900e-01, 1.560e+00,\n",
       "        8.350e+02],\n",
       "       [1.317e+01, 2.590e+00, 2.370e+00, ..., 6.000e-01, 1.620e+00,\n",
       "        8.400e+02],\n",
       "       [1.413e+01, 4.100e+00, 2.740e+00, ..., 6.100e-01, 1.600e+00,\n",
       "        5.600e+02]])"
      ]
     },
     "execution_count": 3,
     "metadata": {},
     "output_type": "execute_result"
    }
   ],
   "source": [
    "wine.data"
   ]
  },
  {
   "cell_type": "code",
   "execution_count": 4,
   "metadata": {},
   "outputs": [
    {
     "data": {
      "text/plain": [
       "['alcohol',\n",
       " 'malic_acid',\n",
       " 'ash',\n",
       " 'alcalinity_of_ash',\n",
       " 'magnesium',\n",
       " 'total_phenols',\n",
       " 'flavanoids',\n",
       " 'nonflavanoid_phenols',\n",
       " 'proanthocyanins',\n",
       " 'color_intensity',\n",
       " 'hue',\n",
       " 'od280/od315_of_diluted_wines',\n",
       " 'proline']"
      ]
     },
     "execution_count": 4,
     "metadata": {},
     "output_type": "execute_result"
    }
   ],
   "source": [
    "wine.feature_names"
   ]
  },
  {
   "cell_type": "code",
   "execution_count": 5,
   "metadata": {},
   "outputs": [
    {
     "data": {
      "text/plain": [
       "array([0, 0, 0, 0, 0, 0, 0, 0, 0, 0, 0, 0, 0, 0, 0, 0, 0, 0, 0, 0, 0, 0,\n",
       "       0, 0, 0, 0, 0, 0, 0, 0, 0, 0, 0, 0, 0, 0, 0, 0, 0, 0, 0, 0, 0, 0,\n",
       "       0, 0, 0, 0, 0, 0, 0, 0, 0, 0, 0, 0, 0, 0, 0, 1, 1, 1, 1, 1, 1, 1,\n",
       "       1, 1, 1, 1, 1, 1, 1, 1, 1, 1, 1, 1, 1, 1, 1, 1, 1, 1, 1, 1, 1, 1,\n",
       "       1, 1, 1, 1, 1, 1, 1, 1, 1, 1, 1, 1, 1, 1, 1, 1, 1, 1, 1, 1, 1, 1,\n",
       "       1, 1, 1, 1, 1, 1, 1, 1, 1, 1, 1, 1, 1, 1, 1, 1, 1, 1, 1, 1, 2, 2,\n",
       "       2, 2, 2, 2, 2, 2, 2, 2, 2, 2, 2, 2, 2, 2, 2, 2, 2, 2, 2, 2, 2, 2,\n",
       "       2, 2, 2, 2, 2, 2, 2, 2, 2, 2, 2, 2, 2, 2, 2, 2, 2, 2, 2, 2, 2, 2,\n",
       "       2, 2])"
      ]
     },
     "execution_count": 5,
     "metadata": {},
     "output_type": "execute_result"
    }
   ],
   "source": [
    "wine.target"
   ]
  },
  {
   "cell_type": "code",
   "execution_count": 6,
   "metadata": {},
   "outputs": [
    {
     "data": {
      "text/plain": [
       "array(['class_0', 'class_1', 'class_2'], dtype='<U7')"
      ]
     },
     "execution_count": 6,
     "metadata": {},
     "output_type": "execute_result"
    }
   ],
   "source": [
    "wine.target_names"
   ]
  },
  {
   "cell_type": "code",
   "execution_count": 7,
   "metadata": {},
   "outputs": [
    {
     "name": "stdout",
     "output_type": "stream",
     "text": [
      "(124, 13) (54, 13) (124,) (54,)\n"
     ]
    }
   ],
   "source": [
    "x_train, x_test, y_train, y_test = train_test_split(wine.data, wine.target,\n",
    "                                                   test_size = 0.3,\n",
    "                                                   random_state = 102)\n",
    "print(x_train.shape, x_test.shape, y_train.shape, y_test.shape)"
   ]
  },
  {
   "cell_type": "code",
   "execution_count": 8,
   "metadata": {},
   "outputs": [],
   "source": [
    "from sklearn import tree"
   ]
  },
  {
   "cell_type": "code",
   "execution_count": 9,
   "metadata": {},
   "outputs": [],
   "source": [
    "clf = tree.DecisionTreeClassifier()\n",
    "clf_df = clf.fit(x_train, y_train)"
   ]
  },
  {
   "cell_type": "code",
   "execution_count": 10,
   "metadata": {},
   "outputs": [],
   "source": [
    "y_pred = clf.predict(x_test)"
   ]
  },
  {
   "cell_type": "code",
   "execution_count": 11,
   "metadata": {},
   "outputs": [
    {
     "data": {
      "text/plain": [
       "array([2, 0, 0, 0, 1, 1, 0, 1, 0, 1, 1, 2, 2, 1, 1, 1, 2, 1, 1, 0, 1, 2,\n",
       "       0, 1, 1, 2, 0, 0, 2, 2, 2, 1, 1, 2, 2, 0, 1, 0, 0, 1, 2, 1, 1, 2,\n",
       "       0, 0, 0, 1, 1, 0, 2, 0, 0, 1])"
      ]
     },
     "execution_count": 11,
     "metadata": {},
     "output_type": "execute_result"
    }
   ],
   "source": [
    "y_pred"
   ]
  },
  {
   "cell_type": "code",
   "execution_count": 12,
   "metadata": {},
   "outputs": [
    {
     "name": "stdout",
     "output_type": "stream",
     "text": [
      "[[18  0  0]\n",
      " [ 0 21  0]\n",
      " [ 0  1 14]]\n"
     ]
    }
   ],
   "source": [
    "cfmat = confusion_matrix(y_test, y_pred)\n",
    "print(cfmat)"
   ]
  },
  {
   "cell_type": "code",
   "execution_count": 13,
   "metadata": {},
   "outputs": [
    {
     "name": "stdout",
     "output_type": "stream",
     "text": [
      "0.9814814814814815\n"
     ]
    }
   ],
   "source": [
    "acc = accuracy_score(y_test, y_pred)\n",
    "print(acc)"
   ]
  },
  {
   "cell_type": "code",
   "execution_count": 14,
   "metadata": {},
   "outputs": [],
   "source": [
    "import graphviz"
   ]
  },
  {
   "cell_type": "code",
   "execution_count": 15,
   "metadata": {},
   "outputs": [],
   "source": [
    "dot_data = tree.export_graphviz(clf_df, out_file=None,\n",
    "                               feature_names=wine.feature_names,\n",
    "                               class_names=wine.target_names,\n",
    "                               filled=True, rounded=True)\n",
    "graph = graphviz.Source(dot_data)"
   ]
  },
  {
   "cell_type": "code",
   "execution_count": 16,
   "metadata": {},
   "outputs": [
    {
     "data": {
      "image/svg+xml": [
       "<?xml version=\"1.0\" encoding=\"UTF-8\" standalone=\"no\"?>\r\n",
       "<!DOCTYPE svg PUBLIC \"-//W3C//DTD SVG 1.1//EN\"\r\n",
       " \"http://www.w3.org/Graphics/SVG/1.1/DTD/svg11.dtd\">\r\n",
       "<!-- Generated by graphviz version 2.38.0 (20140413.2041)\r\n",
       " -->\r\n",
       "<!-- Title: Tree Pages: 1 -->\r\n",
       "<svg width=\"556pt\" height=\"552pt\"\r\n",
       " viewBox=\"0.00 0.00 556.00 552.00\" xmlns=\"http://www.w3.org/2000/svg\" xmlns:xlink=\"http://www.w3.org/1999/xlink\">\r\n",
       "<g id=\"graph0\" class=\"graph\" transform=\"scale(1 1) rotate(0) translate(4 548)\">\r\n",
       "<title>Tree</title>\r\n",
       "<polygon fill=\"white\" stroke=\"none\" points=\"-4,4 -4,-548 552,-548 552,4 -4,4\"/>\r\n",
       "<!-- 0 -->\r\n",
       "<g id=\"node1\" class=\"node\"><title>0</title>\r\n",
       "<path fill=\"#eafcf1\" stroke=\"black\" d=\"M261.5,-544C261.5,-544 125.5,-544 125.5,-544 119.5,-544 113.5,-538 113.5,-532 113.5,-532 113.5,-473 113.5,-473 113.5,-467 119.5,-461 125.5,-461 125.5,-461 261.5,-461 261.5,-461 267.5,-461 273.5,-467 273.5,-473 273.5,-473 273.5,-532 273.5,-532 273.5,-538 267.5,-544 261.5,-544\"/>\r\n",
       "<text text-anchor=\"middle\" x=\"193.5\" y=\"-528.8\" font-family=\"Helvetica,sans-Serif\" font-size=\"14.00\">color_intensity &lt;= 3.46</text>\r\n",
       "<text text-anchor=\"middle\" x=\"193.5\" y=\"-513.8\" font-family=\"Helvetica,sans-Serif\" font-size=\"14.00\">gini = 0.657</text>\r\n",
       "<text text-anchor=\"middle\" x=\"193.5\" y=\"-498.8\" font-family=\"Helvetica,sans-Serif\" font-size=\"14.00\">samples = 124</text>\r\n",
       "<text text-anchor=\"middle\" x=\"193.5\" y=\"-483.8\" font-family=\"Helvetica,sans-Serif\" font-size=\"14.00\">value = [41, 50, 33]</text>\r\n",
       "<text text-anchor=\"middle\" x=\"193.5\" y=\"-468.8\" font-family=\"Helvetica,sans-Serif\" font-size=\"14.00\">class = class_1</text>\r\n",
       "</g>\r\n",
       "<!-- 1 -->\r\n",
       "<g id=\"node2\" class=\"node\"><title>1</title>\r\n",
       "<path fill=\"#39e581\" stroke=\"black\" d=\"M169,-417.5C169,-417.5 72,-417.5 72,-417.5 66,-417.5 60,-411.5 60,-405.5 60,-405.5 60,-361.5 60,-361.5 60,-355.5 66,-349.5 72,-349.5 72,-349.5 169,-349.5 169,-349.5 175,-349.5 181,-355.5 181,-361.5 181,-361.5 181,-405.5 181,-405.5 181,-411.5 175,-417.5 169,-417.5\"/>\r\n",
       "<text text-anchor=\"middle\" x=\"120.5\" y=\"-402.3\" font-family=\"Helvetica,sans-Serif\" font-size=\"14.00\">gini = 0.0</text>\r\n",
       "<text text-anchor=\"middle\" x=\"120.5\" y=\"-387.3\" font-family=\"Helvetica,sans-Serif\" font-size=\"14.00\">samples = 40</text>\r\n",
       "<text text-anchor=\"middle\" x=\"120.5\" y=\"-372.3\" font-family=\"Helvetica,sans-Serif\" font-size=\"14.00\">value = [0, 40, 0]</text>\r\n",
       "<text text-anchor=\"middle\" x=\"120.5\" y=\"-357.3\" font-family=\"Helvetica,sans-Serif\" font-size=\"14.00\">class = class_1</text>\r\n",
       "</g>\r\n",
       "<!-- 0&#45;&gt;1 -->\r\n",
       "<g id=\"edge1\" class=\"edge\"><title>0&#45;&gt;1</title>\r\n",
       "<path fill=\"none\" stroke=\"black\" d=\"M168.173,-460.907C161.219,-449.763 153.667,-437.658 146.667,-426.439\"/>\r\n",
       "<polygon fill=\"black\" stroke=\"black\" points=\"149.457,-424.298 141.194,-417.667 143.518,-428.004 149.457,-424.298\"/>\r\n",
       "<text text-anchor=\"middle\" x=\"135.554\" y=\"-438.322\" font-family=\"Helvetica,sans-Serif\" font-size=\"14.00\">True</text>\r\n",
       "</g>\r\n",
       "<!-- 2 -->\r\n",
       "<g id=\"node3\" class=\"node\"><title>2</title>\r\n",
       "<path fill=\"#fbebe0\" stroke=\"black\" d=\"M324,-425C324,-425 211,-425 211,-425 205,-425 199,-419 199,-413 199,-413 199,-354 199,-354 199,-348 205,-342 211,-342 211,-342 324,-342 324,-342 330,-342 336,-348 336,-354 336,-354 336,-413 336,-413 336,-419 330,-425 324,-425\"/>\r\n",
       "<text text-anchor=\"middle\" x=\"267.5\" y=\"-409.8\" font-family=\"Helvetica,sans-Serif\" font-size=\"14.00\">flavanoids &lt;= 1.4</text>\r\n",
       "<text text-anchor=\"middle\" x=\"267.5\" y=\"-394.8\" font-family=\"Helvetica,sans-Serif\" font-size=\"14.00\">gini = 0.593</text>\r\n",
       "<text text-anchor=\"middle\" x=\"267.5\" y=\"-379.8\" font-family=\"Helvetica,sans-Serif\" font-size=\"14.00\">samples = 84</text>\r\n",
       "<text text-anchor=\"middle\" x=\"267.5\" y=\"-364.8\" font-family=\"Helvetica,sans-Serif\" font-size=\"14.00\">value = [41, 10, 33]</text>\r\n",
       "<text text-anchor=\"middle\" x=\"267.5\" y=\"-349.8\" font-family=\"Helvetica,sans-Serif\" font-size=\"14.00\">class = class_0</text>\r\n",
       "</g>\r\n",
       "<!-- 0&#45;&gt;2 -->\r\n",
       "<g id=\"edge2\" class=\"edge\"><title>0&#45;&gt;2</title>\r\n",
       "<path fill=\"none\" stroke=\"black\" d=\"M219.174,-460.907C224.742,-452.105 230.688,-442.703 236.438,-433.612\"/>\r\n",
       "<polygon fill=\"black\" stroke=\"black\" points=\"239.484,-435.343 241.871,-425.021 233.568,-431.601 239.484,-435.343\"/>\r\n",
       "<text text-anchor=\"middle\" x=\"247.362\" y=\"-445.71\" font-family=\"Helvetica,sans-Serif\" font-size=\"14.00\">False</text>\r\n",
       "</g>\r\n",
       "<!-- 3 -->\r\n",
       "<g id=\"node4\" class=\"node\"><title>3</title>\r\n",
       "<path fill=\"#853fe6\" stroke=\"black\" d=\"M242,-306C242,-306 145,-306 145,-306 139,-306 133,-300 133,-294 133,-294 133,-235 133,-235 133,-229 139,-223 145,-223 145,-223 242,-223 242,-223 248,-223 254,-229 254,-235 254,-235 254,-294 254,-294 254,-300 248,-306 242,-306\"/>\r\n",
       "<text text-anchor=\"middle\" x=\"193.5\" y=\"-290.8\" font-family=\"Helvetica,sans-Serif\" font-size=\"14.00\">alcohol &lt;= 12.1</text>\r\n",
       "<text text-anchor=\"middle\" x=\"193.5\" y=\"-275.8\" font-family=\"Helvetica,sans-Serif\" font-size=\"14.00\">gini = 0.057</text>\r\n",
       "<text text-anchor=\"middle\" x=\"193.5\" y=\"-260.8\" font-family=\"Helvetica,sans-Serif\" font-size=\"14.00\">samples = 34</text>\r\n",
       "<text text-anchor=\"middle\" x=\"193.5\" y=\"-245.8\" font-family=\"Helvetica,sans-Serif\" font-size=\"14.00\">value = [0, 1, 33]</text>\r\n",
       "<text text-anchor=\"middle\" x=\"193.5\" y=\"-230.8\" font-family=\"Helvetica,sans-Serif\" font-size=\"14.00\">class = class_2</text>\r\n",
       "</g>\r\n",
       "<!-- 2&#45;&gt;3 -->\r\n",
       "<g id=\"edge3\" class=\"edge\"><title>2&#45;&gt;3</title>\r\n",
       "<path fill=\"none\" stroke=\"black\" d=\"M241.826,-341.907C236.258,-333.105 230.312,-323.703 224.562,-314.612\"/>\r\n",
       "<polygon fill=\"black\" stroke=\"black\" points=\"227.432,-312.601 219.129,-306.021 221.516,-316.343 227.432,-312.601\"/>\r\n",
       "</g>\r\n",
       "<!-- 6 -->\r\n",
       "<g id=\"node7\" class=\"node\"><title>6</title>\r\n",
       "<path fill=\"#eb9d64\" stroke=\"black\" d=\"M389,-306C389,-306 292,-306 292,-306 286,-306 280,-300 280,-294 280,-294 280,-235 280,-235 280,-229 286,-223 292,-223 292,-223 389,-223 389,-223 395,-223 401,-229 401,-235 401,-235 401,-294 401,-294 401,-300 395,-306 389,-306\"/>\r\n",
       "<text text-anchor=\"middle\" x=\"340.5\" y=\"-290.8\" font-family=\"Helvetica,sans-Serif\" font-size=\"14.00\">proline &lt;= 724.5</text>\r\n",
       "<text text-anchor=\"middle\" x=\"340.5\" y=\"-275.8\" font-family=\"Helvetica,sans-Serif\" font-size=\"14.00\">gini = 0.295</text>\r\n",
       "<text text-anchor=\"middle\" x=\"340.5\" y=\"-260.8\" font-family=\"Helvetica,sans-Serif\" font-size=\"14.00\">samples = 50</text>\r\n",
       "<text text-anchor=\"middle\" x=\"340.5\" y=\"-245.8\" font-family=\"Helvetica,sans-Serif\" font-size=\"14.00\">value = [41, 9, 0]</text>\r\n",
       "<text text-anchor=\"middle\" x=\"340.5\" y=\"-230.8\" font-family=\"Helvetica,sans-Serif\" font-size=\"14.00\">class = class_0</text>\r\n",
       "</g>\r\n",
       "<!-- 2&#45;&gt;6 -->\r\n",
       "<g id=\"edge6\" class=\"edge\"><title>2&#45;&gt;6</title>\r\n",
       "<path fill=\"none\" stroke=\"black\" d=\"M292.827,-341.907C298.319,-333.105 304.185,-323.703 309.857,-314.612\"/>\r\n",
       "<polygon fill=\"black\" stroke=\"black\" points=\"312.894,-316.358 315.218,-306.021 306.955,-312.652 312.894,-316.358\"/>\r\n",
       "</g>\r\n",
       "<!-- 4 -->\r\n",
       "<g id=\"node5\" class=\"node\"><title>4</title>\r\n",
       "<path fill=\"#39e581\" stroke=\"black\" d=\"M103,-179.5C103,-179.5 12,-179.5 12,-179.5 6,-179.5 0,-173.5 0,-167.5 0,-167.5 0,-123.5 0,-123.5 0,-117.5 6,-111.5 12,-111.5 12,-111.5 103,-111.5 103,-111.5 109,-111.5 115,-117.5 115,-123.5 115,-123.5 115,-167.5 115,-167.5 115,-173.5 109,-179.5 103,-179.5\"/>\r\n",
       "<text text-anchor=\"middle\" x=\"57.5\" y=\"-164.3\" font-family=\"Helvetica,sans-Serif\" font-size=\"14.00\">gini = 0.0</text>\r\n",
       "<text text-anchor=\"middle\" x=\"57.5\" y=\"-149.3\" font-family=\"Helvetica,sans-Serif\" font-size=\"14.00\">samples = 1</text>\r\n",
       "<text text-anchor=\"middle\" x=\"57.5\" y=\"-134.3\" font-family=\"Helvetica,sans-Serif\" font-size=\"14.00\">value = [0, 1, 0]</text>\r\n",
       "<text text-anchor=\"middle\" x=\"57.5\" y=\"-119.3\" font-family=\"Helvetica,sans-Serif\" font-size=\"14.00\">class = class_1</text>\r\n",
       "</g>\r\n",
       "<!-- 3&#45;&gt;4 -->\r\n",
       "<g id=\"edge4\" class=\"edge\"><title>3&#45;&gt;4</title>\r\n",
       "<path fill=\"none\" stroke=\"black\" d=\"M146.315,-222.907C132.591,-211.101 117.615,-198.217 103.937,-186.45\"/>\r\n",
       "<polygon fill=\"black\" stroke=\"black\" points=\"105.916,-183.535 96.053,-179.667 101.351,-188.842 105.916,-183.535\"/>\r\n",
       "</g>\r\n",
       "<!-- 5 -->\r\n",
       "<g id=\"node6\" class=\"node\"><title>5</title>\r\n",
       "<path fill=\"#8139e5\" stroke=\"black\" d=\"M242,-179.5C242,-179.5 145,-179.5 145,-179.5 139,-179.5 133,-173.5 133,-167.5 133,-167.5 133,-123.5 133,-123.5 133,-117.5 139,-111.5 145,-111.5 145,-111.5 242,-111.5 242,-111.5 248,-111.5 254,-117.5 254,-123.5 254,-123.5 254,-167.5 254,-167.5 254,-173.5 248,-179.5 242,-179.5\"/>\r\n",
       "<text text-anchor=\"middle\" x=\"193.5\" y=\"-164.3\" font-family=\"Helvetica,sans-Serif\" font-size=\"14.00\">gini = 0.0</text>\r\n",
       "<text text-anchor=\"middle\" x=\"193.5\" y=\"-149.3\" font-family=\"Helvetica,sans-Serif\" font-size=\"14.00\">samples = 33</text>\r\n",
       "<text text-anchor=\"middle\" x=\"193.5\" y=\"-134.3\" font-family=\"Helvetica,sans-Serif\" font-size=\"14.00\">value = [0, 0, 33]</text>\r\n",
       "<text text-anchor=\"middle\" x=\"193.5\" y=\"-119.3\" font-family=\"Helvetica,sans-Serif\" font-size=\"14.00\">class = class_2</text>\r\n",
       "</g>\r\n",
       "<!-- 3&#45;&gt;5 -->\r\n",
       "<g id=\"edge5\" class=\"edge\"><title>3&#45;&gt;5</title>\r\n",
       "<path fill=\"none\" stroke=\"black\" d=\"M193.5,-222.907C193.5,-212.204 193.5,-200.615 193.5,-189.776\"/>\r\n",
       "<polygon fill=\"black\" stroke=\"black\" points=\"197,-189.667 193.5,-179.667 190,-189.667 197,-189.667\"/>\r\n",
       "</g>\r\n",
       "<!-- 7 -->\r\n",
       "<g id=\"node8\" class=\"node\"><title>7</title>\r\n",
       "<path fill=\"#4fe88f\" stroke=\"black\" d=\"M397,-187C397,-187 284,-187 284,-187 278,-187 272,-181 272,-175 272,-175 272,-116 272,-116 272,-110 278,-104 284,-104 284,-104 397,-104 397,-104 403,-104 409,-110 409,-116 409,-116 409,-175 409,-175 409,-181 403,-187 397,-187\"/>\r\n",
       "<text text-anchor=\"middle\" x=\"340.5\" y=\"-171.8\" font-family=\"Helvetica,sans-Serif\" font-size=\"14.00\">malic_acid &lt;= 3.92</text>\r\n",
       "<text text-anchor=\"middle\" x=\"340.5\" y=\"-156.8\" font-family=\"Helvetica,sans-Serif\" font-size=\"14.00\">gini = 0.18</text>\r\n",
       "<text text-anchor=\"middle\" x=\"340.5\" y=\"-141.8\" font-family=\"Helvetica,sans-Serif\" font-size=\"14.00\">samples = 10</text>\r\n",
       "<text text-anchor=\"middle\" x=\"340.5\" y=\"-126.8\" font-family=\"Helvetica,sans-Serif\" font-size=\"14.00\">value = [1, 9, 0]</text>\r\n",
       "<text text-anchor=\"middle\" x=\"340.5\" y=\"-111.8\" font-family=\"Helvetica,sans-Serif\" font-size=\"14.00\">class = class_1</text>\r\n",
       "</g>\r\n",
       "<!-- 6&#45;&gt;7 -->\r\n",
       "<g id=\"edge7\" class=\"edge\"><title>6&#45;&gt;7</title>\r\n",
       "<path fill=\"none\" stroke=\"black\" d=\"M340.5,-222.907C340.5,-214.649 340.5,-205.864 340.5,-197.302\"/>\r\n",
       "<polygon fill=\"black\" stroke=\"black\" points=\"344,-197.021 340.5,-187.021 337,-197.021 344,-197.021\"/>\r\n",
       "</g>\r\n",
       "<!-- 10 -->\r\n",
       "<g id=\"node11\" class=\"node\"><title>10</title>\r\n",
       "<path fill=\"#e58139\" stroke=\"black\" d=\"M536,-179.5C536,-179.5 439,-179.5 439,-179.5 433,-179.5 427,-173.5 427,-167.5 427,-167.5 427,-123.5 427,-123.5 427,-117.5 433,-111.5 439,-111.5 439,-111.5 536,-111.5 536,-111.5 542,-111.5 548,-117.5 548,-123.5 548,-123.5 548,-167.5 548,-167.5 548,-173.5 542,-179.5 536,-179.5\"/>\r\n",
       "<text text-anchor=\"middle\" x=\"487.5\" y=\"-164.3\" font-family=\"Helvetica,sans-Serif\" font-size=\"14.00\">gini = 0.0</text>\r\n",
       "<text text-anchor=\"middle\" x=\"487.5\" y=\"-149.3\" font-family=\"Helvetica,sans-Serif\" font-size=\"14.00\">samples = 40</text>\r\n",
       "<text text-anchor=\"middle\" x=\"487.5\" y=\"-134.3\" font-family=\"Helvetica,sans-Serif\" font-size=\"14.00\">value = [40, 0, 0]</text>\r\n",
       "<text text-anchor=\"middle\" x=\"487.5\" y=\"-119.3\" font-family=\"Helvetica,sans-Serif\" font-size=\"14.00\">class = class_0</text>\r\n",
       "</g>\r\n",
       "<!-- 6&#45;&gt;10 -->\r\n",
       "<g id=\"edge10\" class=\"edge\"><title>6&#45;&gt;10</title>\r\n",
       "<path fill=\"none\" stroke=\"black\" d=\"M391.501,-222.907C406.474,-210.99 422.825,-197.976 437.721,-186.12\"/>\r\n",
       "<polygon fill=\"black\" stroke=\"black\" points=\"440.184,-188.633 445.829,-179.667 435.825,-183.156 440.184,-188.633\"/>\r\n",
       "</g>\r\n",
       "<!-- 8 -->\r\n",
       "<g id=\"node9\" class=\"node\"><title>8</title>\r\n",
       "<path fill=\"#39e581\" stroke=\"black\" d=\"M319,-68C319,-68 228,-68 228,-68 222,-68 216,-62 216,-56 216,-56 216,-12 216,-12 216,-6 222,-0 228,-0 228,-0 319,-0 319,-0 325,-0 331,-6 331,-12 331,-12 331,-56 331,-56 331,-62 325,-68 319,-68\"/>\r\n",
       "<text text-anchor=\"middle\" x=\"273.5\" y=\"-52.8\" font-family=\"Helvetica,sans-Serif\" font-size=\"14.00\">gini = 0.0</text>\r\n",
       "<text text-anchor=\"middle\" x=\"273.5\" y=\"-37.8\" font-family=\"Helvetica,sans-Serif\" font-size=\"14.00\">samples = 9</text>\r\n",
       "<text text-anchor=\"middle\" x=\"273.5\" y=\"-22.8\" font-family=\"Helvetica,sans-Serif\" font-size=\"14.00\">value = [0, 9, 0]</text>\r\n",
       "<text text-anchor=\"middle\" x=\"273.5\" y=\"-7.8\" font-family=\"Helvetica,sans-Serif\" font-size=\"14.00\">class = class_1</text>\r\n",
       "</g>\r\n",
       "<!-- 7&#45;&gt;8 -->\r\n",
       "<g id=\"edge8\" class=\"edge\"><title>7&#45;&gt;8</title>\r\n",
       "<path fill=\"none\" stroke=\"black\" d=\"M315.552,-103.726C310.194,-94.9703 304.524,-85.7032 299.141,-76.9051\"/>\r\n",
       "<polygon fill=\"black\" stroke=\"black\" points=\"302.08,-75.0028 293.875,-68.2996 296.109,-78.6563 302.08,-75.0028\"/>\r\n",
       "</g>\r\n",
       "<!-- 9 -->\r\n",
       "<g id=\"node10\" class=\"node\"><title>9</title>\r\n",
       "<path fill=\"#e58139\" stroke=\"black\" d=\"M452,-68C452,-68 361,-68 361,-68 355,-68 349,-62 349,-56 349,-56 349,-12 349,-12 349,-6 355,-0 361,-0 361,-0 452,-0 452,-0 458,-0 464,-6 464,-12 464,-12 464,-56 464,-56 464,-62 458,-68 452,-68\"/>\r\n",
       "<text text-anchor=\"middle\" x=\"406.5\" y=\"-52.8\" font-family=\"Helvetica,sans-Serif\" font-size=\"14.00\">gini = 0.0</text>\r\n",
       "<text text-anchor=\"middle\" x=\"406.5\" y=\"-37.8\" font-family=\"Helvetica,sans-Serif\" font-size=\"14.00\">samples = 1</text>\r\n",
       "<text text-anchor=\"middle\" x=\"406.5\" y=\"-22.8\" font-family=\"Helvetica,sans-Serif\" font-size=\"14.00\">value = [1, 0, 0]</text>\r\n",
       "<text text-anchor=\"middle\" x=\"406.5\" y=\"-7.8\" font-family=\"Helvetica,sans-Serif\" font-size=\"14.00\">class = class_0</text>\r\n",
       "</g>\r\n",
       "<!-- 7&#45;&gt;9 -->\r\n",
       "<g id=\"edge9\" class=\"edge\"><title>7&#45;&gt;9</title>\r\n",
       "<path fill=\"none\" stroke=\"black\" d=\"M365.076,-103.726C370.354,-94.9703 375.939,-85.7032 381.242,-76.9051\"/>\r\n",
       "<polygon fill=\"black\" stroke=\"black\" points=\"384.264,-78.671 386.429,-68.2996 378.269,-75.0574 384.264,-78.671\"/>\r\n",
       "</g>\r\n",
       "</g>\r\n",
       "</svg>\r\n"
      ],
      "text/plain": [
       "<graphviz.files.Source at 0x21fc0e71250>"
      ]
     },
     "execution_count": 16,
     "metadata": {},
     "output_type": "execute_result"
    }
   ],
   "source": [
    "graph"
   ]
  },
  {
   "cell_type": "code",
   "execution_count": 17,
   "metadata": {},
   "outputs": [],
   "source": [
    "clf2 = tree.DecisionTreeClassifier(criterion=\"entropy\")"
   ]
  },
  {
   "cell_type": "code",
   "execution_count": 18,
   "metadata": {},
   "outputs": [
    {
     "name": "stdout",
     "output_type": "stream",
     "text": [
      "[[17  1  0]\n",
      " [ 0 21  0]\n",
      " [ 0  1 14]]\n",
      "0.9629629629629629\n"
     ]
    }
   ],
   "source": [
    "clf2_dt = clf2.fit(x_train, y_train)\n",
    "y_pred2 = clf2.predict(x_test)\n",
    "\n",
    "print(confusion_matrix(y_test, y_pred2))\n",
    "print(accuracy_score(y_test, y_pred2))"
   ]
  },
  {
   "cell_type": "code",
   "execution_count": 19,
   "metadata": {},
   "outputs": [],
   "source": [
    "dot_data2 = tree.export_graphviz(clf2_dt, out_file=None,\n",
    "                               feature_names=wine.feature_names,\n",
    "                               class_names=wine.target_names,\n",
    "                               filled=True, rounded=True,\n",
    "                               special_characters=True)\n",
    "graph2 = graphviz.Source(dot_data2)"
   ]
  },
  {
   "cell_type": "code",
   "execution_count": 20,
   "metadata": {},
   "outputs": [
    {
     "data": {
      "image/svg+xml": [
       "<?xml version=\"1.0\" encoding=\"UTF-8\" standalone=\"no\"?>\r\n",
       "<!DOCTYPE svg PUBLIC \"-//W3C//DTD SVG 1.1//EN\"\r\n",
       " \"http://www.w3.org/Graphics/SVG/1.1/DTD/svg11.dtd\">\r\n",
       "<!-- Generated by graphviz version 2.38.0 (20140413.2041)\r\n",
       " -->\r\n",
       "<!-- Title: Tree Pages: 1 -->\r\n",
       "<svg width=\"658pt\" height=\"552pt\"\r\n",
       " viewBox=\"0.00 0.00 658.00 552.00\" xmlns=\"http://www.w3.org/2000/svg\" xmlns:xlink=\"http://www.w3.org/1999/xlink\">\r\n",
       "<g id=\"graph0\" class=\"graph\" transform=\"scale(1 1) rotate(0) translate(4 548)\">\r\n",
       "<title>Tree</title>\r\n",
       "<polygon fill=\"white\" stroke=\"none\" points=\"-4,4 -4,-548 654,-548 654,4 -4,4\"/>\r\n",
       "<!-- 0 -->\r\n",
       "<g id=\"node1\" class=\"node\"><title>0</title>\r\n",
       "<path fill=\"#eafcf1\" stroke=\"black\" d=\"M325,-544C325,-544 212,-544 212,-544 206,-544 200,-538 200,-532 200,-532 200,-473 200,-473 200,-467 206,-461 212,-461 212,-461 325,-461 325,-461 331,-461 337,-467 337,-473 337,-473 337,-532 337,-532 337,-538 331,-544 325,-544\"/>\r\n",
       "<text text-anchor=\"start\" x=\"218.5\" y=\"-528.8\" font-family=\"Helvetica,sans-Serif\" font-size=\"14.00\">flavanoids ≤ 1.4</text>\r\n",
       "<text text-anchor=\"start\" x=\"218.5\" y=\"-513.8\" font-family=\"Helvetica,sans-Serif\" font-size=\"14.00\">entropy = 1.565</text>\r\n",
       "<text text-anchor=\"start\" x=\"221\" y=\"-498.8\" font-family=\"Helvetica,sans-Serif\" font-size=\"14.00\">samples = 124</text>\r\n",
       "<text text-anchor=\"start\" x=\"208\" y=\"-483.8\" font-family=\"Helvetica,sans-Serif\" font-size=\"14.00\">value = [41, 50, 33]</text>\r\n",
       "<text text-anchor=\"start\" x=\"219\" y=\"-468.8\" font-family=\"Helvetica,sans-Serif\" font-size=\"14.00\">class = class_1</text>\r\n",
       "</g>\r\n",
       "<!-- 1 -->\r\n",
       "<g id=\"node2\" class=\"node\"><title>1</title>\r\n",
       "<path fill=\"#a36fec\" stroke=\"black\" d=\"M255,-425C255,-425 120,-425 120,-425 114,-425 108,-419 108,-413 108,-413 108,-354 108,-354 108,-348 114,-342 120,-342 120,-342 255,-342 255,-342 261,-342 267,-348 267,-354 267,-354 267,-413 267,-413 267,-419 261,-425 255,-425\"/>\r\n",
       "<text text-anchor=\"start\" x=\"116\" y=\"-409.8\" font-family=\"Helvetica,sans-Serif\" font-size=\"14.00\">color_intensity ≤ 3.725</text>\r\n",
       "<text text-anchor=\"start\" x=\"141.5\" y=\"-394.8\" font-family=\"Helvetica,sans-Serif\" font-size=\"14.00\">entropy = 0.75</text>\r\n",
       "<text text-anchor=\"start\" x=\"144\" y=\"-379.8\" font-family=\"Helvetica,sans-Serif\" font-size=\"14.00\">samples = 42</text>\r\n",
       "<text text-anchor=\"start\" x=\"135\" y=\"-364.8\" font-family=\"Helvetica,sans-Serif\" font-size=\"14.00\">value = [0, 9, 33]</text>\r\n",
       "<text text-anchor=\"start\" x=\"138\" y=\"-349.8\" font-family=\"Helvetica,sans-Serif\" font-size=\"14.00\">class = class_2</text>\r\n",
       "</g>\r\n",
       "<!-- 0&#45;&gt;1 -->\r\n",
       "<g id=\"edge1\" class=\"edge\"><title>0&#45;&gt;1</title>\r\n",
       "<path fill=\"none\" stroke=\"black\" d=\"M240.397,-460.907C234.24,-452.014 227.66,-442.509 221.306,-433.331\"/>\r\n",
       "<polygon fill=\"black\" stroke=\"black\" points=\"224.123,-431.251 215.553,-425.021 218.367,-435.235 224.123,-431.251\"/>\r\n",
       "<text text-anchor=\"middle\" x=\"211.081\" y=\"-445.918\" font-family=\"Helvetica,sans-Serif\" font-size=\"14.00\">True</text>\r\n",
       "</g>\r\n",
       "<!-- 4 -->\r\n",
       "<g id=\"node5\" class=\"node\"><title>4</title>\r\n",
       "<path fill=\"#ffffff\" stroke=\"black\" d=\"M402,-425C402,-425 297,-425 297,-425 291,-425 285,-419 285,-413 285,-413 285,-354 285,-354 285,-348 291,-342 297,-342 297,-342 402,-342 402,-342 408,-342 414,-348 414,-354 414,-354 414,-413 414,-413 414,-419 408,-425 402,-425\"/>\r\n",
       "<text text-anchor=\"start\" x=\"302\" y=\"-409.8\" font-family=\"Helvetica,sans-Serif\" font-size=\"14.00\">proline ≤ 676.0</text>\r\n",
       "<text text-anchor=\"start\" x=\"307.5\" y=\"-394.8\" font-family=\"Helvetica,sans-Serif\" font-size=\"14.00\">entropy = 1.0</text>\r\n",
       "<text text-anchor=\"start\" x=\"306\" y=\"-379.8\" font-family=\"Helvetica,sans-Serif\" font-size=\"14.00\">samples = 82</text>\r\n",
       "<text text-anchor=\"start\" x=\"293\" y=\"-364.8\" font-family=\"Helvetica,sans-Serif\" font-size=\"14.00\">value = [41, 41, 0]</text>\r\n",
       "<text text-anchor=\"start\" x=\"300\" y=\"-349.8\" font-family=\"Helvetica,sans-Serif\" font-size=\"14.00\">class = class_0</text>\r\n",
       "</g>\r\n",
       "<!-- 0&#45;&gt;4 -->\r\n",
       "<g id=\"edge4\" class=\"edge\"><title>0&#45;&gt;4</title>\r\n",
       "<path fill=\"none\" stroke=\"black\" d=\"M296.603,-460.907C302.76,-452.014 309.34,-442.509 315.694,-433.331\"/>\r\n",
       "<polygon fill=\"black\" stroke=\"black\" points=\"318.633,-435.235 321.447,-425.021 312.877,-431.251 318.633,-435.235\"/>\r\n",
       "<text text-anchor=\"middle\" x=\"325.919\" y=\"-445.918\" font-family=\"Helvetica,sans-Serif\" font-size=\"14.00\">False</text>\r\n",
       "</g>\r\n",
       "<!-- 2 -->\r\n",
       "<g id=\"node3\" class=\"node\"><title>2</title>\r\n",
       "<path fill=\"#39e581\" stroke=\"black\" d=\"M103,-298.5C103,-298.5 12,-298.5 12,-298.5 6,-298.5 0,-292.5 0,-286.5 0,-286.5 0,-242.5 0,-242.5 0,-236.5 6,-230.5 12,-230.5 12,-230.5 103,-230.5 103,-230.5 109,-230.5 115,-236.5 115,-242.5 115,-242.5 115,-286.5 115,-286.5 115,-292.5 109,-298.5 103,-298.5\"/>\r\n",
       "<text text-anchor=\"start\" x=\"15.5\" y=\"-283.3\" font-family=\"Helvetica,sans-Serif\" font-size=\"14.00\">entropy = 0.0</text>\r\n",
       "<text text-anchor=\"start\" x=\"18\" y=\"-268.3\" font-family=\"Helvetica,sans-Serif\" font-size=\"14.00\">samples = 9</text>\r\n",
       "<text text-anchor=\"start\" x=\"9\" y=\"-253.3\" font-family=\"Helvetica,sans-Serif\" font-size=\"14.00\">value = [0, 9, 0]</text>\r\n",
       "<text text-anchor=\"start\" x=\"8\" y=\"-238.3\" font-family=\"Helvetica,sans-Serif\" font-size=\"14.00\">class = class_1</text>\r\n",
       "</g>\r\n",
       "<!-- 1&#45;&gt;2 -->\r\n",
       "<g id=\"edge2\" class=\"edge\"><title>1&#45;&gt;2</title>\r\n",
       "<path fill=\"none\" stroke=\"black\" d=\"M142.397,-341.907C129.278,-330.101 114.963,-317.217 101.888,-305.45\"/>\r\n",
       "<polygon fill=\"black\" stroke=\"black\" points=\"104.127,-302.755 94.3522,-298.667 99.4437,-307.958 104.127,-302.755\"/>\r\n",
       "</g>\r\n",
       "<!-- 3 -->\r\n",
       "<g id=\"node4\" class=\"node\"><title>3</title>\r\n",
       "<path fill=\"#8139e5\" stroke=\"black\" d=\"M242,-298.5C242,-298.5 145,-298.5 145,-298.5 139,-298.5 133,-292.5 133,-286.5 133,-286.5 133,-242.5 133,-242.5 133,-236.5 139,-230.5 145,-230.5 145,-230.5 242,-230.5 242,-230.5 248,-230.5 254,-236.5 254,-242.5 254,-242.5 254,-286.5 254,-286.5 254,-292.5 248,-298.5 242,-298.5\"/>\r\n",
       "<text text-anchor=\"start\" x=\"151.5\" y=\"-283.3\" font-family=\"Helvetica,sans-Serif\" font-size=\"14.00\">entropy = 0.0</text>\r\n",
       "<text text-anchor=\"start\" x=\"150\" y=\"-268.3\" font-family=\"Helvetica,sans-Serif\" font-size=\"14.00\">samples = 33</text>\r\n",
       "<text text-anchor=\"start\" x=\"141\" y=\"-253.3\" font-family=\"Helvetica,sans-Serif\" font-size=\"14.00\">value = [0, 0, 33]</text>\r\n",
       "<text text-anchor=\"start\" x=\"144\" y=\"-238.3\" font-family=\"Helvetica,sans-Serif\" font-size=\"14.00\">class = class_2</text>\r\n",
       "</g>\r\n",
       "<!-- 1&#45;&gt;3 -->\r\n",
       "<g id=\"edge3\" class=\"edge\"><title>1&#45;&gt;3</title>\r\n",
       "<path fill=\"none\" stroke=\"black\" d=\"M189.582,-341.907C190.131,-331.204 190.725,-319.615 191.281,-308.776\"/>\r\n",
       "<polygon fill=\"black\" stroke=\"black\" points=\"194.782,-308.833 191.799,-298.667 187.791,-308.475 194.782,-308.833\"/>\r\n",
       "</g>\r\n",
       "<!-- 5 -->\r\n",
       "<g id=\"node6\" class=\"node\"><title>5</title>\r\n",
       "<path fill=\"#39e581\" stroke=\"black\" d=\"M392,-298.5C392,-298.5 295,-298.5 295,-298.5 289,-298.5 283,-292.5 283,-286.5 283,-286.5 283,-242.5 283,-242.5 283,-236.5 289,-230.5 295,-230.5 295,-230.5 392,-230.5 392,-230.5 398,-230.5 404,-236.5 404,-242.5 404,-242.5 404,-286.5 404,-286.5 404,-292.5 398,-298.5 392,-298.5\"/>\r\n",
       "<text text-anchor=\"start\" x=\"301.5\" y=\"-283.3\" font-family=\"Helvetica,sans-Serif\" font-size=\"14.00\">entropy = 0.0</text>\r\n",
       "<text text-anchor=\"start\" x=\"300\" y=\"-268.3\" font-family=\"Helvetica,sans-Serif\" font-size=\"14.00\">samples = 35</text>\r\n",
       "<text text-anchor=\"start\" x=\"291\" y=\"-253.3\" font-family=\"Helvetica,sans-Serif\" font-size=\"14.00\">value = [0, 35, 0]</text>\r\n",
       "<text text-anchor=\"start\" x=\"294\" y=\"-238.3\" font-family=\"Helvetica,sans-Serif\" font-size=\"14.00\">class = class_1</text>\r\n",
       "</g>\r\n",
       "<!-- 4&#45;&gt;5 -->\r\n",
       "<g id=\"edge5\" class=\"edge\"><title>4&#45;&gt;5</title>\r\n",
       "<path fill=\"none\" stroke=\"black\" d=\"M347.418,-341.907C346.869,-331.204 346.275,-319.615 345.719,-308.776\"/>\r\n",
       "<polygon fill=\"black\" stroke=\"black\" points=\"349.209,-308.475 345.201,-298.667 342.218,-308.833 349.209,-308.475\"/>\r\n",
       "</g>\r\n",
       "<!-- 6 -->\r\n",
       "<g id=\"node7\" class=\"node\"><title>6</title>\r\n",
       "<path fill=\"#e99356\" stroke=\"black\" d=\"M531,-306C531,-306 434,-306 434,-306 428,-306 422,-300 422,-294 422,-294 422,-235 422,-235 422,-229 428,-223 434,-223 434,-223 531,-223 531,-223 537,-223 543,-229 543,-235 543,-235 543,-294 543,-294 543,-300 537,-306 531,-306\"/>\r\n",
       "<text text-anchor=\"start\" x=\"434\" y=\"-290.8\" font-family=\"Helvetica,sans-Serif\" font-size=\"14.00\">alcohol ≤ 13.02</text>\r\n",
       "<text text-anchor=\"start\" x=\"432.5\" y=\"-275.8\" font-family=\"Helvetica,sans-Serif\" font-size=\"14.00\">entropy = 0.551</text>\r\n",
       "<text text-anchor=\"start\" x=\"439\" y=\"-260.8\" font-family=\"Helvetica,sans-Serif\" font-size=\"14.00\">samples = 47</text>\r\n",
       "<text text-anchor=\"start\" x=\"430\" y=\"-245.8\" font-family=\"Helvetica,sans-Serif\" font-size=\"14.00\">value = [41, 6, 0]</text>\r\n",
       "<text text-anchor=\"start\" x=\"433\" y=\"-230.8\" font-family=\"Helvetica,sans-Serif\" font-size=\"14.00\">class = class_0</text>\r\n",
       "</g>\r\n",
       "<!-- 4&#45;&gt;6 -->\r\n",
       "<g id=\"edge6\" class=\"edge\"><title>4&#45;&gt;6</title>\r\n",
       "<path fill=\"none\" stroke=\"black\" d=\"M395.644,-341.907C406.372,-332.469 417.884,-322.343 428.903,-312.649\"/>\r\n",
       "<polygon fill=\"black\" stroke=\"black\" points=\"431.241,-315.254 436.438,-306.021 426.618,-309.998 431.241,-315.254\"/>\r\n",
       "</g>\r\n",
       "<!-- 7 -->\r\n",
       "<g id=\"node8\" class=\"node\"><title>7</title>\r\n",
       "<path fill=\"#5ae996\" stroke=\"black\" d=\"M498.5,-187C498.5,-187 252.5,-187 252.5,-187 246.5,-187 240.5,-181 240.5,-175 240.5,-175 240.5,-116 240.5,-116 240.5,-110 246.5,-104 252.5,-104 252.5,-104 498.5,-104 498.5,-104 504.5,-104 510.5,-110 510.5,-116 510.5,-116 510.5,-175 510.5,-175 510.5,-181 504.5,-187 498.5,-187\"/>\r\n",
       "<text text-anchor=\"start\" x=\"248.5\" y=\"-171.8\" font-family=\"Helvetica,sans-Serif\" font-size=\"14.00\">od280/od315_of_diluted_wines ≤ 3.565</text>\r\n",
       "<text text-anchor=\"start\" x=\"325.5\" y=\"-156.8\" font-family=\"Helvetica,sans-Serif\" font-size=\"14.00\">entropy = 0.592</text>\r\n",
       "<text text-anchor=\"start\" x=\"336\" y=\"-141.8\" font-family=\"Helvetica,sans-Serif\" font-size=\"14.00\">samples = 7</text>\r\n",
       "<text text-anchor=\"start\" x=\"327\" y=\"-126.8\" font-family=\"Helvetica,sans-Serif\" font-size=\"14.00\">value = [1, 6, 0]</text>\r\n",
       "<text text-anchor=\"start\" x=\"326\" y=\"-111.8\" font-family=\"Helvetica,sans-Serif\" font-size=\"14.00\">class = class_1</text>\r\n",
       "</g>\r\n",
       "<!-- 6&#45;&gt;7 -->\r\n",
       "<g id=\"edge7\" class=\"edge\"><title>6&#45;&gt;7</title>\r\n",
       "<path fill=\"none\" stroke=\"black\" d=\"M445.377,-222.907C436.994,-213.742 428.018,-203.927 419.387,-194.489\"/>\r\n",
       "<polygon fill=\"black\" stroke=\"black\" points=\"421.889,-192.038 412.557,-187.021 416.723,-196.762 421.889,-192.038\"/>\r\n",
       "</g>\r\n",
       "<!-- 10 -->\r\n",
       "<g id=\"node11\" class=\"node\"><title>10</title>\r\n",
       "<path fill=\"#e58139\" stroke=\"black\" d=\"M638,-179.5C638,-179.5 541,-179.5 541,-179.5 535,-179.5 529,-173.5 529,-167.5 529,-167.5 529,-123.5 529,-123.5 529,-117.5 535,-111.5 541,-111.5 541,-111.5 638,-111.5 638,-111.5 644,-111.5 650,-117.5 650,-123.5 650,-123.5 650,-167.5 650,-167.5 650,-173.5 644,-179.5 638,-179.5\"/>\r\n",
       "<text text-anchor=\"start\" x=\"547.5\" y=\"-164.3\" font-family=\"Helvetica,sans-Serif\" font-size=\"14.00\">entropy = 0.0</text>\r\n",
       "<text text-anchor=\"start\" x=\"546\" y=\"-149.3\" font-family=\"Helvetica,sans-Serif\" font-size=\"14.00\">samples = 40</text>\r\n",
       "<text text-anchor=\"start\" x=\"537\" y=\"-134.3\" font-family=\"Helvetica,sans-Serif\" font-size=\"14.00\">value = [40, 0, 0]</text>\r\n",
       "<text text-anchor=\"start\" x=\"540\" y=\"-119.3\" font-family=\"Helvetica,sans-Serif\" font-size=\"14.00\">class = class_0</text>\r\n",
       "</g>\r\n",
       "<!-- 6&#45;&gt;10 -->\r\n",
       "<g id=\"edge10\" class=\"edge\"><title>6&#45;&gt;10</title>\r\n",
       "<path fill=\"none\" stroke=\"black\" d=\"M519.623,-222.907C530.219,-211.321 541.764,-198.698 552.36,-187.111\"/>\r\n",
       "<polygon fill=\"black\" stroke=\"black\" points=\"555.002,-189.408 559.168,-179.667 549.836,-184.684 555.002,-189.408\"/>\r\n",
       "</g>\r\n",
       "<!-- 8 -->\r\n",
       "<g id=\"node9\" class=\"node\"><title>8</title>\r\n",
       "<path fill=\"#39e581\" stroke=\"black\" d=\"M355,-68C355,-68 264,-68 264,-68 258,-68 252,-62 252,-56 252,-56 252,-12 252,-12 252,-6 258,-0 264,-0 264,-0 355,-0 355,-0 361,-0 367,-6 367,-12 367,-12 367,-56 367,-56 367,-62 361,-68 355,-68\"/>\r\n",
       "<text text-anchor=\"start\" x=\"267.5\" y=\"-52.8\" font-family=\"Helvetica,sans-Serif\" font-size=\"14.00\">entropy = 0.0</text>\r\n",
       "<text text-anchor=\"start\" x=\"270\" y=\"-37.8\" font-family=\"Helvetica,sans-Serif\" font-size=\"14.00\">samples = 6</text>\r\n",
       "<text text-anchor=\"start\" x=\"261\" y=\"-22.8\" font-family=\"Helvetica,sans-Serif\" font-size=\"14.00\">value = [0, 6, 0]</text>\r\n",
       "<text text-anchor=\"start\" x=\"260\" y=\"-7.8\" font-family=\"Helvetica,sans-Serif\" font-size=\"14.00\">class = class_1</text>\r\n",
       "</g>\r\n",
       "<!-- 7&#45;&gt;8 -->\r\n",
       "<g id=\"edge8\" class=\"edge\"><title>7&#45;&gt;8</title>\r\n",
       "<path fill=\"none\" stroke=\"black\" d=\"M350.924,-103.726C345.646,-94.9703 340.061,-85.7032 334.758,-76.9051\"/>\r\n",
       "<polygon fill=\"black\" stroke=\"black\" points=\"337.731,-75.0574 329.571,-68.2996 331.736,-78.671 337.731,-75.0574\"/>\r\n",
       "</g>\r\n",
       "<!-- 9 -->\r\n",
       "<g id=\"node10\" class=\"node\"><title>9</title>\r\n",
       "<path fill=\"#e58139\" stroke=\"black\" d=\"M488,-68C488,-68 397,-68 397,-68 391,-68 385,-62 385,-56 385,-56 385,-12 385,-12 385,-6 391,-0 397,-0 397,-0 488,-0 488,-0 494,-0 500,-6 500,-12 500,-12 500,-56 500,-56 500,-62 494,-68 488,-68\"/>\r\n",
       "<text text-anchor=\"start\" x=\"400.5\" y=\"-52.8\" font-family=\"Helvetica,sans-Serif\" font-size=\"14.00\">entropy = 0.0</text>\r\n",
       "<text text-anchor=\"start\" x=\"403\" y=\"-37.8\" font-family=\"Helvetica,sans-Serif\" font-size=\"14.00\">samples = 1</text>\r\n",
       "<text text-anchor=\"start\" x=\"394\" y=\"-22.8\" font-family=\"Helvetica,sans-Serif\" font-size=\"14.00\">value = [1, 0, 0]</text>\r\n",
       "<text text-anchor=\"start\" x=\"393\" y=\"-7.8\" font-family=\"Helvetica,sans-Serif\" font-size=\"14.00\">class = class_0</text>\r\n",
       "</g>\r\n",
       "<!-- 7&#45;&gt;9 -->\r\n",
       "<g id=\"edge9\" class=\"edge\"><title>7&#45;&gt;9</title>\r\n",
       "<path fill=\"none\" stroke=\"black\" d=\"M400.448,-103.726C405.806,-94.9703 411.476,-85.7032 416.859,-76.9051\"/>\r\n",
       "<polygon fill=\"black\" stroke=\"black\" points=\"419.891,-78.6563 422.125,-68.2996 413.92,-75.0028 419.891,-78.6563\"/>\r\n",
       "</g>\r\n",
       "</g>\r\n",
       "</svg>\r\n"
      ],
      "text/plain": [
       "<graphviz.files.Source at 0x21fc3c57640>"
      ]
     },
     "execution_count": 20,
     "metadata": {},
     "output_type": "execute_result"
    }
   ],
   "source": [
    "graph2"
   ]
  },
  {
   "cell_type": "code",
   "execution_count": 21,
   "metadata": {},
   "outputs": [],
   "source": [
    "clf3 = tree.DecisionTreeClassifier(criterion=\"entropy\", max_depth=2)"
   ]
  },
  {
   "cell_type": "code",
   "execution_count": 22,
   "metadata": {},
   "outputs": [
    {
     "name": "stdout",
     "output_type": "stream",
     "text": [
      "[[18  0  0]\n",
      " [ 3 18  0]\n",
      " [ 0  1 14]]\n",
      "0.9259259259259259\n"
     ]
    }
   ],
   "source": [
    "clf3_dt = clf3.fit(x_train, y_train)\n",
    "y_pred3 = clf3.predict(x_test)\n",
    "\n",
    "print(confusion_matrix(y_test, y_pred3))\n",
    "print(accuracy_score(y_test, y_pred3))"
   ]
  },
  {
   "cell_type": "code",
   "execution_count": 23,
   "metadata": {},
   "outputs": [
    {
     "data": {
      "image/svg+xml": [
       "<?xml version=\"1.0\" encoding=\"UTF-8\" standalone=\"no\"?>\r\n",
       "<!DOCTYPE svg PUBLIC \"-//W3C//DTD SVG 1.1//EN\"\r\n",
       " \"http://www.w3.org/Graphics/SVG/1.1/DTD/svg11.dtd\">\r\n",
       "<!-- Generated by graphviz version 2.38.0 (20140413.2041)\r\n",
       " -->\r\n",
       "<!-- Title: Tree Pages: 1 -->\r\n",
       "<svg width=\"551pt\" height=\"314pt\"\r\n",
       " viewBox=\"0.00 0.00 551.00 314.00\" xmlns=\"http://www.w3.org/2000/svg\" xmlns:xlink=\"http://www.w3.org/1999/xlink\">\r\n",
       "<g id=\"graph0\" class=\"graph\" transform=\"scale(1 1) rotate(0) translate(4 310)\">\r\n",
       "<title>Tree</title>\r\n",
       "<polygon fill=\"white\" stroke=\"none\" points=\"-4,4 -4,-310 547,-310 547,4 -4,4\"/>\r\n",
       "<!-- 0 -->\r\n",
       "<g id=\"node1\" class=\"node\"><title>0</title>\r\n",
       "<path fill=\"#eafcf1\" stroke=\"black\" d=\"M325,-306C325,-306 212,-306 212,-306 206,-306 200,-300 200,-294 200,-294 200,-235 200,-235 200,-229 206,-223 212,-223 212,-223 325,-223 325,-223 331,-223 337,-229 337,-235 337,-235 337,-294 337,-294 337,-300 331,-306 325,-306\"/>\r\n",
       "<text text-anchor=\"start\" x=\"218.5\" y=\"-290.8\" font-family=\"Helvetica,sans-Serif\" font-size=\"14.00\">flavanoids ≤ 1.4</text>\r\n",
       "<text text-anchor=\"start\" x=\"218.5\" y=\"-275.8\" font-family=\"Helvetica,sans-Serif\" font-size=\"14.00\">entropy = 1.565</text>\r\n",
       "<text text-anchor=\"start\" x=\"221\" y=\"-260.8\" font-family=\"Helvetica,sans-Serif\" font-size=\"14.00\">samples = 124</text>\r\n",
       "<text text-anchor=\"start\" x=\"208\" y=\"-245.8\" font-family=\"Helvetica,sans-Serif\" font-size=\"14.00\">value = [41, 50, 33]</text>\r\n",
       "<text text-anchor=\"start\" x=\"219\" y=\"-230.8\" font-family=\"Helvetica,sans-Serif\" font-size=\"14.00\">class = class_1</text>\r\n",
       "</g>\r\n",
       "<!-- 1 -->\r\n",
       "<g id=\"node2\" class=\"node\"><title>1</title>\r\n",
       "<path fill=\"#a36fec\" stroke=\"black\" d=\"M255,-187C255,-187 120,-187 120,-187 114,-187 108,-181 108,-175 108,-175 108,-116 108,-116 108,-110 114,-104 120,-104 120,-104 255,-104 255,-104 261,-104 267,-110 267,-116 267,-116 267,-175 267,-175 267,-181 261,-187 255,-187\"/>\r\n",
       "<text text-anchor=\"start\" x=\"116\" y=\"-171.8\" font-family=\"Helvetica,sans-Serif\" font-size=\"14.00\">color_intensity ≤ 3.725</text>\r\n",
       "<text text-anchor=\"start\" x=\"141.5\" y=\"-156.8\" font-family=\"Helvetica,sans-Serif\" font-size=\"14.00\">entropy = 0.75</text>\r\n",
       "<text text-anchor=\"start\" x=\"144\" y=\"-141.8\" font-family=\"Helvetica,sans-Serif\" font-size=\"14.00\">samples = 42</text>\r\n",
       "<text text-anchor=\"start\" x=\"135\" y=\"-126.8\" font-family=\"Helvetica,sans-Serif\" font-size=\"14.00\">value = [0, 9, 33]</text>\r\n",
       "<text text-anchor=\"start\" x=\"138\" y=\"-111.8\" font-family=\"Helvetica,sans-Serif\" font-size=\"14.00\">class = class_2</text>\r\n",
       "</g>\r\n",
       "<!-- 0&#45;&gt;1 -->\r\n",
       "<g id=\"edge1\" class=\"edge\"><title>0&#45;&gt;1</title>\r\n",
       "<path fill=\"none\" stroke=\"black\" d=\"M240.397,-222.907C234.24,-214.014 227.66,-204.509 221.306,-195.331\"/>\r\n",
       "<polygon fill=\"black\" stroke=\"black\" points=\"224.123,-193.251 215.553,-187.021 218.367,-197.235 224.123,-193.251\"/>\r\n",
       "<text text-anchor=\"middle\" x=\"211.081\" y=\"-207.918\" font-family=\"Helvetica,sans-Serif\" font-size=\"14.00\">True</text>\r\n",
       "</g>\r\n",
       "<!-- 4 -->\r\n",
       "<g id=\"node5\" class=\"node\"><title>4</title>\r\n",
       "<path fill=\"#ffffff\" stroke=\"black\" d=\"M402,-187C402,-187 297,-187 297,-187 291,-187 285,-181 285,-175 285,-175 285,-116 285,-116 285,-110 291,-104 297,-104 297,-104 402,-104 402,-104 408,-104 414,-110 414,-116 414,-116 414,-175 414,-175 414,-181 408,-187 402,-187\"/>\r\n",
       "<text text-anchor=\"start\" x=\"302\" y=\"-171.8\" font-family=\"Helvetica,sans-Serif\" font-size=\"14.00\">proline ≤ 676.0</text>\r\n",
       "<text text-anchor=\"start\" x=\"307.5\" y=\"-156.8\" font-family=\"Helvetica,sans-Serif\" font-size=\"14.00\">entropy = 1.0</text>\r\n",
       "<text text-anchor=\"start\" x=\"306\" y=\"-141.8\" font-family=\"Helvetica,sans-Serif\" font-size=\"14.00\">samples = 82</text>\r\n",
       "<text text-anchor=\"start\" x=\"293\" y=\"-126.8\" font-family=\"Helvetica,sans-Serif\" font-size=\"14.00\">value = [41, 41, 0]</text>\r\n",
       "<text text-anchor=\"start\" x=\"300\" y=\"-111.8\" font-family=\"Helvetica,sans-Serif\" font-size=\"14.00\">class = class_0</text>\r\n",
       "</g>\r\n",
       "<!-- 0&#45;&gt;4 -->\r\n",
       "<g id=\"edge4\" class=\"edge\"><title>0&#45;&gt;4</title>\r\n",
       "<path fill=\"none\" stroke=\"black\" d=\"M296.603,-222.907C302.76,-214.014 309.34,-204.509 315.694,-195.331\"/>\r\n",
       "<polygon fill=\"black\" stroke=\"black\" points=\"318.633,-197.235 321.447,-187.021 312.877,-193.251 318.633,-197.235\"/>\r\n",
       "<text text-anchor=\"middle\" x=\"325.919\" y=\"-207.918\" font-family=\"Helvetica,sans-Serif\" font-size=\"14.00\">False</text>\r\n",
       "</g>\r\n",
       "<!-- 2 -->\r\n",
       "<g id=\"node3\" class=\"node\"><title>2</title>\r\n",
       "<path fill=\"#39e581\" stroke=\"black\" d=\"M103,-68C103,-68 12,-68 12,-68 6,-68 0,-62 0,-56 0,-56 0,-12 0,-12 0,-6 6,-0 12,-0 12,-0 103,-0 103,-0 109,-0 115,-6 115,-12 115,-12 115,-56 115,-56 115,-62 109,-68 103,-68\"/>\r\n",
       "<text text-anchor=\"start\" x=\"15.5\" y=\"-52.8\" font-family=\"Helvetica,sans-Serif\" font-size=\"14.00\">entropy = 0.0</text>\r\n",
       "<text text-anchor=\"start\" x=\"18\" y=\"-37.8\" font-family=\"Helvetica,sans-Serif\" font-size=\"14.00\">samples = 9</text>\r\n",
       "<text text-anchor=\"start\" x=\"9\" y=\"-22.8\" font-family=\"Helvetica,sans-Serif\" font-size=\"14.00\">value = [0, 9, 0]</text>\r\n",
       "<text text-anchor=\"start\" x=\"8\" y=\"-7.8\" font-family=\"Helvetica,sans-Serif\" font-size=\"14.00\">class = class_1</text>\r\n",
       "</g>\r\n",
       "<!-- 1&#45;&gt;2 -->\r\n",
       "<g id=\"edge2\" class=\"edge\"><title>1&#45;&gt;2</title>\r\n",
       "<path fill=\"none\" stroke=\"black\" d=\"M139.093,-103.726C127.94,-94.3318 116.088,-84.349 104.975,-74.9883\"/>\r\n",
       "<polygon fill=\"black\" stroke=\"black\" points=\"106.937,-72.065 97.0338,-68.2996 102.427,-77.4188 106.937,-72.065\"/>\r\n",
       "</g>\r\n",
       "<!-- 3 -->\r\n",
       "<g id=\"node4\" class=\"node\"><title>3</title>\r\n",
       "<path fill=\"#8139e5\" stroke=\"black\" d=\"M242,-68C242,-68 145,-68 145,-68 139,-68 133,-62 133,-56 133,-56 133,-12 133,-12 133,-6 139,-0 145,-0 145,-0 242,-0 242,-0 248,-0 254,-6 254,-12 254,-12 254,-56 254,-56 254,-62 248,-68 242,-68\"/>\r\n",
       "<text text-anchor=\"start\" x=\"151.5\" y=\"-52.8\" font-family=\"Helvetica,sans-Serif\" font-size=\"14.00\">entropy = 0.0</text>\r\n",
       "<text text-anchor=\"start\" x=\"150\" y=\"-37.8\" font-family=\"Helvetica,sans-Serif\" font-size=\"14.00\">samples = 33</text>\r\n",
       "<text text-anchor=\"start\" x=\"141\" y=\"-22.8\" font-family=\"Helvetica,sans-Serif\" font-size=\"14.00\">value = [0, 0, 33]</text>\r\n",
       "<text text-anchor=\"start\" x=\"144\" y=\"-7.8\" font-family=\"Helvetica,sans-Serif\" font-size=\"14.00\">class = class_2</text>\r\n",
       "</g>\r\n",
       "<!-- 1&#45;&gt;3 -->\r\n",
       "<g id=\"edge3\" class=\"edge\"><title>1&#45;&gt;3</title>\r\n",
       "<path fill=\"none\" stroke=\"black\" d=\"M189.734,-103.726C190.184,-95.5175 190.658,-86.8595 191.113,-78.56\"/>\r\n",
       "<polygon fill=\"black\" stroke=\"black\" points=\"194.623,-78.4761 191.675,-68.2996 187.633,-78.0931 194.623,-78.4761\"/>\r\n",
       "</g>\r\n",
       "<!-- 5 -->\r\n",
       "<g id=\"node6\" class=\"node\"><title>5</title>\r\n",
       "<path fill=\"#39e581\" stroke=\"black\" d=\"M392,-68C392,-68 295,-68 295,-68 289,-68 283,-62 283,-56 283,-56 283,-12 283,-12 283,-6 289,-0 295,-0 295,-0 392,-0 392,-0 398,-0 404,-6 404,-12 404,-12 404,-56 404,-56 404,-62 398,-68 392,-68\"/>\r\n",
       "<text text-anchor=\"start\" x=\"301.5\" y=\"-52.8\" font-family=\"Helvetica,sans-Serif\" font-size=\"14.00\">entropy = 0.0</text>\r\n",
       "<text text-anchor=\"start\" x=\"300\" y=\"-37.8\" font-family=\"Helvetica,sans-Serif\" font-size=\"14.00\">samples = 35</text>\r\n",
       "<text text-anchor=\"start\" x=\"291\" y=\"-22.8\" font-family=\"Helvetica,sans-Serif\" font-size=\"14.00\">value = [0, 35, 0]</text>\r\n",
       "<text text-anchor=\"start\" x=\"294\" y=\"-7.8\" font-family=\"Helvetica,sans-Serif\" font-size=\"14.00\">class = class_1</text>\r\n",
       "</g>\r\n",
       "<!-- 4&#45;&gt;5 -->\r\n",
       "<g id=\"edge5\" class=\"edge\"><title>4&#45;&gt;5</title>\r\n",
       "<path fill=\"none\" stroke=\"black\" d=\"M347.266,-103.726C346.816,-95.5175 346.342,-86.8595 345.887,-78.56\"/>\r\n",
       "<polygon fill=\"black\" stroke=\"black\" points=\"349.367,-78.0931 345.325,-68.2996 342.377,-78.4761 349.367,-78.0931\"/>\r\n",
       "</g>\r\n",
       "<!-- 6 -->\r\n",
       "<g id=\"node7\" class=\"node\"><title>6</title>\r\n",
       "<path fill=\"#e99356\" stroke=\"black\" d=\"M531,-68C531,-68 434,-68 434,-68 428,-68 422,-62 422,-56 422,-56 422,-12 422,-12 422,-6 428,-0 434,-0 434,-0 531,-0 531,-0 537,-0 543,-6 543,-12 543,-12 543,-56 543,-56 543,-62 537,-68 531,-68\"/>\r\n",
       "<text text-anchor=\"start\" x=\"432.5\" y=\"-52.8\" font-family=\"Helvetica,sans-Serif\" font-size=\"14.00\">entropy = 0.551</text>\r\n",
       "<text text-anchor=\"start\" x=\"439\" y=\"-37.8\" font-family=\"Helvetica,sans-Serif\" font-size=\"14.00\">samples = 47</text>\r\n",
       "<text text-anchor=\"start\" x=\"430\" y=\"-22.8\" font-family=\"Helvetica,sans-Serif\" font-size=\"14.00\">value = [41, 6, 0]</text>\r\n",
       "<text text-anchor=\"start\" x=\"433\" y=\"-7.8\" font-family=\"Helvetica,sans-Serif\" font-size=\"14.00\">class = class_0</text>\r\n",
       "</g>\r\n",
       "<!-- 4&#45;&gt;6 -->\r\n",
       "<g id=\"edge6\" class=\"edge\"><title>4&#45;&gt;6</title>\r\n",
       "<path fill=\"none\" stroke=\"black\" d=\"M399.024,-103.726C410.546,-94.2406 422.796,-84.1551 434.261,-74.7159\"/>\r\n",
       "<polygon fill=\"black\" stroke=\"black\" points=\"436.558,-77.3577 442.054,-68.2996 432.109,-71.9536 436.558,-77.3577\"/>\r\n",
       "</g>\r\n",
       "</g>\r\n",
       "</svg>\r\n"
      ],
      "text/plain": [
       "<graphviz.files.Source at 0x21fc0e71100>"
      ]
     },
     "execution_count": 23,
     "metadata": {},
     "output_type": "execute_result"
    }
   ],
   "source": [
    "dot_data3 = tree.export_graphviz(clf3_dt, out_file=None,\n",
    "                               feature_names=wine.feature_names,\n",
    "                               class_names=wine.target_names,\n",
    "                               filled=True, rounded=True,\n",
    "                               special_characters=True)\n",
    "graph3 = graphviz.Source(dot_data3)\n",
    "graph3"
   ]
  },
  {
   "cell_type": "code",
   "execution_count": 24,
   "metadata": {},
   "outputs": [
    {
     "name": "stdout",
     "output_type": "stream",
     "text": [
      "0.9814814814814815\n",
      "0.9629629629629629\n",
      "0.9259259259259259\n"
     ]
    }
   ],
   "source": [
    "print(accuracy_score(y_test, y_pred))\n",
    "print(accuracy_score(y_test, y_pred2))\n",
    "print(accuracy_score(y_test, y_pred3))"
   ]
  },
  {
   "cell_type": "code",
   "execution_count": 25,
   "metadata": {},
   "outputs": [
    {
     "data": {
      "text/plain": [
       "0.9943820224719101"
      ]
     },
     "execution_count": 25,
     "metadata": {},
     "output_type": "execute_result"
    }
   ],
   "source": [
    "accuracy_score(wine.target,clf.predict(wine.data))"
   ]
  },
  {
   "cell_type": "code",
   "execution_count": 26,
   "metadata": {},
   "outputs": [
    {
     "data": {
      "text/plain": [
       "0.9887640449438202"
      ]
     },
     "execution_count": 26,
     "metadata": {},
     "output_type": "execute_result"
    }
   ],
   "source": [
    "accuracy_score(wine.target,clf2.predict(wine.data))"
   ]
  },
  {
   "cell_type": "code",
   "execution_count": 27,
   "metadata": {},
   "outputs": [
    {
     "data": {
      "text/plain": [
       "0.9438202247191011"
      ]
     },
     "execution_count": 27,
     "metadata": {},
     "output_type": "execute_result"
    }
   ],
   "source": [
    "accuracy_score(wine.target,clf3.predict(wine.data))"
   ]
  },
  {
   "cell_type": "markdown",
   "metadata": {},
   "source": [
    "### <더 나아가기>\n",
    "#### 과제까지 모두 하신 분들 중 더 연습 하고 싶다면... \n",
    "1. (wine) 속성 데이터들을 정규화시켜 DT 모형에 적합시키고, 정규화하지 않은 데이터와 성능 비교\n",
    "2. (titanic) DT 모형 적합시키고, 속성값들 변경하며 성능 비교"
   ]
  },
  {
   "cell_type": "code",
   "execution_count": null,
   "metadata": {},
   "outputs": [],
   "source": []
  }
 ],
 "metadata": {
  "kernelspec": {
   "display_name": "Python 3",
   "language": "python",
   "name": "python3"
  },
  "language_info": {
   "codemirror_mode": {
    "name": "ipython",
    "version": 3
   },
   "file_extension": ".py",
   "mimetype": "text/x-python",
   "name": "python",
   "nbconvert_exporter": "python",
   "pygments_lexer": "ipython3",
   "version": "3.8.8"
  }
 },
 "nbformat": 4,
 "nbformat_minor": 4
}
